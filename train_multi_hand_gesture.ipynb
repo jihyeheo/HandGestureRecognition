{
 "cells": [
  {
   "cell_type": "markdown",
   "metadata": {
    "id": "aTMPDp352kBV"
   },
   "source": [
    "# 🔥포스🔥\n",
    "\n",
    "### 위 게시글을 시리즈물📖입니다.  \n",
    "**[1편. OpenCV의 기초, Numpy와 Matplotlib](https://dacon.io/codeshare/4768?page=1&dtype=recent)**<br>\n",
    "**[2편. OpenCV 기초(이미지 입출력, 그리기, 창 관리, 이벤트 처리 등)](https://dacon.io/codeshare/4837?page=1&dtype=recent)**<br>\n",
    "**[3편. 이미지 프로세싱(컬러 스페이스, 스레시홀딩, 이미지 연산, 히스토그램)](https://dacon.io/codeshare/4858?page=1&dtype=recent)**<br>\n",
    "**[4편. OpenCV 기하학적 변환](https://dacon.io/codeshare/4875?page=1&dtype=recent)**<br>\n",
    "**[5편. OpenCV 영상필터](https://dacon.io/codeshare/4898?page=1&dtype=recent)**\n",
    "\n",
    "* 안녕하세요 :) 데이크루 2기 *포스팀*입니다!\n",
    "* 포스팀은 OpenCV 공부와 프로젝트를 같이 병행합니다! \n",
    "* 오늘은!! 포스팀이 만든 **프로젝트**를 발표하는 게시글입니다! \n",
    "\n",
    "\n",
    "**주제는!!!**\n",
    "\n",
    "## ✨\n",
    "## Multi Hand Gesture Reconition(두 손 동작 인식) \n",
    "## ✨\n",
    "\n",
    "\n",
    "## 목차\n",
    "### 1. 개요\n",
    "### 2. 데이터 설명\n",
    "### 3. 모형 설명\n",
    "### 4. 코드\n",
    "### 5. 과적합 방지 기법\n",
    "####    5-1) Dropout\n",
    "####    5-2) Batch Normalization\n",
    "####    5-3) Early Stopping\n",
    "####    5-4) L1, L2 규제\n",
    "### 6. 최종 모형\n",
    "### 7. 결론\n",
    "\n",
    "# 그럼 시작합니다 :)\n",
    "\n",
    "\n",
    "### 1. 개요\n",
    "\n",
    "코로나로 인해 비대면으로 진행되는 업무가 많이 생겼습니다. 가령 수업, 미팅 등 입니다. 이렇게 비대면 수요가 높아지다보니 영상에서 어떤 task를 이용한 사업들도 많이 나왔습니다. 최근 기사에서는 '비대면 술자리' 라는 콘텐츠로 화면에서 물체를 분류하거나 처리하여 게임에 적용하는 등 많은 사례가 나오고 있습니다. 이에, 동작을 인식하는 프로젝트를 하면서 실제 현업에서 적용된 사례를 간단하게나마 구현해보고 더 나아가 모든 비대면 업무 참가자들이 마이크나 채팅을 통해 대답하는 것보다 손 동작을 인식함으로써 효율적인 의사소통을 기대하는 마음으로 프로젝트를 진행하였습니다. \n",
    "\n",
    "\n",
    "\n",
    "### 2. 데이터 소개\n",
    "\n",
    "\n",
    "<img src =\"https://drive.google.com/uc?export=view&id=1JA1k8NBiVBDNNco5sZJwmAaTX5nXvhv_\">\n",
    "\n",
    "\n",
    "\n",
    "분류하고자 하는 손 동작 인식은 두 손을 이용한 동작 인식입니다. 사용한 동작은 총 4가지 입니다.\n",
    "\n",
    "- yes : 두 손을 동그랗게 모아 o를 나타내는 동작입니다.\n",
    "- no : 두 손을 cross하여 x를 나타내는 동작입니다.\n",
    "- like : 두 손으로 엄지척을 하는 동작입니다.\n",
    "- heart : 두 손으로 하트를 그리는 동작입니다.\n",
    "\n",
    "\n",
    "\n",
    "### 3. 모형 설명\n",
    "\n",
    "Base Model로 딥러닝 중 **LSTM(Long Short Term Memory)**을 사용하였습니다. 장/단기 기억을 가능하게 설계한 신경망 구조를 의미하는 LSTM은 주로 시계열 처리나 자연어 처리에 많이 사용되곤 합니다. 여기에서는 동작의 움직임을 frame 당으로 바꾸어 vector로 만들어 input으로 들어갑니다."
   ]
  },
  {
   "cell_type": "markdown",
   "metadata": {
    "id": "8aY5unlbpSLj"
   },
   "source": [
    "### 4. 코드"
   ]
  },
  {
   "cell_type": "markdown",
   "metadata": {
    "id": "PvQv5Kgw2kBl"
   },
   "source": [
    "#### 데이터 합치기\n",
    "\n",
    "위 단계에서는 yes, no, like, heart인 4가지 동작 각각의 인식을 담은 배열 npy 파일을 합치려고 합니다."
   ]
  },
  {
   "cell_type": "code",
   "execution_count": 3,
   "metadata": {
    "id": "3BTGncxj2kBo",
    "outputId": "b19abd93-7048-49b3-d3a7-7993115515da",
    "scrolled": true
   },
   "outputs": [
    {
     "name": "stdout",
     "output_type": "stream",
     "text": [
      "(1006, 10, 111)\n",
      "(770, 10, 111)\n",
      "(1073, 10, 111)\n",
      "(1143, 10, 111)\n"
     ]
    }
   ],
   "source": [
    "import numpy as np\n",
    "data_yes = np.load('dataset/seq_yes_1652512945.npy')\n",
    "data_no = np.load('dataset/seq_no_1652512945.npy')\n",
    "data_like = np.load('dataset/seq_like_1652512945.npy')\n",
    "data_heart = np.load('dataset/seq_heart_1652512945.npy')\n",
    "\n",
    "print(data_yes.shape)\n",
    "print(data_no.shape)\n",
    "print(data_like.shape)\n",
    "print(data_heart.shape)"
   ]
  },
  {
   "cell_type": "code",
   "execution_count": 4,
   "metadata": {
    "id": "yj5RmQfk2kBr",
    "outputId": "5df05e1b-f608-4d0b-ab5b-faf039a13b07",
    "scrolled": true
   },
   "outputs": [
    {
     "data": {
      "text/plain": [
       "(3992, 10, 111)"
      ]
     },
     "execution_count": 4,
     "metadata": {},
     "output_type": "execute_result"
    }
   ],
   "source": [
    "actions = ['yes', 'no', 'like', 'heart']\n",
    "\n",
    "data = np.concatenate([\n",
    "    np.load('dataset/seq_yes_1652512945.npy'),\n",
    "    np.load('dataset/seq_no_1652512945.npy'),\n",
    "    np.load('dataset/seq_like_1652512945.npy'),\n",
    "    np.load('dataset/seq_heart_1652512945.npy'),\n",
    "], axis=0)\n",
    "\n",
    "data.shape"
   ]
  },
  {
   "cell_type": "markdown",
   "metadata": {
    "id": "BX0KTjeL2kBt"
   },
   "source": [
    "#### 데이터 x, y 나누기"
   ]
  },
  {
   "cell_type": "code",
   "execution_count": 5,
   "metadata": {
    "id": "w0ls_ie02kBw",
    "outputId": "34adde1d-5a76-4f6a-b47d-33c09a36edbe"
   },
   "outputs": [
    {
     "name": "stdout",
     "output_type": "stream",
     "text": [
      "(3992, 10, 110)\n",
      "(3992,)\n"
     ]
    }
   ],
   "source": [
    "x_data = data[:, :, :-1]\n",
    "labels = data[:, 0, -1]\n",
    "\n",
    "print(x_data.shape)\n",
    "print(labels.shape)"
   ]
  },
  {
   "cell_type": "code",
   "execution_count": 6,
   "metadata": {
    "id": "J0Sn2fkipSMN",
    "outputId": "73c64cad-de05-49ee-8444-835c3703dbd7"
   },
   "outputs": [
    {
     "data": {
      "text/plain": [
       "array([0., 1., 2., 3.])"
      ]
     },
     "execution_count": 6,
     "metadata": {},
     "output_type": "execute_result"
    }
   ],
   "source": [
    "np.unique(labels)"
   ]
  },
  {
   "cell_type": "code",
   "execution_count": 7,
   "metadata": {
    "id": "AvyeJuOZ2kBy",
    "outputId": "fb265eed-f81f-4735-95f8-3e341ce0ea83"
   },
   "outputs": [
    {
     "data": {
      "text/plain": [
       "(3992, 4)"
      ]
     },
     "execution_count": 7,
     "metadata": {},
     "output_type": "execute_result"
    }
   ],
   "source": [
    "from tensorflow.keras.utils import to_categorical\n",
    "\n",
    "y_data = to_categorical(labels, num_classes=len(actions))\n",
    "y_data.shape"
   ]
  },
  {
   "cell_type": "markdown",
   "metadata": {
    "id": "E51SRxK_2kB7"
   },
   "source": [
    "#### X,y train_test_split"
   ]
  },
  {
   "cell_type": "code",
   "execution_count": 8,
   "metadata": {
    "id": "piB6zMd82kCA",
    "outputId": "7055903d-b0e0-42c2-a491-d7c8faf525f0",
    "scrolled": true
   },
   "outputs": [
    {
     "name": "stdout",
     "output_type": "stream",
     "text": [
      "(2994, 10, 110) (2994, 4)\n",
      "(998, 10, 110) (998, 4)\n"
     ]
    }
   ],
   "source": [
    "from sklearn.model_selection import train_test_split\n",
    "np.random.seed(1)\n",
    "\n",
    "x_data = x_data.astype(np.float32)\n",
    "y_data = y_data.astype(np.float32)\n",
    "\n",
    "x_train, x_val, y_train, y_val = train_test_split(x_data, y_data, test_size=0.25, random_state=42)\n",
    "\n",
    "print(x_train.shape, y_train.shape)\n",
    "print(x_val.shape, y_val.shape)"
   ]
  },
  {
   "cell_type": "markdown",
   "metadata": {
    "id": "nh5A7V9hpSMW"
   },
   "source": [
    "#### 판단 척도\n",
    "\n",
    "판단 척도는 **F1 score**를 사용하였습니다. **F1 score**는 정밀도와 재현율을 결합한 지표로 정밀도와 재현율이 어느 한 쪽으로 치우치지 않을 때 높은 값을 나타냅니다."
   ]
  },
  {
   "cell_type": "code",
   "execution_count": 9,
   "metadata": {
    "id": "-3GotKcppSMX"
   },
   "outputs": [],
   "source": [
    "import tensorflow as tf\n",
    "def metric_F1score(y_true,y_pred): \n",
    "    TP=tf.reduce_sum(y_true*tf.round(y_pred))\n",
    "    TN=tf.reduce_sum((1-y_true)*(1-tf.round(y_pred)))\n",
    "    FP=tf.reduce_sum((1-y_true)*tf.round(y_pred))\n",
    "    FN=tf.reduce_sum(y_true*(1-tf.round(y_pred)))\n",
    "    precision=TP/(TP+FP)\n",
    "    recall=TP/(TP+FN)\n",
    "    F1score=2*precision*recall/(precision+recall)\n",
    "    return F1score"
   ]
  },
  {
   "cell_type": "markdown",
   "metadata": {
    "id": "pM3_ekVq2kCC"
   },
   "source": [
    "####  Modeling"
   ]
  },
  {
   "cell_type": "code",
   "execution_count": 10,
   "metadata": {
    "id": "BXDy5Yce2kCE",
    "outputId": "9651f411-da51-40c5-db68-8f01904152d9",
    "scrolled": false
   },
   "outputs": [
    {
     "name": "stdout",
     "output_type": "stream",
     "text": [
      "Model: \"sequential\"\n",
      "_________________________________________________________________\n",
      "Layer (type)                 Output Shape              Param #   \n",
      "=================================================================\n",
      "lstm (LSTM)                  (None, 64)                44800     \n",
      "_________________________________________________________________\n",
      "dense (Dense)                (None, 32)                2080      \n",
      "_________________________________________________________________\n",
      "dense_1 (Dense)              (None, 4)                 132       \n",
      "=================================================================\n",
      "Total params: 47,012\n",
      "Trainable params: 47,012\n",
      "Non-trainable params: 0\n",
      "_________________________________________________________________\n"
     ]
    }
   ],
   "source": [
    "from tensorflow.keras.models import Sequential\n",
    "from tensorflow.keras.layers import LSTM, Dense, Dropout\n",
    "\n",
    "model = Sequential([\n",
    "    LSTM(64, activation='relu', input_shape=x_train.shape[1:3]),\n",
    "    Dense(32, activation='relu'),\n",
    "    Dense(len(actions), activation='softmax')\n",
    "])\n",
    "\n",
    "model.compile(optimizer='adam', loss='categorical_crossentropy', metrics=[metric_F1score])\n",
    "model.summary()"
   ]
  },
  {
   "cell_type": "markdown",
   "metadata": {
    "id": "FfZl6Yri2kCF"
   },
   "source": [
    "#### Training"
   ]
  },
  {
   "cell_type": "code",
   "execution_count": 11,
   "metadata": {
    "id": "oU2EUK-62kCF",
    "outputId": "0ff6b74b-5831-4736-efea-d54844a4a5f7",
    "scrolled": true
   },
   "outputs": [
    {
     "name": "stdout",
     "output_type": "stream",
     "text": [
      "Epoch 1/50\n",
      "94/94 [==============================] - 4s 23ms/step - loss: 13.8677 - metric_F1score: 0.5410 - val_loss: 0.3579 - val_metric_F1score: 0.9464\n",
      "\n",
      "Epoch 00001: val_metric_F1score improved from inf to 0.94638, saving model to models\\multi_hand_gesture_classifier.h5\n",
      "Epoch 2/50\n",
      "94/94 [==============================] - 0s 4ms/step - loss: 0.3314 - metric_F1score: 0.9440 - val_loss: 0.3499 - val_metric_F1score: 0.9606\n",
      "\n",
      "Epoch 00002: val_metric_F1score did not improve from 0.94638\n",
      "Epoch 3/50\n",
      "94/94 [==============================] - 0s 4ms/step - loss: 0.2374 - metric_F1score: 0.9675 - val_loss: 0.2332 - val_metric_F1score: 0.9678\n",
      "\n",
      "Epoch 00003: val_metric_F1score did not improve from 0.94638\n",
      "Epoch 4/50\n",
      "94/94 [==============================] - 0s 4ms/step - loss: 0.1276 - metric_F1score: 0.9764 - val_loss: 0.0599 - val_metric_F1score: 0.9762\n",
      "\n",
      "Epoch 00004: val_metric_F1score did not improve from 0.94638\n",
      "Epoch 5/50\n",
      "94/94 [==============================] - 0s 4ms/step - loss: 0.0904 - metric_F1score: 0.9824 - val_loss: 0.1162 - val_metric_F1score: 0.9688\n",
      "\n",
      "Epoch 00005: val_metric_F1score did not improve from 0.94638\n",
      "Epoch 6/50\n",
      "94/94 [==============================] - 0s 4ms/step - loss: 0.0857 - metric_F1score: 0.9807 - val_loss: 0.0660 - val_metric_F1score: 0.9821\n",
      "\n",
      "Epoch 00006: val_metric_F1score did not improve from 0.94638\n",
      "Epoch 7/50\n",
      "94/94 [==============================] - 0s 5ms/step - loss: 0.0368 - metric_F1score: 0.9887 - val_loss: 0.0543 - val_metric_F1score: 0.9792\n",
      "\n",
      "Epoch 00007: val_metric_F1score did not improve from 0.94638\n",
      "Epoch 8/50\n",
      "94/94 [==============================] - 0s 4ms/step - loss: 0.0135 - metric_F1score: 0.9969 - val_loss: 0.0600 - val_metric_F1score: 0.9811\n",
      "\n",
      "Epoch 00008: val_metric_F1score did not improve from 0.94638\n",
      "Epoch 9/50\n",
      "94/94 [==============================] - 0s 4ms/step - loss: 0.0367 - metric_F1score: 0.9954 - val_loss: 0.0415 - val_metric_F1score: 0.9889\n",
      "\n",
      "Epoch 00009: val_metric_F1score did not improve from 0.94638\n",
      "Epoch 10/50\n",
      "94/94 [==============================] - 0s 3ms/step - loss: 0.1661 - metric_F1score: 0.9877 - val_loss: 0.0821 - val_metric_F1score: 0.9858\n",
      "\n",
      "Epoch 00010: val_metric_F1score did not improve from 0.94638\n",
      "Epoch 11/50\n",
      "94/94 [==============================] - 0s 3ms/step - loss: 0.0772 - metric_F1score: 0.9862 - val_loss: 0.1225 - val_metric_F1score: 0.9850\n",
      "\n",
      "Epoch 00011: val_metric_F1score did not improve from 0.94638\n",
      "Epoch 12/50\n",
      "94/94 [==============================] - 0s 4ms/step - loss: 0.1030 - metric_F1score: 0.9940 - val_loss: 0.0112 - val_metric_F1score: 0.9966\n",
      "\n",
      "Epoch 00012: val_metric_F1score did not improve from 0.94638\n",
      "Epoch 13/50\n",
      "94/94 [==============================] - 0s 5ms/step - loss: 0.0063 - metric_F1score: 0.9977 - val_loss: 0.0190 - val_metric_F1score: 0.9961\n",
      "\n",
      "Epoch 00013: val_metric_F1score did not improve from 0.94638\n",
      "Epoch 14/50\n",
      "94/94 [==============================] - 0s 5ms/step - loss: 0.0176 - metric_F1score: 0.9978 - val_loss: 0.0060 - val_metric_F1score: 0.9971\n",
      "\n",
      "Epoch 00014: val_metric_F1score did not improve from 0.94638\n",
      "Epoch 15/50\n",
      "94/94 [==============================] - 0s 4ms/step - loss: 0.0012 - metric_F1score: 0.9997 - val_loss: 0.0084 - val_metric_F1score: 0.9971\n",
      "\n",
      "Epoch 00015: val_metric_F1score did not improve from 0.94638\n",
      "Epoch 16/50\n",
      "94/94 [==============================] - 0s 4ms/step - loss: 8.2754e-04 - metric_F1score: 1.0000 - val_loss: 0.0042 - val_metric_F1score: 0.9980\n",
      "\n",
      "Epoch 00016: val_metric_F1score did not improve from 0.94638\n",
      "Epoch 17/50\n",
      "94/94 [==============================] - 0s 4ms/step - loss: 8.5541e-04 - metric_F1score: 1.0000 - val_loss: 0.0072 - val_metric_F1score: 0.9971\n",
      "\n",
      "Epoch 00017: val_metric_F1score did not improve from 0.94638\n",
      "Epoch 18/50\n",
      "94/94 [==============================] - 0s 4ms/step - loss: 3.5970e-04 - metric_F1score: 1.0000 - val_loss: 0.0074 - val_metric_F1score: 0.9976\n",
      "\n",
      "Epoch 00018: val_metric_F1score did not improve from 0.94638\n",
      "Epoch 19/50\n",
      "94/94 [==============================] - 0s 4ms/step - loss: 3.5858e-04 - metric_F1score: 1.0000 - val_loss: 0.0082 - val_metric_F1score: 0.9971\n",
      "\n",
      "Epoch 00019: val_metric_F1score did not improve from 0.94638\n",
      "Epoch 20/50\n",
      "94/94 [==============================] - 0s 4ms/step - loss: 3.0717e-04 - metric_F1score: 1.0000 - val_loss: 0.0083 - val_metric_F1score: 0.9980\n",
      "\n",
      "Epoch 00020: val_metric_F1score did not improve from 0.94638\n",
      "Epoch 21/50\n",
      "94/94 [==============================] - 0s 4ms/step - loss: 2.6475e-04 - metric_F1score: 1.0000 - val_loss: 0.0080 - val_metric_F1score: 0.9980\n",
      "\n",
      "Epoch 00021: val_metric_F1score did not improve from 0.94638\n",
      "Epoch 22/50\n",
      "94/94 [==============================] - 0s 4ms/step - loss: 2.3796e-04 - metric_F1score: 1.0000 - val_loss: 0.0083 - val_metric_F1score: 0.9980\n",
      "\n",
      "Epoch 00022: val_metric_F1score did not improve from 0.94638\n",
      "Epoch 23/50\n",
      "94/94 [==============================] - 0s 4ms/step - loss: 1.7623e-04 - metric_F1score: 1.0000 - val_loss: 0.0086 - val_metric_F1score: 0.9980\n",
      "\n",
      "Epoch 00023: val_metric_F1score did not improve from 0.94638\n",
      "Epoch 24/50\n",
      "94/94 [==============================] - 0s 4ms/step - loss: 2.0264e-04 - metric_F1score: 1.0000 - val_loss: 0.0087 - val_metric_F1score: 0.9980\n",
      "\n",
      "Epoch 00024: val_metric_F1score did not improve from 0.94638\n",
      "Epoch 25/50\n",
      "94/94 [==============================] - 0s 4ms/step - loss: 1.3731e-04 - metric_F1score: 1.0000 - val_loss: 0.0088 - val_metric_F1score: 0.9980\n",
      "\n",
      "Epoch 00025: val_metric_F1score did not improve from 0.94638\n",
      "Epoch 26/50\n",
      "94/94 [==============================] - 0s 4ms/step - loss: 1.0649e-04 - metric_F1score: 1.0000 - val_loss: 0.0088 - val_metric_F1score: 0.9980\n",
      "\n",
      "Epoch 00026: val_metric_F1score did not improve from 0.94638\n",
      "Epoch 27/50\n",
      "94/94 [==============================] - 0s 4ms/step - loss: 1.4971e-04 - metric_F1score: 1.0000 - val_loss: 0.0091 - val_metric_F1score: 0.9980\n",
      "\n",
      "Epoch 00027: val_metric_F1score did not improve from 0.94638\n",
      "Epoch 28/50\n",
      "94/94 [==============================] - 0s 4ms/step - loss: 0.0238 - metric_F1score: 0.9971 - val_loss: 0.0541 - val_metric_F1score: 0.9941\n",
      "\n",
      "Epoch 00028: val_metric_F1score did not improve from 0.94638\n",
      "Epoch 29/50\n",
      "94/94 [==============================] - 0s 4ms/step - loss: 0.0514 - metric_F1score: 0.9958 - val_loss: 0.0532 - val_metric_F1score: 0.9922\n",
      "\n",
      "Epoch 00029: val_metric_F1score did not improve from 0.94638\n",
      "Epoch 30/50\n",
      "94/94 [==============================] - 0s 4ms/step - loss: 0.0306 - metric_F1score: 0.9932 - val_loss: 0.0125 - val_metric_F1score: 0.9961\n",
      "\n",
      "Epoch 00030: val_metric_F1score did not improve from 0.94638\n",
      "Epoch 31/50\n",
      "94/94 [==============================] - 0s 4ms/step - loss: 0.0011 - metric_F1score: 1.0000 - val_loss: 0.0097 - val_metric_F1score: 0.9976\n",
      "\n",
      "Epoch 00031: val_metric_F1score did not improve from 0.94638\n",
      "Epoch 32/50\n",
      "94/94 [==============================] - 0s 4ms/step - loss: 2.2168e-04 - metric_F1score: 1.0000 - val_loss: 0.0075 - val_metric_F1score: 0.9980\n",
      "\n",
      "Epoch 00032: val_metric_F1score did not improve from 0.94638\n",
      "Epoch 33/50\n",
      "94/94 [==============================] - 0s 4ms/step - loss: 4.2389e-05 - metric_F1score: 1.0000 - val_loss: 0.0069 - val_metric_F1score: 0.9980\n",
      "\n",
      "Epoch 00033: val_metric_F1score did not improve from 0.94638\n",
      "Epoch 34/50\n",
      "94/94 [==============================] - 0s 4ms/step - loss: 5.2109e-05 - metric_F1score: 1.0000 - val_loss: 0.0064 - val_metric_F1score: 0.9980\n",
      "\n",
      "Epoch 00034: val_metric_F1score did not improve from 0.94638\n",
      "Epoch 35/50\n",
      "94/94 [==============================] - 0s 3ms/step - loss: 4.0148e-05 - metric_F1score: 1.0000 - val_loss: 0.0081 - val_metric_F1score: 0.9971\n",
      "\n",
      "Epoch 00035: val_metric_F1score did not improve from 0.94638\n",
      "Epoch 36/50\n",
      "94/94 [==============================] - 0s 4ms/step - loss: 3.7949e-05 - metric_F1score: 1.0000 - val_loss: 0.0127 - val_metric_F1score: 0.9971\n",
      "\n",
      "Epoch 00036: val_metric_F1score did not improve from 0.94638\n",
      "Epoch 37/50\n",
      "94/94 [==============================] - 0s 4ms/step - loss: 4.5154e-05 - metric_F1score: 1.0000 - val_loss: 0.0151 - val_metric_F1score: 0.9971\n",
      "\n",
      "Epoch 00037: val_metric_F1score did not improve from 0.94638\n",
      "Epoch 38/50\n",
      "94/94 [==============================] - 0s 4ms/step - loss: 2.7465e-05 - metric_F1score: 1.0000 - val_loss: 0.0156 - val_metric_F1score: 0.9971\n"
     ]
    },
    {
     "name": "stdout",
     "output_type": "stream",
     "text": [
      "\n",
      "Epoch 00038: val_metric_F1score did not improve from 0.94638\n",
      "Epoch 39/50\n",
      "94/94 [==============================] - 0s 5ms/step - loss: 3.3617e-05 - metric_F1score: 1.0000 - val_loss: 0.0160 - val_metric_F1score: 0.9971\n",
      "\n",
      "Epoch 00039: val_metric_F1score did not improve from 0.94638\n",
      "Epoch 40/50\n",
      "94/94 [==============================] - 0s 4ms/step - loss: 1.4349e-05 - metric_F1score: 1.0000 - val_loss: 0.0164 - val_metric_F1score: 0.9971\n",
      "\n",
      "Epoch 00040: val_metric_F1score did not improve from 0.94638\n",
      "Epoch 41/50\n",
      "94/94 [==============================] - 0s 4ms/step - loss: 2.1713e-05 - metric_F1score: 1.0000 - val_loss: 0.0169 - val_metric_F1score: 0.9971\n",
      "\n",
      "Epoch 00041: val_metric_F1score did not improve from 0.94638\n",
      "Epoch 42/50\n",
      "94/94 [==============================] - 0s 4ms/step - loss: 2.4079e-05 - metric_F1score: 1.0000 - val_loss: 0.0173 - val_metric_F1score: 0.9971\n",
      "\n",
      "Epoch 00042: val_metric_F1score did not improve from 0.94638\n",
      "Epoch 43/50\n",
      "94/94 [==============================] - 0s 4ms/step - loss: 2.3142e-05 - metric_F1score: 1.0000 - val_loss: 0.0177 - val_metric_F1score: 0.9971\n",
      "\n",
      "Epoch 00043: val_metric_F1score did not improve from 0.94638\n",
      "Epoch 44/50\n",
      "94/94 [==============================] - 0s 4ms/step - loss: 2.4874e-05 - metric_F1score: 1.0000 - val_loss: 0.0180 - val_metric_F1score: 0.9976\n",
      "\n",
      "Epoch 00044: val_metric_F1score did not improve from 0.94638\n",
      "Epoch 45/50\n",
      "94/94 [==============================] - 0s 5ms/step - loss: 1.3914e-05 - metric_F1score: 1.0000 - val_loss: 0.0184 - val_metric_F1score: 0.9985\n",
      "\n",
      "Epoch 00045: val_metric_F1score did not improve from 0.94638\n",
      "Epoch 46/50\n",
      "94/94 [==============================] - 0s 4ms/step - loss: 1.5060e-05 - metric_F1score: 1.0000 - val_loss: 0.0188 - val_metric_F1score: 0.9980\n",
      "\n",
      "Epoch 00046: val_metric_F1score did not improve from 0.94638\n",
      "Epoch 47/50\n",
      "94/94 [==============================] - 0s 4ms/step - loss: 1.6175e-05 - metric_F1score: 1.0000 - val_loss: 0.0192 - val_metric_F1score: 0.9980\n",
      "\n",
      "Epoch 00047: val_metric_F1score did not improve from 0.94638\n",
      "Epoch 48/50\n",
      "94/94 [==============================] - 0s 5ms/step - loss: 1.7828e-05 - metric_F1score: 1.0000 - val_loss: 0.0197 - val_metric_F1score: 0.9980\n",
      "\n",
      "Epoch 00048: val_metric_F1score did not improve from 0.94638\n",
      "Epoch 49/50\n",
      "94/94 [==============================] - 0s 4ms/step - loss: 6.3859e-06 - metric_F1score: 1.0000 - val_loss: 0.0202 - val_metric_F1score: 0.9980\n",
      "\n",
      "Epoch 00049: val_metric_F1score did not improve from 0.94638\n",
      "Epoch 50/50\n",
      "94/94 [==============================] - 0s 5ms/step - loss: 1.3694e-05 - metric_F1score: 1.0000 - val_loss: 0.0208 - val_metric_F1score: 0.9980\n",
      "\n",
      "Epoch 00050: val_metric_F1score did not improve from 0.94638\n"
     ]
    }
   ],
   "source": [
    "from tensorflow.keras.callbacks import ModelCheckpoint, ReduceLROnPlateau\n",
    "\n",
    "history = model.fit(\n",
    "    x_train,\n",
    "    y_train,\n",
    "    validation_data=(x_val, y_val),\n",
    "    epochs=50,\n",
    "    callbacks=[\n",
    "        ModelCheckpoint('models/multi_hand_gesture_classifier.h5', monitor='val_metric_F1score', verbose=1, save_best_only=True, mode='auto'),\n",
    "        ReduceLROnPlateau(monitor='val_metric_F1score', factor=0.5, patience=50, verbose=1, mode='auto')\n",
    "    ]\n",
    ")"
   ]
  },
  {
   "cell_type": "markdown",
   "metadata": {
    "id": "6KI1GHvY2kCJ"
   },
   "source": [
    "####  Results Analysis"
   ]
  },
  {
   "cell_type": "code",
   "execution_count": 12,
   "metadata": {
    "id": "ryE9NZb02kCJ",
    "outputId": "9d2b1407-5964-426f-c98f-2dca01c9ccd8"
   },
   "outputs": [
    {
     "data": {
      "image/png": "[encoded data removed]",
      "text/plain": [
       "<Figure size 1152x720 with 2 Axes>"
      ]
     },
     "metadata": {
      "needs_background": "light"
     },
     "output_type": "display_data"
    }
   ],
   "source": [
    "import matplotlib.pyplot as plt\n",
    "\n",
    "fig, loss_ax = plt.subplots(figsize=(16, 10))\n",
    "acc_ax = loss_ax.twinx()\n",
    "\n",
    "loss_ax.set_xlabel('epoch')\n",
    "loss_ax.set_ylabel('loss')\n",
    "\n",
    "acc_ax.plot(history.history['metric_F1score'], 'b', label='train f1')\n",
    "acc_ax.plot(history.history['val_metric_F1score'], 'g', label='val f1')\n",
    "acc_ax.set_ylabel('f1-score')\n",
    "acc_ax.legend(loc='upper left')\n",
    "\n",
    "plt.show()"
   ]
  },
  {
   "cell_type": "code",
   "execution_count": 13,
   "metadata": {
    "id": "6SnjKeNw2kCL",
    "outputId": "f63b7009-913c-406c-e523-08c88c231f58"
   },
   "outputs": [
    {
     "data": {
      "text/plain": [
       "array([[[731,   0],\n",
       "        [  0, 267]],\n",
       "\n",
       "       [[796,   1],\n",
       "        [  0, 201]],\n",
       "\n",
       "       [[731,   0],\n",
       "        [  1, 266]],\n",
       "\n",
       "       [[734,   1],\n",
       "        [  1, 262]]], dtype=int64)"
      ]
     },
     "execution_count": 13,
     "metadata": {},
     "output_type": "execute_result"
    }
   ],
   "source": [
    "from sklearn.metrics import multilabel_confusion_matrix\n",
    "from tensorflow.keras.models import load_model\n",
    "\n",
    "y_pred = model.predict(x_val)\n",
    "multilabel_confusion_matrix(np.argmax(y_val, axis=1), np.argmax(y_pred, axis=1))"
   ]
  },
  {
   "cell_type": "markdown",
   "metadata": {
    "id": "9Q4iZ2vp2kCM"
   },
   "source": [
    "결과를 살펴보면 엄청난 과적합이 일어난 것을 확인할 수 있습니다. 이를 과적합 방지 기법을 이용하여 살펴보겠습니다."
   ]
  },
  {
   "cell_type": "markdown",
   "metadata": {
    "id": "GTb19b0S2kCO"
   },
   "source": [
    "### 5. 과적합 방지 기법\n",
    "\n",
    "####  5-1) Dropout\n",
    "\n",
    "Dropout이란 서로 연결된 연결망에서 0부터 1사이의 확률로 선택적으로 노드를 제거하는 기법입니다.\n",
    "\n",
    "좀 더 쉽게 설명하자면 너무 똑똑해지는 것을 방지하기 위해 (**과적합방지**) 인간처럼 기억을 잊어버릴 수 있게 한 것을 의미합니다.\n",
    "\n",
    "Dropout을 적용하여 상관관계가 강한 Feature를 제외하고 학습해도 좋은 출력값을 얻을 수 있도록 최적화되었다면, 해당 Feature에만 출력값이 영향을 미치는 과대적합을 방지할 수 있습니다.\n",
    "\n",
    "<img src =\"https://drive.google.com/uc?export=view&id=14zvrerxFy0kvBfV7qpOM2rpdo9xu_j8L\">\n",
    "\n",
    "기존 모형에 이미 dropout 기법이 들어있지만 들어있는 계수의 값이 작다고 생각이 들어 값을 올려서 진행을 하도록 하겠습니다.\n",
    "\n",
    "- **tensorflow.layer.Dropout(rate, noise_shape=None, seed=None, **kwargs)**\n",
    "    - rate : 0과 1 사이의 부동 소수점, 삭제할 입력 단위의 비율\n",
    "    - noise_shape : 입력과 곱할 바이너리 드롭아웃 마스크 모양을 나타내는 1D 정수 텐서\n",
    "    - seed : 임의의 seed"
   ]
  },
  {
   "cell_type": "code",
   "execution_count": 14,
   "metadata": {
    "id": "VheC8ZTs2kCP"
   },
   "outputs": [],
   "source": [
    "# 수정 요망\n",
    "from tensorflow.keras.models import Sequential\n",
    "from tensorflow.keras.layers import LSTM, Dense, Dropout\n",
    "\n",
    "model2 = Sequential([\n",
    "    LSTM(64, activation='relu', input_shape=x_train.shape[1:3]),\n",
    "    Dropout(0.3),\n",
    "    Dense(32, activation='relu'),\n",
    "    Dropout(0.3),\n",
    "    Dense(len(actions), activation='softmax')\n",
    "])\n",
    "\n",
    "model2.compile(optimizer='adam', loss='categorical_crossentropy', metrics=['acc', metric_F1score])"
   ]
  },
  {
   "cell_type": "code",
   "execution_count": 15,
   "metadata": {
    "id": "pugCsdpg2kCR",
    "outputId": "2f521db0-cd2c-4f8a-d126-4383c910cc8a"
   },
   "outputs": [
    {
     "name": "stdout",
     "output_type": "stream",
     "text": [
      "Epoch 1/50\n",
      "94/94 [==============================] - 2s 8ms/step - loss: 19.2340 - acc: 0.3760 - metric_F1score: 0.3743 - val_loss: 0.6885 - val_acc: 0.8267 - val_metric_F1score: 0.8268\n",
      "\n",
      "Epoch 00001: val_acc improved from -inf to 0.82665, saving model to models\\multi_hand_gesture_classifier.h5\n",
      "Epoch 2/50\n",
      "94/94 [==============================] - 0s 5ms/step - loss: 1.9495 - acc: 0.6332 - metric_F1score: 0.6351 - val_loss: 0.2451 - val_acc: 0.9218 - val_metric_F1score: 0.9255\n",
      "\n",
      "Epoch 00002: val_acc improved from 0.82665 to 0.92184, saving model to models\\multi_hand_gesture_classifier.h5\n",
      "Epoch 3/50\n",
      "94/94 [==============================] - 0s 5ms/step - loss: 0.9478 - acc: 0.7707 - metric_F1score: 0.7680 - val_loss: 0.0828 - val_acc: 0.9810 - val_metric_F1score: 0.9824\n",
      "\n",
      "Epoch 00003: val_acc improved from 0.92184 to 0.98096, saving model to models\\multi_hand_gesture_classifier.h5\n",
      "Epoch 4/50\n",
      "94/94 [==============================] - 0s 5ms/step - loss: 0.6475 - acc: 0.8255 - metric_F1score: 0.8274 - val_loss: 0.0648 - val_acc: 0.9830 - val_metric_F1score: 0.9838\n",
      "\n",
      "Epoch 00004: val_acc improved from 0.98096 to 0.98297, saving model to models\\multi_hand_gesture_classifier.h5\n",
      "Epoch 5/50\n",
      "94/94 [==============================] - 0s 5ms/step - loss: 0.4035 - acc: 0.8832 - metric_F1score: 0.8849 - val_loss: 0.0703 - val_acc: 0.9850 - val_metric_F1score: 0.9858\n",
      "\n",
      "Epoch 00005: val_acc improved from 0.98297 to 0.98497, saving model to models\\multi_hand_gesture_classifier.h5\n",
      "Epoch 6/50\n",
      "94/94 [==============================] - 0s 5ms/step - loss: 0.2961 - acc: 0.9131 - metric_F1score: 0.9135 - val_loss: 0.0374 - val_acc: 0.9890 - val_metric_F1score: 0.9888\n",
      "\n",
      "Epoch 00006: val_acc improved from 0.98497 to 0.98898, saving model to models\\multi_hand_gesture_classifier.h5\n",
      "Epoch 7/50\n",
      "94/94 [==============================] - 0s 5ms/step - loss: 0.2598 - acc: 0.9358 - metric_F1score: 0.9378 - val_loss: 0.0327 - val_acc: 0.9890 - val_metric_F1score: 0.9888\n",
      "\n",
      "Epoch 00007: val_acc did not improve from 0.98898\n",
      "Epoch 8/50\n",
      "94/94 [==============================] - 0s 5ms/step - loss: 0.1789 - acc: 0.9543 - metric_F1score: 0.9495 - val_loss: 0.1114 - val_acc: 0.9820 - val_metric_F1score: 0.9782\n",
      "\n",
      "Epoch 00008: val_acc did not improve from 0.98898\n",
      "Epoch 9/50\n",
      "94/94 [==============================] - 1s 6ms/step - loss: 0.2915 - acc: 0.9546 - metric_F1score: 0.9530 - val_loss: 0.0204 - val_acc: 0.9960 - val_metric_F1score: 0.9961\n",
      "\n",
      "Epoch 00009: val_acc improved from 0.98898 to 0.99599, saving model to models\\multi_hand_gesture_classifier.h5\n",
      "Epoch 10/50\n",
      "94/94 [==============================] - 1s 6ms/step - loss: 0.1855 - acc: 0.9749 - metric_F1score: 0.9752 - val_loss: 0.0102 - val_acc: 0.9980 - val_metric_F1score: 0.9980\n",
      "\n",
      "Epoch 00010: val_acc improved from 0.99599 to 0.99800, saving model to models\\multi_hand_gesture_classifier.h5\n",
      "Epoch 11/50\n",
      "94/94 [==============================] - 1s 7ms/step - loss: 0.0751 - acc: 0.9794 - metric_F1score: 0.9783 - val_loss: 0.0088 - val_acc: 0.9990 - val_metric_F1score: 0.9990\n",
      "\n",
      "Epoch 00011: val_acc improved from 0.99800 to 0.99900, saving model to models\\multi_hand_gesture_classifier.h5\n",
      "Epoch 12/50\n",
      "94/94 [==============================] - 1s 6ms/step - loss: 0.0635 - acc: 0.9834 - metric_F1score: 0.9829 - val_loss: 0.0085 - val_acc: 0.9990 - val_metric_F1score: 0.9990\n",
      "\n",
      "Epoch 00012: val_acc did not improve from 0.99900\n",
      "Epoch 13/50\n",
      "94/94 [==============================] - 0s 5ms/step - loss: 0.0590 - acc: 0.9881 - metric_F1score: 0.9866 - val_loss: 0.0086 - val_acc: 0.9990 - val_metric_F1score: 0.9990\n",
      "\n",
      "Epoch 00013: val_acc did not improve from 0.99900\n",
      "Epoch 14/50\n",
      "94/94 [==============================] - 0s 5ms/step - loss: 0.0583 - acc: 0.9814 - metric_F1score: 0.9818 - val_loss: 0.0074 - val_acc: 0.9990 - val_metric_F1score: 0.9990\n",
      "\n",
      "Epoch 00014: val_acc did not improve from 0.99900\n",
      "Epoch 15/50\n",
      "94/94 [==============================] - 0s 5ms/step - loss: 0.0635 - acc: 0.9887 - metric_F1score: 0.9886 - val_loss: 0.0068 - val_acc: 0.9990 - val_metric_F1score: 0.9990\n",
      "\n",
      "Epoch 00015: val_acc did not improve from 0.99900\n",
      "Epoch 16/50\n",
      "94/94 [==============================] - 0s 5ms/step - loss: 0.0670 - acc: 0.9846 - metric_F1score: 0.9828 - val_loss: 0.0056 - val_acc: 0.9990 - val_metric_F1score: 0.9990\n",
      "\n",
      "Epoch 00016: val_acc did not improve from 0.99900\n",
      "Epoch 17/50\n",
      "94/94 [==============================] - 0s 5ms/step - loss: 0.0375 - acc: 0.9882 - metric_F1score: 0.9872 - val_loss: 0.0073 - val_acc: 0.9980 - val_metric_F1score: 0.9980\n",
      "\n",
      "Epoch 00017: val_acc did not improve from 0.99900\n",
      "Epoch 18/50\n",
      "94/94 [==============================] - 0s 5ms/step - loss: 0.0571 - acc: 0.9791 - metric_F1score: 0.9784 - val_loss: 0.1019 - val_acc: 0.9960 - val_metric_F1score: 0.9966\n",
      "\n",
      "Epoch 00018: val_acc did not improve from 0.99900\n",
      "Epoch 19/50\n",
      "94/94 [==============================] - 0s 5ms/step - loss: 0.2768 - acc: 0.9725 - metric_F1score: 0.9709 - val_loss: 0.0114 - val_acc: 0.9970 - val_metric_F1score: 0.9971\n",
      "\n",
      "Epoch 00019: val_acc did not improve from 0.99900\n",
      "Epoch 20/50\n",
      "94/94 [==============================] - 0s 5ms/step - loss: 0.1077 - acc: 0.9764 - metric_F1score: 0.9756 - val_loss: 0.0108 - val_acc: 0.9960 - val_metric_F1score: 0.9961\n",
      "\n",
      "Epoch 00020: val_acc did not improve from 0.99900\n",
      "Epoch 21/50\n",
      "94/94 [==============================] - 0s 5ms/step - loss: 0.1008 - acc: 0.9773 - metric_F1score: 0.9777 - val_loss: 0.0060 - val_acc: 0.9970 - val_metric_F1score: 0.9971\n",
      "\n",
      "Epoch 00021: val_acc did not improve from 0.99900\n",
      "Epoch 22/50\n",
      "94/94 [==============================] - 0s 5ms/step - loss: 0.1026 - acc: 0.9847 - metric_F1score: 0.9831 - val_loss: 0.0090 - val_acc: 0.9980 - val_metric_F1score: 0.9980\n",
      "\n",
      "Epoch 00022: val_acc did not improve from 0.99900\n",
      "Epoch 23/50\n",
      "94/94 [==============================] - 1s 6ms/step - loss: 0.0695 - acc: 0.9864 - metric_F1score: 0.9852 - val_loss: 0.0082 - val_acc: 0.9970 - val_metric_F1score: 0.9971\n",
      "\n",
      "Epoch 00023: val_acc did not improve from 0.99900\n",
      "Epoch 24/50\n",
      "94/94 [==============================] - 0s 5ms/step - loss: 0.0325 - acc: 0.9846 - metric_F1score: 0.9852 - val_loss: 0.0059 - val_acc: 0.9970 - val_metric_F1score: 0.9971\n",
      "\n",
      "Epoch 00024: val_acc did not improve from 0.99900\n",
      "Epoch 25/50\n",
      "94/94 [==============================] - 1s 5ms/step - loss: 0.0282 - acc: 0.9888 - metric_F1score: 0.9886 - val_loss: 0.0045 - val_acc: 0.9990 - val_metric_F1score: 0.9990\n",
      "\n",
      "Epoch 00025: val_acc did not improve from 0.99900\n",
      "Epoch 26/50\n",
      "94/94 [==============================] - 0s 5ms/step - loss: 0.0419 - acc: 0.9894 - metric_F1score: 0.9867 - val_loss: 0.0030 - val_acc: 0.9990 - val_metric_F1score: 0.9990\n",
      "\n",
      "Epoch 00026: val_acc did not improve from 0.99900\n",
      "Epoch 27/50\n",
      "94/94 [==============================] - 0s 5ms/step - loss: 0.0195 - acc: 0.9924 - metric_F1score: 0.9907 - val_loss: 0.0085 - val_acc: 0.9980 - val_metric_F1score: 0.9980\n",
      "\n",
      "Epoch 00027: val_acc did not improve from 0.99900\n",
      "Epoch 28/50\n",
      "94/94 [==============================] - 0s 5ms/step - loss: 0.0281 - acc: 0.9913 - metric_F1score: 0.9909 - val_loss: 0.0083 - val_acc: 0.9980 - val_metric_F1score: 0.9980\n",
      "\n",
      "Epoch 00028: val_acc did not improve from 0.99900\n",
      "Epoch 29/50\n",
      "94/94 [==============================] - 0s 5ms/step - loss: 0.0181 - acc: 0.9947 - metric_F1score: 0.9939 - val_loss: 0.0021 - val_acc: 0.9990 - val_metric_F1score: 0.9990\n",
      "\n",
      "Epoch 00029: val_acc did not improve from 0.99900\n",
      "Epoch 30/50\n",
      "94/94 [==============================] - 0s 5ms/step - loss: 0.0211 - acc: 0.9944 - metric_F1score: 0.9933 - val_loss: 0.0016 - val_acc: 0.9990 - val_metric_F1score: 0.9990\n",
      "\n",
      "Epoch 00030: val_acc did not improve from 0.99900\n",
      "Epoch 31/50\n",
      "94/94 [==============================] - 0s 5ms/step - loss: 0.0755 - acc: 0.9874 - metric_F1score: 0.9864 - val_loss: 0.0141 - val_acc: 0.9960 - val_metric_F1score: 0.9961\n",
      "\n",
      "Epoch 00031: val_acc did not improve from 0.99900\n",
      "Epoch 32/50\n",
      "94/94 [==============================] - 0s 5ms/step - loss: 0.0489 - acc: 0.9907 - metric_F1score: 0.9888 - val_loss: 0.0050 - val_acc: 0.9990 - val_metric_F1score: 0.9990\n",
      "\n",
      "Epoch 00032: val_acc did not improve from 0.99900\n",
      "Epoch 33/50\n",
      "94/94 [==============================] - 0s 5ms/step - loss: 0.0316 - acc: 0.9927 - metric_F1score: 0.9908 - val_loss: 0.0036 - val_acc: 0.9990 - val_metric_F1score: 0.9990\n",
      "\n",
      "Epoch 00033: val_acc did not improve from 0.99900\n",
      "Epoch 34/50\n",
      "94/94 [==============================] - 0s 5ms/step - loss: 0.0291 - acc: 0.9943 - metric_F1score: 0.9923 - val_loss: 7.0212e-04 - val_acc: 1.0000 - val_metric_F1score: 1.0000\n",
      "\n",
      "Epoch 00034: val_acc improved from 0.99900 to 1.00000, saving model to models\\multi_hand_gesture_classifier.h5\n",
      "Epoch 35/50\n",
      "94/94 [==============================] - 0s 5ms/step - loss: 0.0140 - acc: 0.9949 - metric_F1score: 0.9940 - val_loss: 2.5175e-06 - val_acc: 1.0000 - val_metric_F1score: 1.0000\n",
      "\n",
      "Epoch 00035: val_acc did not improve from 1.00000\n",
      "Epoch 36/50\n",
      "94/94 [==============================] - 0s 5ms/step - loss: 0.0268 - acc: 0.9930 - metric_F1score: 0.9924 - val_loss: 0.0065 - val_acc: 0.9980 - val_metric_F1score: 0.9980\n",
      "\n",
      "Epoch 00036: val_acc did not improve from 1.00000\n",
      "Epoch 37/50\n",
      "94/94 [==============================] - 0s 5ms/step - loss: 0.0659 - acc: 0.9824 - metric_F1score: 0.9810 - val_loss: 7.7843e-04 - val_acc: 1.0000 - val_metric_F1score: 1.0000\n",
      "\n",
      "Epoch 00037: val_acc did not improve from 1.00000\n",
      "Epoch 38/50\n",
      "94/94 [==============================] - 0s 5ms/step - loss: 0.0319 - acc: 0.9933 - metric_F1score: 0.9930 - val_loss: 0.0017 - val_acc: 0.9990 - val_metric_F1score: 0.9990\n",
      "\n",
      "Epoch 00038: val_acc did not improve from 1.00000\n",
      "Epoch 39/50\n",
      "94/94 [==============================] - 0s 5ms/step - loss: 0.0830 - acc: 0.9909 - metric_F1score: 0.9909 - val_loss: 0.0100 - val_acc: 0.9980 - val_metric_F1score: 0.9980\n",
      "\n",
      "Epoch 00039: val_acc did not improve from 1.00000\n",
      "Epoch 40/50\n",
      "94/94 [==============================] - 1s 6ms/step - loss: 0.0337 - acc: 0.9929 - metric_F1score: 0.9919 - val_loss: 0.0018 - val_acc: 1.0000 - val_metric_F1score: 1.0000\n",
      "\n",
      "Epoch 00040: val_acc did not improve from 1.00000\n",
      "Epoch 41/50\n",
      "94/94 [==============================] - 0s 5ms/step - loss: 0.0403 - acc: 0.9892 - metric_F1score: 0.9892 - val_loss: 0.1927 - val_acc: 0.9980 - val_metric_F1score: 0.9980\n",
      "\n",
      "Epoch 00041: val_acc did not improve from 1.00000\n",
      "Epoch 42/50\n",
      "94/94 [==============================] - 0s 4ms/step - loss: 0.2192 - acc: 0.9870 - metric_F1score: 0.9875 - val_loss: 0.0018 - val_acc: 1.0000 - val_metric_F1score: 1.0000\n",
      "\n",
      "Epoch 00042: val_acc did not improve from 1.00000\n",
      "Epoch 43/50\n",
      "94/94 [==============================] - 1s 5ms/step - loss: 0.0317 - acc: 0.9942 - metric_F1score: 0.9942 - val_loss: 1.7428e-04 - val_acc: 1.0000 - val_metric_F1score: 1.0000\n",
      "\n",
      "Epoch 00043: val_acc did not improve from 1.00000\n",
      "Epoch 44/50\n",
      "94/94 [==============================] - 0s 5ms/step - loss: 0.0250 - acc: 0.9930 - metric_F1score: 0.9932 - val_loss: 6.1630e-05 - val_acc: 1.0000 - val_metric_F1score: 1.0000\n",
      "\n",
      "Epoch 00044: val_acc did not improve from 1.00000\n",
      "Epoch 45/50\n",
      "94/94 [==============================] - 0s 5ms/step - loss: 0.0853 - acc: 0.9960 - metric_F1score: 0.9960 - val_loss: 4.4474e-05 - val_acc: 1.0000 - val_metric_F1score: 1.0000\n",
      "\n",
      "Epoch 00045: val_acc did not improve from 1.00000\n",
      "Epoch 46/50\n",
      "94/94 [==============================] - 0s 5ms/step - loss: 0.0206 - acc: 0.9952 - metric_F1score: 0.9951 - val_loss: 3.5769e-05 - val_acc: 1.0000 - val_metric_F1score: 1.0000\n",
      "\n",
      "Epoch 00046: val_acc did not improve from 1.00000\n",
      "Epoch 47/50\n",
      "94/94 [==============================] - 0s 5ms/step - loss: 0.0129 - acc: 0.9962 - metric_F1score: 0.9966 - val_loss: 1.1531e-05 - val_acc: 1.0000 - val_metric_F1score: 1.0000\n",
      "\n",
      "Epoch 00047: val_acc did not improve from 1.00000\n",
      "Epoch 48/50\n",
      "94/94 [==============================] - 0s 5ms/step - loss: 0.0177 - acc: 0.9934 - metric_F1score: 0.9935 - val_loss: 2.8505e-06 - val_acc: 1.0000 - val_metric_F1score: 1.0000\n",
      "\n",
      "Epoch 00048: val_acc did not improve from 1.00000\n",
      "Epoch 49/50\n",
      "94/94 [==============================] - 1s 5ms/step - loss: 0.0078 - acc: 0.9993 - metric_F1score: 0.9995 - val_loss: 6.0747e-05 - val_acc: 1.0000 - val_metric_F1score: 1.0000\n",
      "\n",
      "Epoch 00049: val_acc did not improve from 1.00000\n",
      "Epoch 50/50\n",
      "94/94 [==============================] - 0s 5ms/step - loss: 0.1372 - acc: 0.9842 - metric_F1score: 0.9846 - val_loss: 0.0097 - val_acc: 0.9980 - val_metric_F1score: 0.9980\n",
      "\n",
      "Epoch 00050: val_acc did not improve from 1.00000\n"
     ]
    }
   ],
   "source": [
    "from tensorflow.keras.callbacks import ModelCheckpoint, ReduceLROnPlateau\n",
    "\n",
    "history = model2.fit(\n",
    "    x_train,\n",
    "    y_train,\n",
    "    validation_data=(x_val, y_val),\n",
    "    epochs=50,\n",
    "    callbacks=[\n",
    "        ModelCheckpoint('models/multi_hand_gesture_classifier.h5', monitor='val_acc', verbose=1, save_best_only=True, mode='auto'),\n",
    "        ReduceLROnPlateau(monitor='val_metric_F1score', factor=0.5, patience=50, verbose=1, mode='auto')\n",
    "    ]\n",
    ")"
   ]
  },
  {
   "cell_type": "code",
   "execution_count": 16,
   "metadata": {
    "id": "QmMhklzI2kCT",
    "outputId": "5c3d0ae5-4a6b-461f-a6f7-b1c42cb581c1"
   },
   "outputs": [
    {
     "data": {
      "image/png": "[encoded data removed]",
      "text/plain": [
       "<Figure size 1152x720 with 2 Axes>"
      ]
     },
     "metadata": {
      "needs_background": "light"
     },
     "output_type": "display_data"
    }
   ],
   "source": [
    "import matplotlib.pyplot as plt\n",
    "\n",
    "fig, loss_ax = plt.subplots(figsize=(16, 10))\n",
    "acc_ax = loss_ax.twinx()\n",
    "\n",
    "loss_ax.set_xlabel('epoch')\n",
    "loss_ax.set_ylabel('loss')\n",
    "\n",
    "acc_ax.plot(history.history['metric_F1score'], 'b', label='train f1')\n",
    "acc_ax.plot(history.history['val_metric_F1score'], 'g', label='val f1')\n",
    "acc_ax.set_ylabel('f1-score')\n",
    "acc_ax.legend(loc='upper left')\n",
    "\n",
    "plt.show()"
   ]
  },
  {
   "cell_type": "markdown",
   "metadata": {
    "id": "ncLlnK8V2kCV"
   },
   "source": [
    "훨씬 요동치는 사실을 알게 되었습니다."
   ]
  },
  {
   "cell_type": "markdown",
   "metadata": {
    "id": "NovsrRN12kCW"
   },
   "source": [
    "#### 5-2) Batch Normalization\n",
    "\n",
    "Batch Normalization은 배치 정규화라고 합니다. 이는 2015년에 제안된 방법인데 효과가 입증되어 많이 쓰이는 기법입니다. 배치 정규화는 과적합을 방지하고 초기값에 크게 의존하지 않으며 학습 속도가 개선되는 장점도 가지고 있습니다.\n",
    "\n",
    "- **tf.keras.layers.BatchNormalization(\n",
    "    axis=-1,\n",
    "    momentum=0.99,\n",
    "    epsilon=0.001,\n",
    "    center=True,\n",
    "    scale=True,\n",
    "    beta_initializer=\"zeros\",\n",
    "    gamma_initializer=\"ones\",\n",
    "    moving_mean_initializer=\"zeros\",\n",
    "    moving_variance_initializer=\"ones\",\n",
    "    beta_regularizer=None,\n",
    "    gamma_regularizer=None,\n",
    "    beta_constraint=None,\n",
    "    gamma_constraint=None,\n",
    "    **kwargs\n",
    ")**\n",
    "\n",
    "- 기본 값만 해도 엄청 많습니다. "
   ]
  },
  {
   "cell_type": "code",
   "execution_count": null,
   "metadata": {
    "id": "fhUzS35Q2kCW"
   },
   "outputs": [],
   "source": [
    "from tensorflow.keras.models import Sequential\n",
    "from tensorflow.keras.layers import BatchNormalization\n",
    "\n",
    "model3 = Sequential([\n",
    "    LSTM(64, activation='relu', input_shape=x_train.shape[1:3]),\n",
    "    Dropout(0.2),\n",
    "    BatchNormalization(),\n",
    "    Dense(32, activation='relu'),\n",
    "    Dropout(0.2),\n",
    "    BatchNormalization(),\n",
    "    Dense(len(actions), activation='softmax')\n",
    "])\n",
    "\n",
    "model3.compile(optimizer='adam', loss='categorical_crossentropy', metrics=['acc', metric_F1score])"
   ]
  },
  {
   "cell_type": "code",
   "execution_count": null,
   "metadata": {
    "id": "KgZMhFhs2kCX",
    "outputId": "89fe32ea-5893-4c78-e5fd-3d475d52737c"
   },
   "outputs": [
    {
     "name": "stdout",
     "output_type": "stream",
     "text": [
      "Epoch 1/50\n",
      "94/94 [==============================] - 3s 8ms/step - loss: 1.0378 - acc: 0.6027 - metric_F1score: 0.5568 - val_loss: 0.3039 - val_acc: 0.9058 - val_metric_F1score: 0.9041\n",
      "\n",
      "Epoch 00001: val_acc improved from -inf to 0.90581, saving model to models\\multi_hand_gesture_classifier.h5\n",
      "Epoch 2/50\n",
      "94/94 [==============================] - 0s 5ms/step - loss: 0.3998 - acc: 0.8692 - metric_F1score: 0.8573 - val_loss: 0.2878 - val_acc: 0.9259 - val_metric_F1score: 0.9230\n",
      "\n",
      "Epoch 00002: val_acc improved from 0.90581 to 0.92585, saving model to models\\multi_hand_gesture_classifier.h5\n",
      "Epoch 3/50\n",
      "94/94 [==============================] - 0s 4ms/step - loss: 0.2211 - acc: 0.9370 - metric_F1score: 0.9329 - val_loss: 0.0935 - val_acc: 0.9870 - val_metric_F1score: 0.9852\n",
      "\n",
      "Epoch 00003: val_acc improved from 0.92585 to 0.98697, saving model to models\\multi_hand_gesture_classifier.h5\n",
      "Epoch 4/50\n",
      "94/94 [==============================] - 0s 5ms/step - loss: 0.1374 - acc: 0.9618 - metric_F1score: 0.9628 - val_loss: 0.0253 - val_acc: 0.9980 - val_metric_F1score: 0.9966\n",
      "\n",
      "Epoch 00004: val_acc improved from 0.98697 to 0.99800, saving model to models\\multi_hand_gesture_classifier.h5\n",
      "Epoch 5/50\n",
      "94/94 [==============================] - 0s 5ms/step - loss: 0.0714 - acc: 0.9820 - metric_F1score: 0.9812 - val_loss: 0.0124 - val_acc: 0.9990 - val_metric_F1score: 0.9990\n",
      "\n",
      "Epoch 00005: val_acc improved from 0.99800 to 0.99900, saving model to models\\multi_hand_gesture_classifier.h5\n",
      "Epoch 6/50\n",
      "94/94 [==============================] - 0s 5ms/step - loss: 0.0540 - acc: 0.9890 - metric_F1score: 0.9890 - val_loss: 0.0976 - val_acc: 0.9920 - val_metric_F1score: 0.9927\n",
      "\n",
      "Epoch 00006: val_acc did not improve from 0.99900\n",
      "Epoch 7/50\n",
      "94/94 [==============================] - 0s 5ms/step - loss: 0.0518 - acc: 0.9877 - metric_F1score: 0.9882 - val_loss: 0.0273 - val_acc: 0.9910 - val_metric_F1score: 0.9911\n",
      "\n",
      "Epoch 00007: val_acc did not improve from 0.99900\n",
      "Epoch 8/50\n",
      "94/94 [==============================] - 0s 4ms/step - loss: 0.0482 - acc: 0.9878 - metric_F1score: 0.9878 - val_loss: 0.0363 - val_acc: 0.9840 - val_metric_F1score: 0.9853\n",
      "\n",
      "Epoch 00008: val_acc did not improve from 0.99900\n",
      "Epoch 9/50\n",
      "94/94 [==============================] - 0s 4ms/step - loss: 0.0418 - acc: 0.9911 - metric_F1score: 0.9892 - val_loss: 0.5164 - val_acc: 0.8607 - val_metric_F1score: 0.8641\n",
      "\n",
      "Epoch 00009: val_acc did not improve from 0.99900\n",
      "Epoch 10/50\n",
      "94/94 [==============================] - 0s 4ms/step - loss: 0.1583 - acc: 0.9496 - metric_F1score: 0.9510 - val_loss: 0.0572 - val_acc: 0.9840 - val_metric_F1score: 0.9838\n",
      "\n",
      "Epoch 00010: val_acc did not improve from 0.99900\n",
      "Epoch 11/50\n",
      "94/94 [==============================] - 0s 4ms/step - loss: 0.0494 - acc: 0.9837 - metric_F1score: 0.9846 - val_loss: 0.0124 - val_acc: 0.9960 - val_metric_F1score: 0.9956\n",
      "\n",
      "Epoch 00011: val_acc did not improve from 0.99900\n",
      "Epoch 12/50\n",
      "94/94 [==============================] - 0s 4ms/step - loss: 0.0267 - acc: 0.9938 - metric_F1score: 0.9939 - val_loss: 0.0099 - val_acc: 0.9950 - val_metric_F1score: 0.9970\n",
      "\n",
      "Epoch 00012: val_acc did not improve from 0.99900\n",
      "Epoch 13/50\n",
      "94/94 [==============================] - 0s 4ms/step - loss: 0.0191 - acc: 0.9968 - metric_F1score: 0.9961 - val_loss: 0.0018 - val_acc: 1.0000 - val_metric_F1score: 1.0000\n",
      "\n",
      "Epoch 00013: val_acc improved from 0.99900 to 1.00000, saving model to models\\multi_hand_gesture_classifier.h5\n",
      "Epoch 14/50\n",
      "94/94 [==============================] - 0s 5ms/step - loss: 0.0211 - acc: 0.9944 - metric_F1score: 0.9947 - val_loss: 7.7766e-04 - val_acc: 1.0000 - val_metric_F1score: 1.0000\n",
      "\n",
      "Epoch 00014: val_acc did not improve from 1.00000\n",
      "Epoch 15/50\n",
      "94/94 [==============================] - 0s 5ms/step - loss: 0.0124 - acc: 0.9979 - metric_F1score: 0.9982 - val_loss: 4.8801e-04 - val_acc: 1.0000 - val_metric_F1score: 1.0000\n",
      "\n",
      "Epoch 00015: val_acc did not improve from 1.00000\n",
      "Epoch 16/50\n",
      "94/94 [==============================] - 0s 5ms/step - loss: 0.0107 - acc: 0.9975 - metric_F1score: 0.9976 - val_loss: 3.7130e-04 - val_acc: 1.0000 - val_metric_F1score: 1.0000\n",
      "\n",
      "Epoch 00016: val_acc did not improve from 1.00000\n",
      "Epoch 17/50\n",
      "94/94 [==============================] - 0s 5ms/step - loss: 0.0085 - acc: 0.9991 - metric_F1score: 0.9988 - val_loss: 3.2222e-04 - val_acc: 1.0000 - val_metric_F1score: 1.0000\n",
      "\n",
      "Epoch 00017: val_acc did not improve from 1.00000\n",
      "Epoch 18/50\n",
      "94/94 [==============================] - 0s 5ms/step - loss: 0.0065 - acc: 0.9997 - metric_F1score: 0.9995 - val_loss: 1.8883e-04 - val_acc: 1.0000 - val_metric_F1score: 1.0000\n",
      "\n",
      "Epoch 00018: val_acc did not improve from 1.00000\n",
      "Epoch 19/50\n",
      "94/94 [==============================] - 0s 5ms/step - loss: 0.0079 - acc: 0.9988 - metric_F1score: 0.9987 - val_loss: 1.4943e-04 - val_acc: 1.0000 - val_metric_F1score: 1.0000\n",
      "\n",
      "Epoch 00019: val_acc did not improve from 1.00000\n",
      "Epoch 20/50\n",
      "94/94 [==============================] - 1s 5ms/step - loss: 0.0063 - acc: 0.9994 - metric_F1score: 0.9993 - val_loss: 1.6901e-04 - val_acc: 1.0000 - val_metric_F1score: 1.0000\n",
      "\n",
      "Epoch 00020: val_acc did not improve from 1.00000\n",
      "Epoch 21/50\n",
      "94/94 [==============================] - 0s 5ms/step - loss: 0.0053 - acc: 0.9994 - metric_F1score: 0.9994 - val_loss: 8.4226e-05 - val_acc: 1.0000 - val_metric_F1score: 1.0000\n",
      "\n",
      "Epoch 00021: val_acc did not improve from 1.00000\n",
      "Epoch 22/50\n",
      "94/94 [==============================] - 0s 5ms/step - loss: 0.0060 - acc: 0.9989 - metric_F1score: 0.9989 - val_loss: 8.3034e-05 - val_acc: 1.0000 - val_metric_F1score: 1.0000\n",
      "\n",
      "Epoch 00022: val_acc did not improve from 1.00000\n",
      "Epoch 23/50\n",
      "94/94 [==============================] - 0s 5ms/step - loss: 0.0048 - acc: 0.9997 - metric_F1score: 0.9996 - val_loss: 6.6226e-05 - val_acc: 1.0000 - val_metric_F1score: 1.0000\n",
      "\n",
      "Epoch 00023: val_acc did not improve from 1.00000\n",
      "Epoch 24/50\n",
      "94/94 [==============================] - 0s 4ms/step - loss: 0.0034 - acc: 0.9997 - metric_F1score: 0.9997 - val_loss: 0.0047 - val_acc: 0.9990 - val_metric_F1score: 0.9990\n",
      "\n",
      "Epoch 00024: val_acc did not improve from 1.00000\n",
      "Epoch 25/50\n",
      "94/94 [==============================] - 0s 5ms/step - loss: 0.0137 - acc: 0.9971 - metric_F1score: 0.9971 - val_loss: 1.0687e-04 - val_acc: 1.0000 - val_metric_F1score: 1.0000\n",
      "\n",
      "Epoch 00025: val_acc did not improve from 1.00000\n",
      "Epoch 26/50\n",
      "94/94 [==============================] - 0s 5ms/step - loss: 0.0538 - acc: 0.9843 - metric_F1score: 0.9845 - val_loss: 0.0012 - val_acc: 1.0000 - val_metric_F1score: 1.0000\n",
      "\n",
      "Epoch 00026: val_acc did not improve from 1.00000\n",
      "Epoch 27/50\n",
      "94/94 [==============================] - 0s 5ms/step - loss: 0.0157 - acc: 0.9972 - metric_F1score: 0.9971 - val_loss: 2.5849e-04 - val_acc: 1.0000 - val_metric_F1score: 1.0000\n",
      "\n",
      "Epoch 00027: val_acc did not improve from 1.00000\n",
      "Epoch 28/50\n",
      "94/94 [==============================] - 0s 5ms/step - loss: 0.0079 - acc: 0.9986 - metric_F1score: 0.9985 - val_loss: 0.1289 - val_acc: 0.9900 - val_metric_F1score: 0.9902\n",
      "\n",
      "Epoch 00028: val_acc did not improve from 1.00000\n",
      "Epoch 29/50\n",
      "94/94 [==============================] - 0s 4ms/step - loss: 0.0281 - acc: 0.9924 - metric_F1score: 0.9930 - val_loss: 4.6822e-04 - val_acc: 1.0000 - val_metric_F1score: 1.0000\n",
      "\n",
      "Epoch 00029: val_acc did not improve from 1.00000\n",
      "Epoch 30/50\n",
      "94/94 [==============================] - 0s 4ms/step - loss: 0.0048 - acc: 0.9991 - metric_F1score: 0.9991 - val_loss: 5.8211e-04 - val_acc: 1.0000 - val_metric_F1score: 1.0000\n",
      "\n",
      "Epoch 00030: val_acc did not improve from 1.00000\n",
      "Epoch 31/50\n",
      "94/94 [==============================] - 0s 4ms/step - loss: 0.0154 - acc: 0.9951 - metric_F1score: 0.9952 - val_loss: 9.3420 - val_acc: 0.2014 - val_metric_F1score: 0.2005\n",
      "\n",
      "Epoch 00031: val_acc did not improve from 1.00000\n",
      "Epoch 32/50\n",
      "94/94 [==============================] - 0s 4ms/step - loss: 0.5049 - acc: 0.8479 - metric_F1score: 0.8510 - val_loss: 0.2898 - val_acc: 0.8798 - val_metric_F1score: 0.8831\n",
      "\n",
      "Epoch 00032: val_acc did not improve from 1.00000\n",
      "Epoch 33/50\n",
      "94/94 [==============================] - 0s 4ms/step - loss: 0.1572 - acc: 0.9485 - metric_F1score: 0.9485 - val_loss: 0.0949 - val_acc: 0.9689 - val_metric_F1score: 0.9675\n",
      "\n",
      "Epoch 00033: val_acc did not improve from 1.00000\n",
      "Epoch 34/50\n"
     ]
    },
    {
     "name": "stdout",
     "output_type": "stream",
     "text": [
      "94/94 [==============================] - 0s 4ms/step - loss: 0.0670 - acc: 0.9790 - metric_F1score: 0.9787 - val_loss: 0.0184 - val_acc: 0.9950 - val_metric_F1score: 0.9951\n",
      "\n",
      "Epoch 00034: val_acc did not improve from 1.00000\n",
      "Epoch 35/50\n",
      "94/94 [==============================] - 0s 4ms/step - loss: 0.0598 - acc: 0.9783 - metric_F1score: 0.9790 - val_loss: 0.0125 - val_acc: 0.9980 - val_metric_F1score: 0.9975\n",
      "\n",
      "Epoch 00035: val_acc did not improve from 1.00000\n",
      "Epoch 36/50\n",
      "94/94 [==============================] - 0s 5ms/step - loss: 0.0492 - acc: 0.9821 - metric_F1score: 0.9831 - val_loss: 0.0062 - val_acc: 0.9990 - val_metric_F1score: 0.9990\n",
      "\n",
      "Epoch 00036: val_acc did not improve from 1.00000\n",
      "Epoch 37/50\n",
      "94/94 [==============================] - 0s 4ms/step - loss: 0.0703 - acc: 0.9774 - metric_F1score: 0.9774 - val_loss: 0.0053 - val_acc: 1.0000 - val_metric_F1score: 1.0000\n",
      "\n",
      "Epoch 00037: val_acc did not improve from 1.00000\n",
      "Epoch 38/50\n",
      "94/94 [==============================] - 0s 4ms/step - loss: 0.0583 - acc: 0.9790 - metric_F1score: 0.9796 - val_loss: 0.0075 - val_acc: 0.9990 - val_metric_F1score: 0.9990\n",
      "\n",
      "Epoch 00038: val_acc did not improve from 1.00000\n",
      "Epoch 39/50\n",
      "94/94 [==============================] - 0s 4ms/step - loss: 0.0562 - acc: 0.9851 - metric_F1score: 0.9852 - val_loss: 0.0016 - val_acc: 1.0000 - val_metric_F1score: 1.0000\n",
      "\n",
      "Epoch 00039: val_acc did not improve from 1.00000\n",
      "Epoch 40/50\n",
      "94/94 [==============================] - 0s 4ms/step - loss: 0.0299 - acc: 0.9912 - metric_F1score: 0.9906 - val_loss: 0.0019 - val_acc: 1.0000 - val_metric_F1score: 1.0000\n",
      "\n",
      "Epoch 00040: val_acc did not improve from 1.00000\n",
      "Epoch 41/50\n",
      "94/94 [==============================] - 0s 4ms/step - loss: 0.0309 - acc: 0.9909 - metric_F1score: 0.9909 - val_loss: 7.3822e-04 - val_acc: 1.0000 - val_metric_F1score: 1.0000\n",
      "\n",
      "Epoch 00041: val_acc did not improve from 1.00000\n",
      "Epoch 42/50\n",
      "94/94 [==============================] - 0s 4ms/step - loss: 0.0194 - acc: 0.9941 - metric_F1score: 0.9940 - val_loss: 7.3138e-04 - val_acc: 1.0000 - val_metric_F1score: 1.0000\n",
      "\n",
      "Epoch 00042: val_acc did not improve from 1.00000\n",
      "Epoch 43/50\n",
      "94/94 [==============================] - 0s 4ms/step - loss: 0.0176 - acc: 0.9955 - metric_F1score: 0.9949 - val_loss: 0.0012 - val_acc: 1.0000 - val_metric_F1score: 1.0000\n",
      "\n",
      "Epoch 00043: val_acc did not improve from 1.00000\n",
      "Epoch 44/50\n",
      "94/94 [==============================] - 0s 4ms/step - loss: 0.0136 - acc: 0.9969 - metric_F1score: 0.9973 - val_loss: 7.0841e-04 - val_acc: 1.0000 - val_metric_F1score: 1.0000\n",
      "\n",
      "Epoch 00044: val_acc did not improve from 1.00000\n",
      "Epoch 45/50\n",
      "94/94 [==============================] - 0s 4ms/step - loss: 0.0242 - acc: 0.9941 - metric_F1score: 0.9940 - val_loss: 3.7355e-04 - val_acc: 1.0000 - val_metric_F1score: 1.0000\n",
      "\n",
      "Epoch 00045: val_acc did not improve from 1.00000\n",
      "Epoch 46/50\n",
      "94/94 [==============================] - 1s 6ms/step - loss: 0.0170 - acc: 0.9961 - metric_F1score: 0.9963 - val_loss: 0.0046 - val_acc: 0.9980 - val_metric_F1score: 0.9980\n",
      "\n",
      "Epoch 00046: val_acc did not improve from 1.00000\n",
      "Epoch 47/50\n",
      "94/94 [==============================] - 0s 5ms/step - loss: 0.0141 - acc: 0.9949 - metric_F1score: 0.9953 - val_loss: 0.0013 - val_acc: 0.9990 - val_metric_F1score: 0.9990\n",
      "\n",
      "Epoch 00047: val_acc did not improve from 1.00000\n",
      "Epoch 48/50\n",
      "94/94 [==============================] - 0s 5ms/step - loss: 0.0257 - acc: 0.9937 - metric_F1score: 0.9937 - val_loss: 4.5743e-04 - val_acc: 1.0000 - val_metric_F1score: 1.0000\n",
      "\n",
      "Epoch 00048: val_acc did not improve from 1.00000\n",
      "Epoch 49/50\n",
      "94/94 [==============================] - 0s 5ms/step - loss: 0.0216 - acc: 0.9937 - metric_F1score: 0.9942 - val_loss: 0.0012 - val_acc: 1.0000 - val_metric_F1score: 1.0000\n",
      "\n",
      "Epoch 00049: val_acc did not improve from 1.00000\n",
      "Epoch 50/50\n",
      "94/94 [==============================] - 0s 5ms/step - loss: 0.0138 - acc: 0.9961 - metric_F1score: 0.9963 - val_loss: 1.1180e-04 - val_acc: 1.0000 - val_metric_F1score: 1.0000\n",
      "\n",
      "Epoch 00050: val_acc did not improve from 1.00000\n"
     ]
    }
   ],
   "source": [
    "from tensorflow.keras.callbacks import ModelCheckpoint, ReduceLROnPlateau\n",
    "\n",
    "history3 = model3.fit(\n",
    "    x_train,\n",
    "    y_train,\n",
    "    validation_data=(x_val, y_val),\n",
    "    epochs=50,\n",
    "    callbacks=[\n",
    "        ModelCheckpoint('models/multi_hand_gesture_classifier.h5', monitor='val_acc', verbose=1, save_best_only=True, mode='auto'),\n",
    "        ReduceLROnPlateau(monitor='val_metric_F1score', factor=0.5, patience=50, verbose=1, mode='auto')\n",
    "    ]\n",
    ")"
   ]
  },
  {
   "cell_type": "code",
   "execution_count": null,
   "metadata": {
    "id": "iO1ySj2A2kCY",
    "outputId": "e079a302-9732-42f8-8212-488b6f6f491e"
   },
   "outputs": [
    {
     "data": {
      "image/png": "[encoded data removed]",
      "text/plain": [
       "<Figure size 1152x720 with 2 Axes>"
      ]
     },
     "metadata": {
      "needs_background": "light"
     },
     "output_type": "display_data"
    }
   ],
   "source": [
    "import matplotlib.pyplot as plt\n",
    "\n",
    "fig, loss_ax = plt.subplots(figsize=(16, 10))\n",
    "acc_ax = loss_ax.twinx()\n",
    "\n",
    "loss_ax.set_xlabel('epoch')\n",
    "loss_ax.set_ylabel('loss')\n",
    "\n",
    "acc_ax.plot(history3.history['metric_F1score'], 'b', label='train f1')\n",
    "acc_ax.plot(history3.history['val_metric_F1score'], 'g', label='val f1')\n",
    "acc_ax.set_ylabel('f1-score')\n",
    "acc_ax.legend(loc='upper left')\n",
    "\n",
    "plt.show()"
   ]
  },
  {
   "cell_type": "markdown",
   "metadata": {
    "id": "nsZLMbtO2kCY"
   },
   "source": [
    "#### 5-3) Early Stopping \n",
    "\n",
    "- 여러 과적합을 해결하기 위한 방법을 적용시키고 있는데 바로 위 그래프만 살펴보더라도 특정 숫자(1.0) 근처로 값들의 변동이 있음을 확인할 수 있습니다. 여기 이상으로 학습이 안된다는 의미로 해석할 수 있습니다.\n",
    "- 이때, 학습이 안되는 시점에서 빠르게 학습을 종료하는 Early Stopping 기법을 이용하여 과하게 학습됨을 방지하겠습니다.\n",
    "\n",
    "\n",
    "- **tensorflow.keras.callbacks.EarlyStopping(monitor, min_deltam patience, verbose, mode, baseline, restore_best_weights)**\n",
    "    - monitor : EarlyStopping의 기준이 되는 값\n",
    "    - min_delta : 개선된 것으로 간주하기 위한 최소한의 변화량\n",
    "    - patience : monitor가 개선되지 않을 때 몇 번의 epoch를 진행할 지 정하는 값\n",
    "    - verbose : 0(화면 나타냄x) or 1(화면 나타냄o)\n",
    "    - mode : monitor의 값이 어떤 mode가 되어야 하는지 알려주는 값\n",
    "        - auto\n",
    "        - min\n",
    "        - max\n",
    "    - baseline : 모형이 달성해야 하는 최소한의 기준값, patience 이내에서 모형이 baseline 기준으로 개선됨이 보이지 않으면 중단시킨다.\n",
    "    - restore_best_weights : True(가장 좋을때의 training weight) or False(마지막 training weights)"
   ]
  },
  {
   "cell_type": "code",
   "execution_count": null,
   "metadata": {
    "id": "VsxOhJ-m2kCZ"
   },
   "outputs": [],
   "source": [
    "from tensorflow.keras.models import Sequential\n",
    "from tensorflow.keras.layers import BatchNormalization\n",
    "\n",
    "model4 = Sequential([\n",
    "    LSTM(64, activation='relu', input_shape=x_train.shape[1:3]),\n",
    "    Dropout(0.5),\n",
    "    BatchNormalization(),\n",
    "    Dense(32, activation='relu'),\n",
    "    Dropout(0.5),\n",
    "    BatchNormalization(),\n",
    "    Dense(len(actions), activation='softmax')\n",
    "])\n",
    "\n",
    "model4.compile(optimizer='adam', loss='categorical_crossentropy', metrics=['acc', metric_F1score])"
   ]
  },
  {
   "cell_type": "code",
   "execution_count": null,
   "metadata": {
    "id": "HVdr6Owq2kCZ",
    "outputId": "a2d2f362-7cfa-482c-d723-2c69c2926fb7"
   },
   "outputs": [
    {
     "name": "stdout",
     "output_type": "stream",
     "text": [
      "Epoch 1/50\n",
      "94/94 [==============================] - 3s 13ms/step - loss: 1.4969 - acc: 0.3849 - metric_F1score: 0.3043 - val_loss: 0.6401 - val_acc: 0.8527 - val_metric_F1score: 0.6680\n",
      "\n",
      "Epoch 00001: val_acc improved from -inf to 0.85271, saving model to models\\multi_hand_gesture_classifier.h5\n",
      "Epoch 2/50\n",
      "94/94 [==============================] - 1s 5ms/step - loss: 0.8276 - acc: 0.6607 - metric_F1score: 0.6239 - val_loss: 0.3299 - val_acc: 0.9319 - val_metric_F1score: 0.9170\n",
      "\n",
      "Epoch 00002: val_acc improved from 0.85271 to 0.93186, saving model to models\\multi_hand_gesture_classifier.h5\n",
      "Epoch 3/50\n",
      "94/94 [==============================] - 0s 4ms/step - loss: 0.5768 - acc: 0.7944 - metric_F1score: 0.7660 - val_loss: 0.2087 - val_acc: 0.9479 - val_metric_F1score: 0.9483\n",
      "\n",
      "Epoch 00003: val_acc improved from 0.93186 to 0.94790, saving model to models\\multi_hand_gesture_classifier.h5\n",
      "Epoch 4/50\n",
      "94/94 [==============================] - 0s 4ms/step - loss: 0.4423 - acc: 0.8692 - metric_F1score: 0.8527 - val_loss: 0.2618 - val_acc: 0.9088 - val_metric_F1score: 0.9074\n",
      "\n",
      "Epoch 00004: val_acc did not improve from 0.94790\n",
      "Epoch 5/50\n",
      "94/94 [==============================] - 0s 4ms/step - loss: 0.4018 - acc: 0.8624 - metric_F1score: 0.8538 - val_loss: 0.0865 - val_acc: 0.9900 - val_metric_F1score: 0.9907\n",
      "\n",
      "Epoch 00005: val_acc improved from 0.94790 to 0.98998, saving model to models\\multi_hand_gesture_classifier.h5\n",
      "Epoch 6/50\n",
      "94/94 [==============================] - 0s 5ms/step - loss: 0.2540 - acc: 0.9327 - metric_F1score: 0.9328 - val_loss: 0.0567 - val_acc: 0.9930 - val_metric_F1score: 0.9927\n",
      "\n",
      "Epoch 00006: val_acc improved from 0.98998 to 0.99299, saving model to models\\multi_hand_gesture_classifier.h5\n",
      "Epoch 7/50\n",
      "94/94 [==============================] - 0s 4ms/step - loss: 0.1885 - acc: 0.9516 - metric_F1score: 0.9500 - val_loss: 0.0209 - val_acc: 0.9970 - val_metric_F1score: 0.9971\n",
      "\n",
      "Epoch 00007: val_acc improved from 0.99299 to 0.99699, saving model to models\\multi_hand_gesture_classifier.h5\n",
      "Epoch 8/50\n",
      "94/94 [==============================] - 0s 4ms/step - loss: 0.1472 - acc: 0.9682 - metric_F1score: 0.9634 - val_loss: 0.0570 - val_acc: 0.9940 - val_metric_F1score: 0.9936\n",
      "\n",
      "Epoch 00008: val_acc did not improve from 0.99699\n",
      "Epoch 9/50\n",
      "94/94 [==============================] - 0s 4ms/step - loss: 0.1273 - acc: 0.9693 - metric_F1score: 0.9671 - val_loss: 0.0135 - val_acc: 0.9980 - val_metric_F1score: 0.9980\n",
      "\n",
      "Epoch 00009: val_acc improved from 0.99699 to 0.99800, saving model to models\\multi_hand_gesture_classifier.h5\n",
      "Epoch 10/50\n",
      "94/94 [==============================] - 0s 4ms/step - loss: 0.1075 - acc: 0.9772 - metric_F1score: 0.9737 - val_loss: 0.0114 - val_acc: 0.9990 - val_metric_F1score: 0.9985\n",
      "\n",
      "Epoch 00010: val_acc improved from 0.99800 to 0.99900, saving model to models\\multi_hand_gesture_classifier.h5\n",
      "Epoch 11/50\n",
      "94/94 [==============================] - 0s 5ms/step - loss: 0.1201 - acc: 0.9709 - metric_F1score: 0.9695 - val_loss: 0.0214 - val_acc: 0.9950 - val_metric_F1score: 0.9956\n",
      "\n",
      "Epoch 00011: val_acc did not improve from 0.99900\n",
      "Epoch 12/50\n",
      "94/94 [==============================] - 1s 5ms/step - loss: 0.1149 - acc: 0.9686 - metric_F1score: 0.9677 - val_loss: 0.0223 - val_acc: 0.9940 - val_metric_F1score: 0.9941\n",
      "\n",
      "Epoch 00012: val_acc did not improve from 0.99900\n",
      "Epoch 13/50\n",
      "94/94 [==============================] - 1s 5ms/step - loss: 0.1167 - acc: 0.9708 - metric_F1score: 0.9723 - val_loss: 0.0457 - val_acc: 0.9900 - val_metric_F1score: 0.9907\n",
      "\n",
      "Epoch 00013: val_acc did not improve from 0.99900\n",
      "Epoch 14/50\n",
      "94/94 [==============================] - 0s 4ms/step - loss: 0.1095 - acc: 0.9696 - metric_F1score: 0.9694 - val_loss: 0.2856 - val_acc: 0.9529 - val_metric_F1score: 0.9524\n",
      "\n",
      "Epoch 00014: val_acc did not improve from 0.99900\n",
      "Epoch 15/50\n",
      "94/94 [==============================] - 0s 5ms/step - loss: 0.2307 - acc: 0.9323 - metric_F1score: 0.9342 - val_loss: 3.3327 - val_acc: 0.7836 - val_metric_F1score: 0.7820\n",
      "\n",
      "Epoch 00015: val_acc did not improve from 0.99900\n",
      "Epoch 16/50\n",
      "94/94 [==============================] - 0s 5ms/step - loss: 0.5387 - acc: 0.8223 - metric_F1score: 0.8197 - val_loss: 0.1757 - val_acc: 0.9529 - val_metric_F1score: 0.9499\n",
      "\n",
      "Epoch 00016: val_acc did not improve from 0.99900\n",
      "Epoch 17/50\n",
      "94/94 [==============================] - 0s 5ms/step - loss: 0.2380 - acc: 0.9212 - metric_F1score: 0.9165 - val_loss: 1.5321 - val_acc: 0.9830 - val_metric_F1score: 0.9812\n",
      "\n",
      "Epoch 00017: val_acc did not improve from 0.99900\n",
      "Epoch 18/50\n",
      "94/94 [==============================] - 1s 6ms/step - loss: 0.1962 - acc: 0.9329 - metric_F1score: 0.9338 - val_loss: 0.0519 - val_acc: 0.9870 - val_metric_F1score: 0.9882\n",
      "\n",
      "Epoch 00018: val_acc did not improve from 0.99900\n",
      "Epoch 19/50\n",
      "94/94 [==============================] - 1s 7ms/step - loss: 0.1802 - acc: 0.9497 - metric_F1score: 0.9465 - val_loss: 0.0570 - val_acc: 0.9850 - val_metric_F1score: 0.9843\n",
      "\n",
      "Epoch 00019: val_acc did not improve from 0.99900\n",
      "Epoch 20/50\n",
      "94/94 [==============================] - 1s 6ms/step - loss: 0.1467 - acc: 0.9562 - metric_F1score: 0.9565 - val_loss: 0.0526 - val_acc: 0.9850 - val_metric_F1score: 0.9853\n",
      "\n",
      "Epoch 00020: val_acc did not improve from 0.99900\n",
      "Epoch 21/50\n",
      "94/94 [==============================] - 1s 8ms/step - loss: 0.1426 - acc: 0.9609 - metric_F1score: 0.9617 - val_loss: 0.0198 - val_acc: 0.9960 - val_metric_F1score: 0.9951\n",
      "\n",
      "Epoch 00021: val_acc did not improve from 0.99900\n"
     ]
    }
   ],
   "source": [
    "from tensorflow.keras.callbacks import ModelCheckpoint, ReduceLROnPlateau\n",
    "from keras.callbacks import EarlyStopping\n",
    "early_stopping = EarlyStopping(monitor = 'val_metric_F1score', min_delta = 0, patience = 20, mode = 'auto')\n",
    "\n",
    "\n",
    "history4 = model4.fit(\n",
    "    x_train,\n",
    "    y_train,\n",
    "    validation_data=(x_val, y_val),\n",
    "    epochs=50,\n",
    "    callbacks=[\n",
    "        ModelCheckpoint('models/multi_hand_gesture_classifier.h5', monitor='val_acc', verbose=1, save_best_only=True, mode='auto'),\n",
    "        ReduceLROnPlateau(monitor='val_metric_F1score', factor=0.5, patience=50, verbose=1, mode='auto'),\n",
    "        early_stopping\n",
    "    \n",
    "    ]\n",
    ")"
   ]
  },
  {
   "cell_type": "code",
   "execution_count": null,
   "metadata": {
    "id": "D9DR0wl82kCZ",
    "outputId": "39dee174-eb15-413a-df20-0b7bed48253b",
    "scrolled": false
   },
   "outputs": [
    {
     "data": {
      "image/png": "[encoded data removed]",
      "text/plain": [
       "<Figure size 1152x720 with 2 Axes>"
      ]
     },
     "metadata": {
      "needs_background": "light"
     },
     "output_type": "display_data"
    }
   ],
   "source": [
    "import matplotlib.pyplot as plt\n",
    "\n",
    "fig, loss_ax = plt.subplots(figsize=(16, 10))\n",
    "acc_ax = loss_ax.twinx()\n",
    "loss_ax.set_xlabel('epoch')\n",
    "loss_ax.set_ylabel('loss')\n",
    "\n",
    "acc_ax.plot(history4.history['metric_F1score'], 'b', label='train f1')\n",
    "acc_ax.plot(history4.history['val_metric_F1score'], 'g', label='val f1')\n",
    "acc_ax.set_ylabel('f1-score')\n",
    "acc_ax.legend(loc='upper left')\n",
    "\n",
    "plt.show()"
   ]
  },
  {
   "cell_type": "markdown",
   "metadata": {
    "id": "LbPFYNGi2kCa"
   },
   "source": [
    "#### 5-4) 규제 방법 적용\n",
    "\n",
    "\n",
    "**Regularization(정규화, 규제, 일반화)** 이란 모델이 과적합이 되도록 학습하지 않고 일반성을 가질 수 있도록 **가중치(weight)** 를 조정하여 규제하는 것을 의미합니다.\n",
    "\n",
    "대표적으로 L1 규제(Lasso)와 L2 규제(Lidge)가 있습니다.\n",
    "\n",
    "L1 규제에서 가장 중요한 것은 손실 함수(loss function)에 **가중치의 절대값**을 더해 준다는 것입니다. L1 규제는 아래의 수식처럼 표현할 수 있습니다.\n",
    "\n",
    "<img src =\"https://drive.google.com/uc?export=view&id=1MAMqFj7eH9TfjQ80Ir2usXeaAlan0eOp\">\n",
    "\n",
    "L1 규제의 경우에는 가중치의 크기에 상관없이 상수값을 뺍니다. 이는 대체적으로 불필요한 가중치의 수치를 0으로 만들도록 하는 방향으로 적용됩니다. 즉, 중요한 가중치만을 취하기 때문에 희소 데이터(sparse feature)에 대한 모델을 구성하는데 적합합니다."
   ]
  },
  {
   "cell_type": "code",
   "execution_count": null,
   "metadata": {
    "id": "lGP2IDP72kCa"
   },
   "outputs": [],
   "source": [
    "#기본 모델 + l1 규제\n",
    "from tensorflow.keras.models import Sequential\n",
    "from tensorflow.keras.layers import LSTM, Dense, Dropout\n",
    "import keras.layers\n",
    "\n",
    "model5 = Sequential([\n",
    "    LSTM(64, activation='relu', input_shape=x_train.shape[1:3], kernel_regularizer=keras.regularizers.l1(0.01)),\n",
    "    Dense(32, activation='relu',kernel_regularizer=keras.regularizers.l1(0.01)),\n",
    "    Dense(len(actions), activation='softmax', kernel_regularizer=keras.regularizers.l1(0.01))\n",
    "])\n",
    "\n",
    "\n",
    "\n",
    "model5.compile(optimizer='adam', loss='categorical_crossentropy', metrics=['acc', metric_F1score])"
   ]
  },
  {
   "cell_type": "code",
   "execution_count": null,
   "metadata": {
    "id": "Ryk-2Ws52kCa",
    "outputId": "48ed563f-0d6f-4c88-98dd-708c812f828c"
   },
   "outputs": [
    {
     "name": "stdout",
     "output_type": "stream",
     "text": [
      "Epoch 1/50\n",
      "94/94 [==============================] - 2s 8ms/step - loss: 24.8018 - acc: 0.6969 - metric_F1score: 0.6971 - val_loss: 12.1133 - val_acc: 0.9248 - val_metric_F1score: 0.9178\n",
      "\n",
      "Epoch 00001: val_acc improved from -inf to 0.92485, saving model to models\\multi_hand_gesture_classifier.h5\n",
      "Epoch 2/50\n",
      "94/94 [==============================] - 0s 5ms/step - loss: 10.9349 - acc: 0.9323 - metric_F1score: 0.9325 - val_loss: 8.7661 - val_acc: 0.9449 - val_metric_F1score: 0.9463\n",
      "\n",
      "Epoch 00002: val_acc improved from 0.92485 to 0.94489, saving model to models\\multi_hand_gesture_classifier.h5\n",
      "Epoch 3/50\n",
      "94/94 [==============================] - 0s 4ms/step - loss: 8.3471 - acc: 0.9466 - metric_F1score: 0.9466 - val_loss: 7.2125 - val_acc: 0.9729 - val_metric_F1score: 0.9741\n",
      "\n",
      "Epoch 00003: val_acc improved from 0.94489 to 0.97295, saving model to models\\multi_hand_gesture_classifier.h5\n",
      "Epoch 4/50\n",
      "94/94 [==============================] - 0s 4ms/step - loss: 6.8617 - acc: 0.9872 - metric_F1score: 0.9871 - val_loss: 6.2328 - val_acc: 0.9880 - val_metric_F1score: 0.9887\n",
      "\n",
      "Epoch 00004: val_acc improved from 0.97295 to 0.98798, saving model to models\\multi_hand_gesture_classifier.h5\n",
      "Epoch 5/50\n",
      "94/94 [==============================] - 0s 4ms/step - loss: 6.0103 - acc: 0.9888 - metric_F1score: 0.9885 - val_loss: 5.5751 - val_acc: 0.9850 - val_metric_F1score: 0.9811\n",
      "\n",
      "Epoch 00005: val_acc did not improve from 0.98798\n",
      "Epoch 6/50\n",
      "94/94 [==============================] - 0s 4ms/step - loss: 5.4424 - acc: 0.9852 - metric_F1score: 0.9851 - val_loss: 5.1420 - val_acc: 0.9860 - val_metric_F1score: 0.9858\n",
      "\n",
      "Epoch 00006: val_acc did not improve from 0.98798\n",
      "Epoch 7/50\n",
      "94/94 [==============================] - 0s 4ms/step - loss: 4.9904 - acc: 0.9914 - metric_F1score: 0.9920 - val_loss: 4.6965 - val_acc: 0.9860 - val_metric_F1score: 0.9863\n",
      "\n",
      "Epoch 00007: val_acc did not improve from 0.98798\n",
      "Epoch 8/50\n",
      "94/94 [==============================] - 0s 4ms/step - loss: 4.5584 - acc: 0.9968 - metric_F1score: 0.9968 - val_loss: 4.3570 - val_acc: 0.9870 - val_metric_F1score: 0.9873\n",
      "\n",
      "Epoch 00008: val_acc did not improve from 0.98798\n",
      "Epoch 9/50\n",
      "94/94 [==============================] - 0s 4ms/step - loss: 4.3346 - acc: 0.9925 - metric_F1score: 0.9925 - val_loss: 4.8223 - val_acc: 0.9499 - val_metric_F1score: 0.9512\n",
      "\n",
      "Epoch 00009: val_acc did not improve from 0.98798\n",
      "Epoch 10/50\n",
      "94/94 [==============================] - 0s 4ms/step - loss: 4.4272 - acc: 0.9657 - metric_F1score: 0.9658 - val_loss: 4.2358 - val_acc: 0.9569 - val_metric_F1score: 0.9527\n",
      "\n",
      "Epoch 00010: val_acc did not improve from 0.98798\n",
      "Epoch 11/50\n",
      "94/94 [==============================] - 0s 4ms/step - loss: 4.2076 - acc: 0.9724 - metric_F1score: 0.9732 - val_loss: 4.0022 - val_acc: 0.9800 - val_metric_F1score: 0.9762\n",
      "\n",
      "Epoch 00011: val_acc did not improve from 0.98798\n",
      "Epoch 12/50\n",
      "94/94 [==============================] - 0s 4ms/step - loss: 3.8005 - acc: 0.9905 - metric_F1score: 0.9906 - val_loss: 3.5857 - val_acc: 0.9950 - val_metric_F1score: 0.9951\n",
      "\n",
      "Epoch 00012: val_acc improved from 0.98798 to 0.99499, saving model to models\\multi_hand_gesture_classifier.h5\n",
      "Epoch 13/50\n",
      "94/94 [==============================] - 0s 4ms/step - loss: 3.5340 - acc: 0.9981 - metric_F1score: 0.9981 - val_loss: 3.4116 - val_acc: 0.9960 - val_metric_F1score: 0.9966\n",
      "\n",
      "Epoch 00013: val_acc improved from 0.99499 to 0.99599, saving model to models\\multi_hand_gesture_classifier.h5\n",
      "Epoch 14/50\n",
      "94/94 [==============================] - 0s 4ms/step - loss: 3.3637 - acc: 0.9981 - metric_F1score: 0.9980 - val_loss: 3.2598 - val_acc: 0.9950 - val_metric_F1score: 0.9956\n",
      "\n",
      "Epoch 00014: val_acc did not improve from 0.99599\n",
      "Epoch 15/50\n",
      "94/94 [==============================] - 0s 4ms/step - loss: 3.2195 - acc: 0.9990 - metric_F1score: 0.9990 - val_loss: 3.1195 - val_acc: 0.9960 - val_metric_F1score: 0.9956\n",
      "\n",
      "Epoch 00015: val_acc did not improve from 0.99599\n",
      "Epoch 16/50\n",
      "94/94 [==============================] - 0s 4ms/step - loss: 3.0820 - acc: 0.9986 - metric_F1score: 0.9986 - val_loss: 2.9894 - val_acc: 0.9980 - val_metric_F1score: 0.9980\n",
      "\n",
      "Epoch 00016: val_acc improved from 0.99599 to 0.99800, saving model to models\\multi_hand_gesture_classifier.h5\n",
      "Epoch 17/50\n",
      "94/94 [==============================] - 0s 4ms/step - loss: 2.9753 - acc: 0.9944 - metric_F1score: 0.9944 - val_loss: 2.8801 - val_acc: 0.9980 - val_metric_F1score: 0.9976\n",
      "\n",
      "Epoch 00017: val_acc did not improve from 0.99800\n",
      "Epoch 18/50\n",
      "94/94 [==============================] - 0s 5ms/step - loss: 2.8507 - acc: 0.9982 - metric_F1score: 0.9982 - val_loss: 2.7744 - val_acc: 0.9970 - val_metric_F1score: 0.9971\n",
      "\n",
      "Epoch 00018: val_acc did not improve from 0.99800\n",
      "Epoch 19/50\n",
      "94/94 [==============================] - 0s 4ms/step - loss: 2.7388 - acc: 0.9998 - metric_F1score: 0.9998 - val_loss: 2.6676 - val_acc: 0.9970 - val_metric_F1score: 0.9971\n",
      "\n",
      "Epoch 00019: val_acc did not improve from 0.99800\n",
      "Epoch 20/50\n",
      "94/94 [==============================] - 0s 4ms/step - loss: 2.6361 - acc: 0.9993 - metric_F1score: 0.9993 - val_loss: 2.5621 - val_acc: 0.9980 - val_metric_F1score: 0.9980\n",
      "\n",
      "Epoch 00020: val_acc did not improve from 0.99800\n",
      "Epoch 21/50\n",
      "94/94 [==============================] - 0s 4ms/step - loss: 2.5350 - acc: 0.9996 - metric_F1score: 0.9996 - val_loss: 2.4642 - val_acc: 1.0000 - val_metric_F1score: 1.0000\n",
      "\n",
      "Epoch 00021: val_acc improved from 0.99800 to 1.00000, saving model to models\\multi_hand_gesture_classifier.h5\n",
      "Epoch 22/50\n",
      "94/94 [==============================] - 0s 5ms/step - loss: 2.4419 - acc: 0.9990 - metric_F1score: 0.9990 - val_loss: 2.3847 - val_acc: 0.9980 - val_metric_F1score: 0.9985\n",
      "\n",
      "Epoch 00022: val_acc did not improve from 1.00000\n",
      "Epoch 23/50\n",
      "94/94 [==============================] - 0s 4ms/step - loss: 2.4019 - acc: 0.9923 - metric_F1score: 0.9926 - val_loss: 2.5806 - val_acc: 0.9549 - val_metric_F1score: 0.9476\n",
      "\n",
      "Epoch 00023: val_acc did not improve from 1.00000\n",
      "Epoch 24/50\n",
      "94/94 [==============================] - 0s 4ms/step - loss: 2.4608 - acc: 0.9835 - metric_F1score: 0.9824 - val_loss: 2.2655 - val_acc: 0.9980 - val_metric_F1score: 0.9980\n",
      "\n",
      "Epoch 00024: val_acc did not improve from 1.00000\n",
      "Epoch 25/50\n",
      "94/94 [==============================] - 0s 4ms/step - loss: 2.2347 - acc: 0.9994 - metric_F1score: 0.9992 - val_loss: 2.1605 - val_acc: 0.9990 - val_metric_F1score: 0.9990\n",
      "\n",
      "Epoch 00025: val_acc did not improve from 1.00000\n",
      "Epoch 26/50\n",
      "94/94 [==============================] - 0s 4ms/step - loss: 2.1337 - acc: 0.9994 - metric_F1score: 0.9996 - val_loss: 2.0676 - val_acc: 1.0000 - val_metric_F1score: 1.0000\n",
      "\n",
      "Epoch 00026: val_acc did not improve from 1.00000\n",
      "Epoch 27/50\n",
      "94/94 [==============================] - 0s 4ms/step - loss: 2.0480 - acc: 0.9994 - metric_F1score: 0.9997 - val_loss: 1.9883 - val_acc: 1.0000 - val_metric_F1score: 1.0000\n",
      "\n",
      "Epoch 00027: val_acc did not improve from 1.00000\n",
      "Epoch 28/50\n",
      "94/94 [==============================] - 0s 4ms/step - loss: 1.9686 - acc: 1.0000 - metric_F1score: 1.0000 - val_loss: 1.9139 - val_acc: 1.0000 - val_metric_F1score: 1.0000\n",
      "\n",
      "Epoch 00028: val_acc did not improve from 1.00000\n",
      "Epoch 29/50\n",
      "94/94 [==============================] - 0s 4ms/step - loss: 1.9036 - acc: 0.9989 - metric_F1score: 0.9988 - val_loss: 2.0478 - val_acc: 0.9990 - val_metric_F1score: 0.9990\n",
      "\n",
      "Epoch 00029: val_acc did not improve from 1.00000\n",
      "Epoch 30/50\n",
      "94/94 [==============================] - 0s 4ms/step - loss: 2.0044 - acc: 0.9989 - metric_F1score: 0.9989 - val_loss: 1.8692 - val_acc: 0.9990 - val_metric_F1score: 0.9990\n",
      "\n",
      "Epoch 00030: val_acc did not improve from 1.00000\n",
      "Epoch 31/50\n",
      "94/94 [==============================] - 0s 4ms/step - loss: 1.8409 - acc: 0.9994 - metric_F1score: 0.9994 - val_loss: 1.7690 - val_acc: 0.9990 - val_metric_F1score: 0.9990\n",
      "\n",
      "Epoch 00031: val_acc did not improve from 1.00000\n",
      "Epoch 32/50\n",
      "94/94 [==============================] - 0s 4ms/step - loss: 1.7442 - acc: 1.0000 - metric_F1score: 1.0000 - val_loss: 1.6839 - val_acc: 0.9990 - val_metric_F1score: 0.9990\n",
      "\n",
      "Epoch 00032: val_acc did not improve from 1.00000\n",
      "Epoch 33/50\n",
      "94/94 [==============================] - 0s 4ms/step - loss: 1.6635 - acc: 1.0000 - metric_F1score: 1.0000 - val_loss: 1.6137 - val_acc: 0.9990 - val_metric_F1score: 0.9990\n"
     ]
    },
    {
     "name": "stdout",
     "output_type": "stream",
     "text": [
      "\n",
      "Epoch 00033: val_acc did not improve from 1.00000\n",
      "Epoch 34/50\n",
      "94/94 [==============================] - 0s 4ms/step - loss: 1.5927 - acc: 1.0000 - metric_F1score: 1.0000 - val_loss: 1.5474 - val_acc: 0.9990 - val_metric_F1score: 0.9990\n",
      "\n",
      "Epoch 00034: val_acc did not improve from 1.00000\n",
      "Epoch 35/50\n",
      "94/94 [==============================] - 0s 4ms/step - loss: 1.5292 - acc: 0.9999 - metric_F1score: 0.9999 - val_loss: 1.4905 - val_acc: 1.0000 - val_metric_F1score: 1.0000\n",
      "\n",
      "Epoch 00035: val_acc did not improve from 1.00000\n",
      "Epoch 36/50\n",
      "94/94 [==============================] - 0s 4ms/step - loss: 1.4717 - acc: 1.0000 - metric_F1score: 1.0000 - val_loss: 1.4263 - val_acc: 1.0000 - val_metric_F1score: 1.0000\n",
      "\n",
      "Epoch 00036: val_acc did not improve from 1.00000\n",
      "Epoch 37/50\n",
      "94/94 [==============================] - 0s 4ms/step - loss: 1.4163 - acc: 0.9993 - metric_F1score: 0.9993 - val_loss: 1.3984 - val_acc: 0.9990 - val_metric_F1score: 0.9990\n",
      "\n",
      "Epoch 00037: val_acc did not improve from 1.00000\n",
      "Epoch 38/50\n",
      "94/94 [==============================] - 0s 4ms/step - loss: 1.3772 - acc: 0.9996 - metric_F1score: 0.9996 - val_loss: 1.3251 - val_acc: 1.0000 - val_metric_F1score: 1.0000\n",
      "\n",
      "Epoch 00038: val_acc did not improve from 1.00000\n",
      "Epoch 39/50\n",
      "94/94 [==============================] - 0s 4ms/step - loss: 1.3101 - acc: 1.0000 - metric_F1score: 1.0000 - val_loss: 1.2702 - val_acc: 1.0000 - val_metric_F1score: 1.0000\n",
      "\n",
      "Epoch 00039: val_acc did not improve from 1.00000\n",
      "Epoch 40/50\n",
      "94/94 [==============================] - 0s 4ms/step - loss: 1.2772 - acc: 0.9979 - metric_F1score: 0.9979 - val_loss: 1.3813 - val_acc: 0.9980 - val_metric_F1score: 0.9985\n",
      "\n",
      "Epoch 00040: val_acc did not improve from 1.00000\n",
      "Epoch 41/50\n",
      "94/94 [==============================] - 0s 4ms/step - loss: 1.3313 - acc: 0.9980 - metric_F1score: 0.9982 - val_loss: 1.2260 - val_acc: 1.0000 - val_metric_F1score: 1.0000\n",
      "\n",
      "Epoch 00041: val_acc did not improve from 1.00000\n",
      "Epoch 42/50\n",
      "94/94 [==============================] - 0s 4ms/step - loss: 1.2058 - acc: 1.0000 - metric_F1score: 1.0000 - val_loss: 1.1531 - val_acc: 1.0000 - val_metric_F1score: 1.0000\n",
      "\n",
      "Epoch 00042: val_acc did not improve from 1.00000\n",
      "Epoch 43/50\n",
      "94/94 [==============================] - 0s 4ms/step - loss: 1.1393 - acc: 1.0000 - metric_F1score: 1.0000 - val_loss: 1.1015 - val_acc: 0.9990 - val_metric_F1score: 0.9990\n",
      "\n",
      "Epoch 00043: val_acc did not improve from 1.00000\n",
      "Epoch 44/50\n",
      "94/94 [==============================] - 0s 4ms/step - loss: 1.0878 - acc: 0.9998 - metric_F1score: 0.9998 - val_loss: 1.0498 - val_acc: 1.0000 - val_metric_F1score: 1.0000\n",
      "\n",
      "Epoch 00044: val_acc did not improve from 1.00000\n",
      "Epoch 45/50\n",
      "94/94 [==============================] - 0s 4ms/step - loss: 1.0922 - acc: 0.9917 - metric_F1score: 0.9919 - val_loss: 1.5590 - val_acc: 0.9770 - val_metric_F1score: 0.9760\n",
      "\n",
      "Epoch 00045: val_acc did not improve from 1.00000\n",
      "Epoch 46/50\n",
      "94/94 [==============================] - 0s 4ms/step - loss: 1.4274 - acc: 0.9959 - metric_F1score: 0.9958 - val_loss: 1.2304 - val_acc: 0.9990 - val_metric_F1score: 0.9990\n",
      "\n",
      "Epoch 00046: val_acc did not improve from 1.00000\n",
      "Epoch 47/50\n",
      "94/94 [==============================] - 0s 4ms/step - loss: 1.2318 - acc: 0.9940 - metric_F1score: 0.9936 - val_loss: 1.1200 - val_acc: 0.9980 - val_metric_F1score: 0.9980\n",
      "\n",
      "Epoch 00047: val_acc did not improve from 1.00000\n",
      "Epoch 48/50\n",
      "94/94 [==============================] - 0s 4ms/step - loss: 1.0925 - acc: 0.9996 - metric_F1score: 0.9996 - val_loss: 1.0331 - val_acc: 0.9980 - val_metric_F1score: 0.9985\n",
      "\n",
      "Epoch 00048: val_acc did not improve from 1.00000\n",
      "Epoch 49/50\n",
      "94/94 [==============================] - 0s 4ms/step - loss: 1.0272 - acc: 0.9975 - metric_F1score: 0.9977 - val_loss: 1.1733 - val_acc: 0.9820 - val_metric_F1score: 0.9819\n",
      "\n",
      "Epoch 00049: val_acc did not improve from 1.00000\n",
      "Epoch 50/50\n",
      "94/94 [==============================] - 0s 4ms/step - loss: 1.1544 - acc: 0.9857 - metric_F1score: 0.9850 - val_loss: 1.0224 - val_acc: 0.9980 - val_metric_F1score: 0.9985\n",
      "\n",
      "Epoch 00050: val_acc did not improve from 1.00000\n"
     ]
    }
   ],
   "source": [
    "from tensorflow.keras.callbacks import ModelCheckpoint, ReduceLROnPlateau\n",
    "\n",
    "history5 = model5.fit(\n",
    "    x_train,\n",
    "    y_train,\n",
    "    validation_data=(x_val, y_val),\n",
    "    epochs=50,\n",
    "    callbacks=[\n",
    "        ModelCheckpoint('models/multi_hand_gesture_classifier.h5', monitor='val_acc', verbose=1, save_best_only=True, mode='auto'),\n",
    "        ReduceLROnPlateau(monitor='val_metric_F1score', factor=0.5, patience=50, verbose=1, mode='auto')\n",
    "    ]\n",
    ")"
   ]
  },
  {
   "cell_type": "code",
   "execution_count": null,
   "metadata": {
    "id": "1wk545NV2kCb",
    "outputId": "44ae02f2-ed66-4a30-b78b-08b6ae1a8f89"
   },
   "outputs": [
    {
     "data": {
      "image/png": "[encoded data removed]",
      "text/plain": [
       "<Figure size 1152x720 with 2 Axes>"
      ]
     },
     "metadata": {
      "needs_background": "light"
     },
     "output_type": "display_data"
    }
   ],
   "source": [
    "import matplotlib.pyplot as plt\n",
    "\n",
    "fig, loss_ax = plt.subplots(figsize=(16, 10))\n",
    "acc_ax = loss_ax.twinx()\n",
    "\n",
    "loss_ax.set_xlabel('epoch')\n",
    "loss_ax.set_ylabel('loss')\n",
    "\n",
    "acc_ax.plot(history5.history['metric_F1score'], 'b', label='train f1')\n",
    "acc_ax.plot(history5.history['val_metric_F1score'], 'g', label='val f1')\n",
    "acc_ax.set_ylabel('f1-score')\n",
    "acc_ax.legend(loc='upper left')\n",
    "\n",
    "plt.show()"
   ]
  },
  {
   "cell_type": "markdown",
   "metadata": {
    "id": "JxJBcUps3ZSk"
   },
   "source": [
    "L2 규제는 기존의 손실 함수(loss function)에 **가중치의 제곱**을 더함으로써 L1 규제와 마찬가지로 가중치가 너무 크지 않은 방향으로 학습하도록 합니다. L2 규제는 아래의 수식처럼 표현 할 수 있습니다.\n",
    "\n",
    "<img src =\"https://drive.google.com/uc?export=view&id=1-LqVTy67vbM2B6nR1RxfbqeQ5wkYZdzH\">\n",
    "\n",
    "L2의 경우에는 가중치의 값을 이용합니다. 이상치나 노이즈가 있는 데이터에 대한 학습을 진행할 때 사용하면 좋습니다. 특히 선형 모델(Linear model)의 일반화에 좋다고 합니다.     "
   ]
  },
  {
   "cell_type": "code",
   "execution_count": null,
   "metadata": {
    "id": "gU97XID32kCc"
   },
   "outputs": [],
   "source": [
    "#기본 모델 + l2 규제\n",
    "from tensorflow.keras.models import Sequential\n",
    "from tensorflow.keras.layers import LSTM, Dense, Dropout\n",
    "import keras.layers\n",
    "\n",
    "model5 = Sequential([\n",
    "    LSTM(64, activation='relu', input_shape=x_train.shape[1:3], kernel_regularizer=keras.regularizers.l2(0.01)),\n",
    "    Dense(32, activation='relu',kernel_regularizer=keras.regularizers.l2(0.01)),\n",
    "    Dense(len(actions), activation='softmax', kernel_regularizer=keras.regularizers.l2(0.01))\n",
    "])\n",
    "\n",
    "\n",
    "\n",
    "model5.compile(optimizer='adam', loss='categorical_crossentropy', metrics=['acc', metric_F1score])"
   ]
  },
  {
   "cell_type": "code",
   "execution_count": null,
   "metadata": {
    "id": "G3uzd9S12kCi",
    "outputId": "d337b90a-456c-4c0e-800c-4bffb19a33c5"
   },
   "outputs": [
    {
     "name": "stdout",
     "output_type": "stream",
     "text": [
      "Epoch 1/50\n",
      "94/94 [==============================] - 2s 11ms/step - loss: 19.9825 - acc: 0.6092 - metric_F1score: 0.6081 - val_loss: 3.0308 - val_acc: 0.8607 - val_metric_F1score: 0.8600\n",
      "\n",
      "Epoch 00001: val_acc improved from -inf to 0.86072, saving model to models\\multi_hand_gesture_classifier.h5\n",
      "Epoch 2/50\n",
      "94/94 [==============================] - 0s 4ms/step - loss: 2.8315 - acc: 0.8832 - metric_F1score: 0.8835 - val_loss: 1.3683 - val_acc: 0.9699 - val_metric_F1score: 0.9706\n",
      "\n",
      "Epoch 00002: val_acc improved from 0.86072 to 0.96994, saving model to models\\multi_hand_gesture_classifier.h5\n",
      "Epoch 3/50\n",
      "94/94 [==============================] - 0s 4ms/step - loss: 1.2576 - acc: 0.9770 - metric_F1score: 0.9769 - val_loss: 1.1658 - val_acc: 0.9840 - val_metric_F1score: 0.9838\n",
      "\n",
      "Epoch 00003: val_acc improved from 0.96994 to 0.98397, saving model to models\\multi_hand_gesture_classifier.h5\n",
      "Epoch 4/50\n",
      "94/94 [==============================] - 0s 4ms/step - loss: 1.1326 - acc: 0.9845 - metric_F1score: 0.9845 - val_loss: 1.0322 - val_acc: 0.9930 - val_metric_F1score: 0.9927\n",
      "\n",
      "Epoch 00004: val_acc improved from 0.98397 to 0.99299, saving model to models\\multi_hand_gesture_classifier.h5\n",
      "Epoch 5/50\n",
      "94/94 [==============================] - 0s 4ms/step - loss: 1.0298 - acc: 0.9930 - metric_F1score: 0.9930 - val_loss: 1.0012 - val_acc: 0.9880 - val_metric_F1score: 0.9888\n",
      "\n",
      "Epoch 00005: val_acc did not improve from 0.99299\n",
      "Epoch 6/50\n",
      "94/94 [==============================] - 0s 4ms/step - loss: 0.9526 - acc: 0.9960 - metric_F1score: 0.9960 - val_loss: 0.9216 - val_acc: 0.9900 - val_metric_F1score: 0.9902\n",
      "\n",
      "Epoch 00006: val_acc did not improve from 0.99299\n",
      "Epoch 7/50\n",
      "94/94 [==============================] - 0s 4ms/step - loss: 0.9251 - acc: 0.9924 - metric_F1score: 0.9924 - val_loss: 1.3566 - val_acc: 0.9479 - val_metric_F1score: 0.9492\n",
      "\n",
      "Epoch 00007: val_acc did not improve from 0.99299\n",
      "Epoch 8/50\n",
      "94/94 [==============================] - 0s 4ms/step - loss: 0.9735 - acc: 0.9805 - metric_F1score: 0.9806 - val_loss: 0.8690 - val_acc: 0.9880 - val_metric_F1score: 0.9883\n",
      "\n",
      "Epoch 00008: val_acc did not improve from 0.99299\n",
      "Epoch 9/50\n",
      "94/94 [==============================] - 0s 4ms/step - loss: 0.8369 - acc: 0.9891 - metric_F1score: 0.9891 - val_loss: 0.7810 - val_acc: 0.9970 - val_metric_F1score: 0.9976\n",
      "\n",
      "Epoch 00009: val_acc improved from 0.99299 to 0.99699, saving model to models\\multi_hand_gesture_classifier.h5\n",
      "Epoch 10/50\n",
      "94/94 [==============================] - 0s 4ms/step - loss: 0.7767 - acc: 0.9964 - metric_F1score: 0.9964 - val_loss: 0.7406 - val_acc: 0.9980 - val_metric_F1score: 0.9985\n",
      "\n",
      "Epoch 00010: val_acc improved from 0.99699 to 0.99800, saving model to models\\multi_hand_gesture_classifier.h5\n",
      "Epoch 11/50\n",
      "94/94 [==============================] - 0s 4ms/step - loss: 0.7308 - acc: 0.9997 - metric_F1score: 0.9998 - val_loss: 0.7068 - val_acc: 0.9990 - val_metric_F1score: 0.9990\n",
      "\n",
      "Epoch 00011: val_acc improved from 0.99800 to 0.99900, saving model to models\\multi_hand_gesture_classifier.h5\n",
      "Epoch 12/50\n",
      "94/94 [==============================] - 0s 4ms/step - loss: 0.6983 - acc: 1.0000 - metric_F1score: 1.0000 - val_loss: 0.6762 - val_acc: 1.0000 - val_metric_F1score: 1.0000\n",
      "\n",
      "Epoch 00012: val_acc improved from 0.99900 to 1.00000, saving model to models\\multi_hand_gesture_classifier.h5\n",
      "Epoch 13/50\n",
      "94/94 [==============================] - 0s 4ms/step - loss: 0.6684 - acc: 1.0000 - metric_F1score: 1.0000 - val_loss: 0.6486 - val_acc: 1.0000 - val_metric_F1score: 1.0000\n",
      "\n",
      "Epoch 00013: val_acc did not improve from 1.00000\n",
      "Epoch 14/50\n",
      "94/94 [==============================] - 0s 4ms/step - loss: 0.6721 - acc: 0.9980 - metric_F1score: 0.9980 - val_loss: 0.6381 - val_acc: 0.9950 - val_metric_F1score: 0.9956\n",
      "\n",
      "Epoch 00014: val_acc did not improve from 1.00000\n",
      "Epoch 15/50\n",
      "94/94 [==============================] - 0s 4ms/step - loss: 0.6203 - acc: 0.9998 - metric_F1score: 0.9998 - val_loss: 0.6109 - val_acc: 0.9970 - val_metric_F1score: 0.9971\n",
      "\n",
      "Epoch 00015: val_acc did not improve from 1.00000\n",
      "Epoch 16/50\n",
      "94/94 [==============================] - 0s 4ms/step - loss: 0.5957 - acc: 1.0000 - metric_F1score: 1.0000 - val_loss: 0.5821 - val_acc: 0.9990 - val_metric_F1score: 0.9990\n",
      "\n",
      "Epoch 00016: val_acc did not improve from 1.00000\n",
      "Epoch 17/50\n",
      "94/94 [==============================] - 0s 4ms/step - loss: 0.5734 - acc: 1.0000 - metric_F1score: 1.0000 - val_loss: 0.5608 - val_acc: 0.9990 - val_metric_F1score: 0.9990\n",
      "\n",
      "Epoch 00017: val_acc did not improve from 1.00000\n",
      "Epoch 18/50\n",
      "94/94 [==============================] - 0s 4ms/step - loss: 0.5527 - acc: 1.0000 - metric_F1score: 1.0000 - val_loss: 0.5412 - val_acc: 0.9990 - val_metric_F1score: 0.9990\n",
      "\n",
      "Epoch 00018: val_acc did not improve from 1.00000\n",
      "Epoch 19/50\n",
      "94/94 [==============================] - 0s 4ms/step - loss: 0.5333 - acc: 1.0000 - metric_F1score: 1.0000 - val_loss: 0.5225 - val_acc: 0.9990 - val_metric_F1score: 0.9990\n",
      "\n",
      "Epoch 00019: val_acc did not improve from 1.00000\n",
      "Epoch 20/50\n",
      "94/94 [==============================] - 0s 4ms/step - loss: 0.5150 - acc: 1.0000 - metric_F1score: 1.0000 - val_loss: 0.5050 - val_acc: 0.9980 - val_metric_F1score: 0.9980\n",
      "\n",
      "Epoch 00020: val_acc did not improve from 1.00000\n",
      "Epoch 21/50\n",
      "94/94 [==============================] - 0s 4ms/step - loss: 0.4977 - acc: 1.0000 - metric_F1score: 1.0000 - val_loss: 0.4884 - val_acc: 0.9980 - val_metric_F1score: 0.9980\n",
      "\n",
      "Epoch 00021: val_acc did not improve from 1.00000\n",
      "Epoch 22/50\n",
      "94/94 [==============================] - 0s 4ms/step - loss: 0.4815 - acc: 1.0000 - metric_F1score: 1.0000 - val_loss: 0.4726 - val_acc: 0.9980 - val_metric_F1score: 0.9985\n",
      "\n",
      "Epoch 00022: val_acc did not improve from 1.00000\n",
      "Epoch 23/50\n",
      "94/94 [==============================] - 0s 4ms/step - loss: 0.4660 - acc: 1.0000 - metric_F1score: 1.0000 - val_loss: 0.4574 - val_acc: 0.9980 - val_metric_F1score: 0.9980\n",
      "\n",
      "Epoch 00023: val_acc did not improve from 1.00000\n",
      "Epoch 24/50\n",
      "94/94 [==============================] - 0s 4ms/step - loss: 0.4516 - acc: 0.9999 - metric_F1score: 0.9999 - val_loss: 0.4675 - val_acc: 0.9950 - val_metric_F1score: 0.9946\n",
      "\n",
      "Epoch 00024: val_acc did not improve from 1.00000\n",
      "Epoch 25/50\n",
      "94/94 [==============================] - 0s 4ms/step - loss: 0.4459 - acc: 0.9997 - metric_F1score: 0.9997 - val_loss: 0.4328 - val_acc: 0.9980 - val_metric_F1score: 0.9980\n",
      "\n",
      "Epoch 00025: val_acc did not improve from 1.00000\n",
      "Epoch 26/50\n",
      "94/94 [==============================] - 0s 4ms/step - loss: 0.4268 - acc: 1.0000 - metric_F1score: 1.0000 - val_loss: 0.4189 - val_acc: 0.9980 - val_metric_F1score: 0.9980\n",
      "\n",
      "Epoch 00026: val_acc did not improve from 1.00000\n",
      "Epoch 27/50\n",
      "94/94 [==============================] - 0s 4ms/step - loss: 0.4134 - acc: 1.0000 - metric_F1score: 1.0000 - val_loss: 0.4063 - val_acc: 0.9980 - val_metric_F1score: 0.9980\n",
      "\n",
      "Epoch 00027: val_acc did not improve from 1.00000\n",
      "Epoch 28/50\n",
      "94/94 [==============================] - 0s 4ms/step - loss: 0.4008 - acc: 1.0000 - metric_F1score: 1.0000 - val_loss: 0.3942 - val_acc: 0.9980 - val_metric_F1score: 0.9980\n",
      "\n",
      "Epoch 00028: val_acc did not improve from 1.00000\n",
      "Epoch 29/50\n",
      "94/94 [==============================] - 0s 4ms/step - loss: 0.3889 - acc: 1.0000 - metric_F1score: 1.0000 - val_loss: 0.3825 - val_acc: 0.9980 - val_metric_F1score: 0.9980\n",
      "\n",
      "Epoch 00029: val_acc did not improve from 1.00000\n",
      "Epoch 30/50\n",
      "94/94 [==============================] - 0s 4ms/step - loss: 0.3774 - acc: 1.0000 - metric_F1score: 1.0000 - val_loss: 0.3719 - val_acc: 0.9980 - val_metric_F1score: 0.9980\n",
      "\n",
      "Epoch 00030: val_acc did not improve from 1.00000\n",
      "Epoch 31/50\n",
      "94/94 [==============================] - 0s 4ms/step - loss: 0.3781 - acc: 0.9977 - metric_F1score: 0.9976 - val_loss: 0.3774 - val_acc: 0.9950 - val_metric_F1score: 0.9951\n",
      "\n",
      "Epoch 00031: val_acc did not improve from 1.00000\n",
      "Epoch 32/50\n",
      "94/94 [==============================] - 0s 4ms/step - loss: 0.3704 - acc: 0.9983 - metric_F1score: 0.9983 - val_loss: 0.3536 - val_acc: 1.0000 - val_metric_F1score: 1.0000\n",
      "\n",
      "Epoch 00032: val_acc did not improve from 1.00000\n",
      "Epoch 33/50\n",
      "94/94 [==============================] - 0s 4ms/step - loss: 0.3507 - acc: 1.0000 - metric_F1score: 1.0000 - val_loss: 0.3424 - val_acc: 1.0000 - val_metric_F1score: 1.0000\n"
     ]
    },
    {
     "name": "stdout",
     "output_type": "stream",
     "text": [
      "\n",
      "Epoch 00033: val_acc did not improve from 1.00000\n",
      "Epoch 34/50\n",
      "94/94 [==============================] - 0s 4ms/step - loss: 0.3398 - acc: 1.0000 - metric_F1score: 1.0000 - val_loss: 0.3323 - val_acc: 1.0000 - val_metric_F1score: 1.0000\n",
      "\n",
      "Epoch 00034: val_acc did not improve from 1.00000\n",
      "Epoch 35/50\n",
      "94/94 [==============================] - 0s 4ms/step - loss: 0.3298 - acc: 1.0000 - metric_F1score: 1.0000 - val_loss: 0.3296 - val_acc: 0.9970 - val_metric_F1score: 0.9976\n",
      "\n",
      "Epoch 00035: val_acc did not improve from 1.00000\n",
      "Epoch 36/50\n",
      "94/94 [==============================] - 0s 4ms/step - loss: 0.3268 - acc: 0.9979 - metric_F1score: 0.9979 - val_loss: 0.3154 - val_acc: 1.0000 - val_metric_F1score: 1.0000\n",
      "\n",
      "Epoch 00036: val_acc did not improve from 1.00000\n",
      "Epoch 37/50\n",
      "94/94 [==============================] - 0s 4ms/step - loss: 0.3128 - acc: 1.0000 - metric_F1score: 1.0000 - val_loss: 0.3059 - val_acc: 1.0000 - val_metric_F1score: 1.0000\n",
      "\n",
      "Epoch 00037: val_acc did not improve from 1.00000\n",
      "Epoch 38/50\n",
      "94/94 [==============================] - 0s 4ms/step - loss: 0.3035 - acc: 1.0000 - metric_F1score: 1.0000 - val_loss: 0.2970 - val_acc: 1.0000 - val_metric_F1score: 1.0000\n",
      "\n",
      "Epoch 00038: val_acc did not improve from 1.00000\n",
      "Epoch 39/50\n",
      "94/94 [==============================] - 0s 4ms/step - loss: 0.2947 - acc: 1.0000 - metric_F1score: 1.0000 - val_loss: 0.2886 - val_acc: 1.0000 - val_metric_F1score: 1.0000\n",
      "\n",
      "Epoch 00039: val_acc did not improve from 1.00000\n",
      "Epoch 40/50\n",
      "94/94 [==============================] - 0s 4ms/step - loss: 0.2863 - acc: 1.0000 - metric_F1score: 1.0000 - val_loss: 0.2804 - val_acc: 1.0000 - val_metric_F1score: 1.0000\n",
      "\n",
      "Epoch 00040: val_acc did not improve from 1.00000\n",
      "Epoch 41/50\n",
      "94/94 [==============================] - 0s 4ms/step - loss: 0.2781 - acc: 1.0000 - metric_F1score: 1.0000 - val_loss: 0.2725 - val_acc: 1.0000 - val_metric_F1score: 1.0000\n",
      "\n",
      "Epoch 00041: val_acc did not improve from 1.00000\n",
      "Epoch 42/50\n",
      "94/94 [==============================] - 0s 4ms/step - loss: 0.2702 - acc: 1.0000 - metric_F1score: 1.0000 - val_loss: 0.2648 - val_acc: 1.0000 - val_metric_F1score: 1.0000\n",
      "\n",
      "Epoch 00042: val_acc did not improve from 1.00000\n",
      "Epoch 43/50\n",
      "94/94 [==============================] - 0s 4ms/step - loss: 0.2624 - acc: 1.0000 - metric_F1score: 1.0000 - val_loss: 0.2576 - val_acc: 1.0000 - val_metric_F1score: 1.0000\n",
      "\n",
      "Epoch 00043: val_acc did not improve from 1.00000\n",
      "Epoch 44/50\n",
      "94/94 [==============================] - 0s 4ms/step - loss: 0.2549 - acc: 1.0000 - metric_F1score: 1.0000 - val_loss: 0.2513 - val_acc: 0.9990 - val_metric_F1score: 0.9990\n",
      "\n",
      "Epoch 00044: val_acc did not improve from 1.00000\n",
      "Epoch 45/50\n",
      "94/94 [==============================] - 0s 4ms/step - loss: 0.2476 - acc: 1.0000 - metric_F1score: 1.0000 - val_loss: 0.2427 - val_acc: 1.0000 - val_metric_F1score: 1.0000\n",
      "\n",
      "Epoch 00045: val_acc did not improve from 1.00000\n",
      "Epoch 46/50\n",
      "94/94 [==============================] - 0s 4ms/step - loss: 0.2405 - acc: 1.0000 - metric_F1score: 1.0000 - val_loss: 0.2358 - val_acc: 1.0000 - val_metric_F1score: 1.0000\n",
      "\n",
      "Epoch 00046: val_acc did not improve from 1.00000\n",
      "Epoch 47/50\n",
      "94/94 [==============================] - 0s 4ms/step - loss: 0.2335 - acc: 1.0000 - metric_F1score: 1.0000 - val_loss: 0.2297 - val_acc: 1.0000 - val_metric_F1score: 1.0000\n",
      "\n",
      "Epoch 00047: val_acc did not improve from 1.00000\n",
      "Epoch 48/50\n",
      "94/94 [==============================] - 0s 4ms/step - loss: 0.2267 - acc: 1.0000 - metric_F1score: 1.0000 - val_loss: 0.2221 - val_acc: 1.0000 - val_metric_F1score: 1.0000\n",
      "\n",
      "Epoch 00048: val_acc did not improve from 1.00000\n",
      "Epoch 49/50\n",
      "94/94 [==============================] - 0s 4ms/step - loss: 0.2200 - acc: 1.0000 - metric_F1score: 1.0000 - val_loss: 0.2158 - val_acc: 1.0000 - val_metric_F1score: 1.0000\n",
      "\n",
      "Epoch 00049: val_acc did not improve from 1.00000\n",
      "Epoch 50/50\n",
      "94/94 [==============================] - 0s 4ms/step - loss: 0.2140 - acc: 1.0000 - metric_F1score: 1.0000 - val_loss: 0.2146 - val_acc: 0.9980 - val_metric_F1score: 0.9980\n",
      "\n",
      "Epoch 00050: val_acc did not improve from 1.00000\n"
     ]
    }
   ],
   "source": [
    "from tensorflow.keras.callbacks import ModelCheckpoint, ReduceLROnPlateau\n",
    "\n",
    "history5 = model5.fit(\n",
    "    x_train,\n",
    "    y_train,\n",
    "    validation_data=(x_val, y_val),\n",
    "    epochs=50,\n",
    "    callbacks=[\n",
    "        ModelCheckpoint('models/multi_hand_gesture_classifier.h5', monitor='val_acc', verbose=1, save_best_only=True, mode='auto'),\n",
    "        ReduceLROnPlateau(monitor='val_metric_F1score', factor=0.5, patience=50, verbose=1, mode='auto')\n",
    "    ]\n",
    ")"
   ]
  },
  {
   "cell_type": "code",
   "execution_count": null,
   "metadata": {
    "id": "fi4Sq2oE2kCj",
    "outputId": "1359d849-24b5-49cc-aaa7-31887f83ac03",
    "scrolled": true
   },
   "outputs": [
    {
     "data": {
      "image/png": "[encoded data removed]",
      "text/plain": [
       "<Figure size 1152x720 with 2 Axes>"
      ]
     },
     "metadata": {
      "needs_background": "light"
     },
     "output_type": "display_data"
    }
   ],
   "source": [
    "import matplotlib.pyplot as plt\n",
    "\n",
    "fig, loss_ax = plt.subplots(figsize=(16, 10))\n",
    "acc_ax = loss_ax.twinx()\n",
    "\n",
    "loss_ax.set_xlabel('epoch')\n",
    "loss_ax.set_ylabel('loss')\n",
    "\n",
    "acc_ax.plot(history5.history['metric_F1score'], 'b', label='train f1')\n",
    "acc_ax.plot(history5.history['val_metric_F1score'], 'g', label='val f1')\n",
    "acc_ax.set_ylabel('f1-score')\n",
    "acc_ax.legend(loc='upper left')\n",
    "\n",
    "plt.show()"
   ]
  },
  {
   "cell_type": "markdown",
   "metadata": {
    "id": "h9nxv5wppSNG"
   },
   "source": [
    "이제 위 규제 방법들을 활용하여 가장 최적으로 데이터를 잘 학습시킨 모형을 찾아보겠습니다."
   ]
  },
  {
   "cell_type": "markdown",
   "metadata": {
    "id": "8Gd9KyNbpSNH"
   },
   "source": [
    "### 6. 최종 모형\n",
    "\n",
    "위 데이터에 가장 잘 적합한다고 생각한 최종모형은 LSTM에 L2 규제를 적용하고 30%의 Dropout과 Early Stopping을 적용한 모형입니다. 여러 실험을 해보았는데, 우선 데이터가 쉬워서 무슨 모형을 해도 과적합이 되기 때문에 천천히 1에 도달하는 모형을 select 했습니다."
   ]
  },
  {
   "cell_type": "code",
   "execution_count": 17,
   "metadata": {
    "id": "P_I_EYTq2kCm"
   },
   "outputs": [],
   "source": [
    "#기본 모델 + ㅣ2 규제 + dropout 30% + early stopping\n",
    "from tensorflow.keras.models import Sequential\n",
    "from tensorflow.keras.layers import LSTM, Dense, Dropout\n",
    "import keras.layers\n",
    "\n",
    "model7 = Sequential([\n",
    "    LSTM(64, activation='relu', input_shape=x_train.shape[1:3], kernel_regularizer=keras.regularizers.l2(0.01)),\n",
    "    Dropout(0.3),\n",
    "    Dense(32, activation='relu',kernel_regularizer=keras.regularizers.l2(0.01)),\n",
    "    Dropout(0.3),\n",
    "    Dense(len(actions), activation='softmax', kernel_regularizer=keras.regularizers.l2(0.01))\n",
    "])\n",
    "\n",
    "\n",
    "\n",
    "model7.compile(optimizer='adam', loss='categorical_crossentropy', metrics=['acc', metric_F1score])"
   ]
  },
  {
   "cell_type": "code",
   "execution_count": 18,
   "metadata": {
    "id": "s2QgyVVH2kCn",
    "outputId": "7794be80-11e5-4a01-f704-a638437169d0",
    "scrolled": true
   },
   "outputs": [
    {
     "name": "stdout",
     "output_type": "stream",
     "text": [
      "Epoch 1/50\n",
      "94/94 [==============================] - 2s 9ms/step - loss: 17.4224 - acc: 0.3992 - metric_F1score: 0.3968 - val_loss: 2.8052 - val_acc: 0.8477 - val_metric_F1score: 0.8529\n",
      "\n",
      "Epoch 00001: val_acc improved from -inf to 0.84770, saving model to models\\multi_hand_gesture_classifier.h5\n",
      "Epoch 2/50\n",
      "94/94 [==============================] - 0s 5ms/step - loss: 5.0950 - acc: 0.6867 - metric_F1score: 0.6826 - val_loss: 1.9999 - val_acc: 0.9349 - val_metric_F1score: 0.9373\n",
      "\n",
      "Epoch 00002: val_acc improved from 0.84770 to 0.93487, saving model to models\\multi_hand_gesture_classifier.h5\n",
      "Epoch 3/50\n",
      "94/94 [==============================] - 0s 5ms/step - loss: 3.0363 - acc: 0.7859 - metric_F1score: 0.7861 - val_loss: 1.7552 - val_acc: 0.9329 - val_metric_F1score: 0.9364\n",
      "\n",
      "Epoch 00003: val_acc did not improve from 0.93487\n",
      "Epoch 4/50\n",
      "94/94 [==============================] - 0s 5ms/step - loss: 1.9466 - acc: 0.8902 - metric_F1score: 0.8896 - val_loss: 1.3308 - val_acc: 0.9649 - val_metric_F1score: 0.9667\n",
      "\n",
      "Epoch 00004: val_acc improved from 0.93487 to 0.96493, saving model to models\\multi_hand_gesture_classifier.h5\n",
      "Epoch 5/50\n",
      "94/94 [==============================] - 0s 5ms/step - loss: 2.2335 - acc: 0.8848 - metric_F1score: 0.8852 - val_loss: 1.1899 - val_acc: 0.9659 - val_metric_F1score: 0.9672\n",
      "\n",
      "Epoch 00005: val_acc improved from 0.96493 to 0.96593, saving model to models\\multi_hand_gesture_classifier.h5\n",
      "Epoch 6/50\n",
      "94/94 [==============================] - 0s 5ms/step - loss: 1.4559 - acc: 0.9287 - metric_F1score: 0.9273 - val_loss: 1.0930 - val_acc: 0.9890 - val_metric_F1score: 0.9897\n",
      "\n",
      "Epoch 00006: val_acc improved from 0.96593 to 0.98898, saving model to models\\multi_hand_gesture_classifier.h5\n",
      "Epoch 7/50\n",
      "94/94 [==============================] - 0s 4ms/step - loss: 1.2552 - acc: 0.9479 - metric_F1score: 0.9477 - val_loss: 1.1089 - val_acc: 0.9489 - val_metric_F1score: 0.9519\n",
      "\n",
      "Epoch 00007: val_acc did not improve from 0.98898\n",
      "Epoch 8/50\n",
      "94/94 [==============================] - 0s 4ms/step - loss: 1.2512 - acc: 0.9313 - metric_F1score: 0.9308 - val_loss: 1.0226 - val_acc: 0.9860 - val_metric_F1score: 0.9863\n",
      "\n",
      "Epoch 00008: val_acc did not improve from 0.98898\n",
      "Epoch 9/50\n",
      "94/94 [==============================] - 0s 5ms/step - loss: 1.2584 - acc: 0.9516 - metric_F1score: 0.9514 - val_loss: 0.9329 - val_acc: 0.9940 - val_metric_F1score: 0.9936\n",
      "\n",
      "Epoch 00009: val_acc improved from 0.98898 to 0.99399, saving model to models\\multi_hand_gesture_classifier.h5\n",
      "Epoch 10/50\n",
      "94/94 [==============================] - 0s 5ms/step - loss: 1.1266 - acc: 0.9703 - metric_F1score: 0.9715 - val_loss: 0.9175 - val_acc: 0.9870 - val_metric_F1score: 0.9887\n",
      "\n",
      "Epoch 00010: val_acc did not improve from 0.99399\n",
      "Epoch 11/50\n",
      "94/94 [==============================] - 0s 5ms/step - loss: 0.9677 - acc: 0.9779 - metric_F1score: 0.9790 - val_loss: 0.8650 - val_acc: 0.9940 - val_metric_F1score: 0.9951\n",
      "\n",
      "Epoch 00011: val_acc did not improve from 0.99399\n",
      "Epoch 12/50\n",
      "94/94 [==============================] - 0s 5ms/step - loss: 0.9262 - acc: 0.9827 - metric_F1score: 0.9835 - val_loss: 0.8253 - val_acc: 0.9950 - val_metric_F1score: 0.9951\n",
      "\n",
      "Epoch 00012: val_acc improved from 0.99399 to 0.99499, saving model to models\\multi_hand_gesture_classifier.h5\n",
      "Epoch 13/50\n",
      "94/94 [==============================] - 0s 5ms/step - loss: 0.8510 - acc: 0.9905 - metric_F1score: 0.9912 - val_loss: 0.7893 - val_acc: 0.9980 - val_metric_F1score: 0.9985\n",
      "\n",
      "Epoch 00013: val_acc improved from 0.99499 to 0.99800, saving model to models\\multi_hand_gesture_classifier.h5\n",
      "Epoch 14/50\n",
      "94/94 [==============================] - 1s 6ms/step - loss: 0.8316 - acc: 0.9843 - metric_F1score: 0.9852 - val_loss: 0.7598 - val_acc: 0.9970 - val_metric_F1score: 0.9971\n",
      "\n",
      "Epoch 00014: val_acc did not improve from 0.99800\n",
      "Epoch 15/50\n",
      "94/94 [==============================] - 1s 5ms/step - loss: 0.7756 - acc: 0.9908 - metric_F1score: 0.9918 - val_loss: 0.7507 - val_acc: 0.9940 - val_metric_F1score: 0.9946\n",
      "\n",
      "Epoch 00015: val_acc did not improve from 0.99800\n",
      "Epoch 16/50\n",
      "94/94 [==============================] - 0s 5ms/step - loss: 0.7754 - acc: 0.9902 - metric_F1score: 0.9912 - val_loss: 0.6989 - val_acc: 1.0000 - val_metric_F1score: 1.0000\n",
      "\n",
      "Epoch 00016: val_acc improved from 0.99800 to 1.00000, saving model to models\\multi_hand_gesture_classifier.h5\n",
      "Epoch 17/50\n",
      "94/94 [==============================] - 0s 5ms/step - loss: 0.7150 - acc: 0.9939 - metric_F1score: 0.9939 - val_loss: 0.6778 - val_acc: 1.0000 - val_metric_F1score: 1.0000\n",
      "\n",
      "Epoch 00017: val_acc did not improve from 1.00000\n",
      "Epoch 18/50\n",
      "94/94 [==============================] - 0s 5ms/step - loss: 0.7091 - acc: 0.9901 - metric_F1score: 0.9917 - val_loss: 0.6539 - val_acc: 1.0000 - val_metric_F1score: 1.0000\n",
      "\n",
      "Epoch 00018: val_acc did not improve from 1.00000\n",
      "Epoch 19/50\n",
      "94/94 [==============================] - ETA: 0s - loss: 0.6669 - acc: 0.9962 - metric_F1score: 0.99 - 0s 5ms/step - loss: 0.6661 - acc: 0.9961 - metric_F1score: 0.9960 - val_loss: 0.6305 - val_acc: 1.0000 - val_metric_F1score: 1.0000\n",
      "\n",
      "Epoch 00019: val_acc did not improve from 1.00000\n",
      "Epoch 20/50\n",
      "94/94 [==============================] - 1s 6ms/step - loss: 0.6313 - acc: 0.9966 - metric_F1score: 0.9968 - val_loss: 0.6081 - val_acc: 1.0000 - val_metric_F1score: 1.0000\n",
      "\n",
      "Epoch 00020: val_acc did not improve from 1.00000\n",
      "Epoch 21/50\n",
      "94/94 [==============================] - 0s 5ms/step - loss: 0.6160 - acc: 0.9970 - metric_F1score: 0.9975 - val_loss: 0.5874 - val_acc: 1.0000 - val_metric_F1score: 0.9995\n",
      "\n",
      "Epoch 00021: val_acc did not improve from 1.00000\n"
     ]
    }
   ],
   "source": [
    "from tensorflow.keras.callbacks import ModelCheckpoint, ReduceLROnPlateau\n",
    "from keras.callbacks import EarlyStopping\n",
    "early_stopping = EarlyStopping(monitor = 'val_metric_F1score', min_delta = 0, patience = 20, mode = 'auto')\n",
    "\n",
    "\n",
    "history7 = model7.fit(\n",
    "    x_train,\n",
    "    y_train,\n",
    "    validation_data=(x_val, y_val),\n",
    "    epochs=50,\n",
    "    callbacks=[\n",
    "        ModelCheckpoint('models/multi_hand_gesture_classifier.h5', monitor='val_acc', verbose=1, save_best_only=True, mode='auto'),\n",
    "        ReduceLROnPlateau(monitor='val_metric_F1score', factor=0.5, patience=50, verbose=1, mode='auto'),\n",
    "        early_stopping\n",
    "    \n",
    "    ]\n",
    ")"
   ]
  },
  {
   "cell_type": "code",
   "execution_count": 19,
   "metadata": {
    "id": "9U0nOVMi2kCo",
    "outputId": "303c643d-ce83-4f59-eb40-78672238ce05"
   },
   "outputs": [
    {
     "data": {
      "image/png": "[encoded data removed]",
      "text/plain": [
       "<Figure size 1152x720 with 2 Axes>"
      ]
     },
     "metadata": {
      "needs_background": "light"
     },
     "output_type": "display_data"
    }
   ],
   "source": [
    "import matplotlib.pyplot as plt\n",
    "\n",
    "fig, loss_ax = plt.subplots(figsize=(16, 10))\n",
    "acc_ax = loss_ax.twinx()\n",
    "\n",
    "loss_ax.set_xlabel('epoch')\n",
    "loss_ax.set_ylabel('loss')\n",
    "\n",
    "\n",
    "acc_ax.plot(history7.history['metric_F1score'], 'b', label='train f1')\n",
    "acc_ax.plot(history7.history['val_metric_F1score'], 'g', label='val f1')\n",
    "acc_ax.set_ylabel('f1-score')\n",
    "acc_ax.legend(loc='upper left')\n",
    "\n",
    "plt.show()"
   ]
  },
  {
   "cell_type": "code",
   "execution_count": 21,
   "metadata": {},
   "outputs": [
    {
     "name": "stdout",
     "output_type": "stream",
     "text": [
      "INFO:tensorflow:Assets written to: C:\\Users\\hu612\\AppData\\Local\\Temp\\tmpk6nygnn8\\assets\n"
     ]
    },
    {
     "name": "stderr",
     "output_type": "stream",
     "text": [
      "INFO:tensorflow:Assets written to: C:\\Users\\hu612\\AppData\\Local\\Temp\\tmpk6nygnn8\\assets\n"
     ]
    }
   ],
   "source": [
    "import tensorflow as tf\n",
    "# Convert the model.\n",
    "converter = tf.lite.TFLiteConverter.from_keras_model(model7)\n",
    "tflite_model = converter.convert()\n",
    "\n",
    "# Save the model.\n",
    "with open('./models/hand_gesture_classifier.tflite', 'wb') as f:\n",
    "    f.write(tflite_model)"
   ]
  },
  {
   "cell_type": "markdown",
   "metadata": {
    "id": "eOTmsUdh2kCr"
   },
   "source": [
    "### 7. 결론"
   ]
  },
  {
   "cell_type": "markdown",
   "metadata": {
    "id": "AZCWlGzm2kCr"
   },
   "source": [
    "최종 모형으로 선택한 모형은 3가지의 규제 방법을 쓴 모형입니다.\n",
    "하지만, 위 모형으로 하여 test를 진행하였을 때, **중심에서는 인식을 잘 하지만 영상의 외곽으로 손동작이 갈수록 인식을 잘 못하는 경향이 나타났습니다**.\n",
    "이에, 2편에서는 영상 외곽에서도 손동작을 잘 인식하려면 어떻게 해야하는지에 관한 게시글을 작성하려고 합니다."
   ]
  },
  {
   "cell_type": "markdown",
   "metadata": {
    "id": "q7eK9biT2kCs"
   },
   "source": [
    "## [마무리]\n",
    "\n",
    "- **5월 24일 오후 2시에 만나요🔥✨**\n",
    "\n",
    "# 감사합니다 :)"
   ]
  }
 ],
 "metadata": {
  "colab": {
   "collapsed_sections": [
    "NovsrRN12kCW",
    "nsZLMbtO2kCY"
   ],
   "name": "train_multi_hand_gesture3.ipynb",
   "provenance": []
  },
  "interpreter": {
   "hash": "eb8d34d53d16442ab45ee5ae0fcb3a4f0af0f2ef684aa754f8ae5e8bd03f8c50"
  },
  "kernelspec": {
   "display_name": "Python 3",
   "language": "python",
   "name": "python3"
  },
  "language_info": {
   "codemirror_mode": {
    "name": "ipython",
    "version": 3
   },
   "file_extension": ".py",
   "mimetype": "text/x-python",
   "name": "python",
   "nbconvert_exporter": "python",
   "pygments_lexer": "ipython3",
   "version": "3.8.5"
  }
 },
 "nbformat": 4,
 "nbformat_minor": 1
}
