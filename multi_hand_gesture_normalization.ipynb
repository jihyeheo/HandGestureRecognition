{
 "cells": [
  {
   "cell_type": "markdown",
   "metadata": {},
   "source": [
    "# 🔥포스🔥\n",
    "\n",
    "### 위 게시글을 시리즈물📖입니다.  \n",
    "**[1편. OpenCV의 기초, Numpy와 Matplotlib](https://dacon.io/codeshare/4768?page=1&dtype=recent)**<br>\n",
    "**[2편. OpenCV 기초(이미지 입출력, 그리기, 창 관리, 이벤트 처리 등)](https://dacon.io/codeshare/4837?page=1&dtype=recent)**<br>\n",
    "**[3편. 이미지 프로세싱(컬러 스페이스, 스레시홀딩, 이미지 연산, 히스토그램)](https://dacon.io/codeshare/4858?page=1&dtype=recent)**<br>\n",
    "**[4편. OpenCV 기하학적 변환](https://dacon.io/codeshare/4875?page=1&dtype=recent)**<br>\n",
    "**[5편. OpenCV 영상필터](https://dacon.io/codeshare/4898?page=1&dtype=recent)**<br>\n",
    "**[6편. Multi-Hand Gesture Recognition(1)](https://dacon.io/codeshare/4956?page=1&dtype=recent)**\n",
    "\n",
    "* 안녕하세요 :) 데이크루 2기 *포스팀*입니다!\n",
    "* 오늘은!! 포스팀이 만든 **프로젝트**를 발표하는 게시글입니다!\n",
    "* 저번에 게시했던 Multi-Hand Gesture Recognition에 모형에 이어 모형을 활용하여 다양한 정규화 방식을 진행하여 어떤 정규화 방식이 화면 중앙이 아니더라도 손 동작을 잘 인식하는지 알아봅시다!\n",
    "\n",
    "\n",
    "\n",
    "## 목차\n",
    "## 1. 코드\n",
    "###  1.1 벡터 정규화\n",
    "###  1.2 위치 정규화\n",
    "## 2. 결론\n",
    "\n",
    "# 그럼 시작합니다 :)\n",
    "\n",
    "\n",
    "### 개요\n",
    "\n",
    "코로나로 인해 비대면으로 진행되는 업무가 많이 생겼습니다. 가령 수업, 미팅 등 입니다. 이렇게 비대면 수요가 높아지다보니 영상에서 어떤 task를 이용한 사업들도 많이 나왔습니다. 최근 기사에서는 '비대면 술자리' 라는 콘텐츠로 화면에서 물체를 분류하거나 처리하여 게임에 적용하는 등 많은 사례가 나오고 있습니다. 이에, 동작을 인식하는 프로젝트를 하면서 실제 현업에서 적용된 사례를 간단하게나마 구현해보고 더 나아가 모든 비대면 업무 참가자들이 마이크나 채팅을 통해 대답하는 것보다 손 동작을 인식함으로써 효율적인 의사소통을 기대하는 마음으로 프로젝트를 진행하였습니다. \n",
    "\n",
    "\n",
    "\n",
    "### 데이터 소개\n",
    "\n",
    "\n",
    "![image](https://user-images.githubusercontent.com/82289435/169697510-31c88ea0-7d03-4aa2-b644-072574c37050.png)\n",
    "\n",
    "\n",
    "\n",
    "분류하고자 하는 손 동작 인식은 두 손을 이용한 동작 인식입니다. 사용한 동작은 총 4가지 입니다.\n",
    "\n",
    "- yes : 두 손을 동그랗게 모아 o를 나타내는 동작입니다.\n",
    "- no : 두 손을 cross하여 x를 나타내는 동작입니다.\n",
    "- like : 두 손으로 엄지척을 하는 동작입니다.\n",
    "- heart : 두 손으로 하트를 그리는 동작입니다.\n",
    "\n",
    "\n",
    "\n",
    "### 모형 설명\n",
    "\n",
    "Base Model로 딥러닝 중 **LSTM(Long Short Term Memory)**을 사용하였습니다. 장/단기 기억을 가능하게 설계한 신경망 구조를 의미하는 LSTM은 주로 시계열 처리나 자연어 처리에 많이 사용되곤 합니다. 여기에서는 동작의 움직임을 frame 당으로 바꾸어 vector로 만들어 input으로 들어갑니다. 저희는 많은 모형 중에 [6편. Multi-Hand Gesture Recognition](https://dacon.io/codeshare/4956?page=1&dtype=recent) 의 결론으로 냈던 LSTM 모형을 사용하여 모델링을 시도합니다."
   ]
  },
  {
   "cell_type": "markdown",
   "metadata": {},
   "source": [
    "### 1. 코드"
   ]
  },
  {
   "cell_type": "markdown",
   "metadata": {},
   "source": [
    "- 저번 프로젝트 1편에서는 **과적합을 줄이기 위해** 여러 방법들을 사용해보았습니다.\n",
    "- 이 때 해당 모형들을 가지고 test 데이터 셋으로 실험을 진행해보니 **중심에서는 인식을 잘 하지만 영상의 외곽으로 손동작이 갈수록 인식을 잘 못하는 경향이 나타났습니다.**\n",
    "- 따라서 어떻게 하면 영상 외곽에서도 손동작을 잘 인식할 수 있을지를 고민해 보았고, 그 이유를 분석해보니 test 데이터는 **영상의 외곽에 손이 위치**했기 때문이라는 가설을 세워보았습니다.\n",
    "- 그리하여 성능을 올릴 수 있는 방법으로 벡터 정규화와 위치 정규화 방법을 선택하였고, 따라서 이번 프로젝트 2편에서는 저번 프로젝트 1편에서 사용했던 과적합 방지 모델을 그대로 사용한 결과보다 벡터 정규화, 위치 정규화 방법이 더 좋은 F1-Score를 얻을 수 있을것이라는 가설을 검증해보도록 하겠습니다."
   ]
  },
  {
   "cell_type": "markdown",
   "metadata": {},
   "source": [
    "### 정규화 적용 전\n",
    "\n",
    "![슬라이드2](https://user-images.githubusercontent.com/82289435/169698149-d3ebb2f6-8865-4a3d-9237-3da687eb2e64.PNG)\n",
    "\n",
    "- 다음 그림과 같이 정규화를 적용하기 전에는 화면 해상도 전체에 대하여 좌표 계산을 진행하게 됩니다.\n",
    "\n",
    "### 정규화 적용 후\n",
    "\n",
    "\n",
    "![슬라이드3](https://user-images.githubusercontent.com/82289435/169698155-33aa81c6-9eda-4269-b3cf-01e86ce7f59d.PNG)\n",
    "\n",
    "\n",
    "- 정규화를 적용하면 손을 기준으로 좌표 또는 벡터가 계산되어 좌표를 산출합니다."
   ]
  },
  {
   "cell_type": "markdown",
   "metadata": {},
   "source": [
    "### 1.1 정규화를 적용하지 않은 모델의 성능(Test Data Inference)"
   ]
  },
  {
   "cell_type": "markdown",
   "metadata": {},
   "source": [
    "Working Directory 설정  \n",
    "jupyter notebook의 경로를 **{User path}\\Hand_Gesture_Recognition**로 지정해주세요."
   ]
  },
  {
   "cell_type": "code",
   "execution_count": 1,
   "metadata": {},
   "outputs": [
    {
     "name": "stdout",
     "output_type": "stream",
     "text": [
      "c:\\Users\\user\\Desktop\\Projects\\Hand_Gesture_Recognition\n"
     ]
    }
   ],
   "source": [
    "%pwd\n",
    "%cd ../../../"
   ]
  },
  {
   "cell_type": "markdown",
   "metadata": {},
   "source": [
    "라이브러리 선언 및 시드 고정"
   ]
  },
  {
   "cell_type": "code",
   "execution_count": 2,
   "metadata": {},
   "outputs": [],
   "source": [
    "import numpy as np\n",
    "np.random.seed(42)\n",
    "import tensorflow as tf\n",
    "tf.random.set_seed(42)"
   ]
  },
  {
   "cell_type": "markdown",
   "metadata": {},
   "source": [
    "데이터 로드"
   ]
  },
  {
   "cell_type": "code",
   "execution_count": 3,
   "metadata": {},
   "outputs": [],
   "source": [
    "# 정규화 적용하지 않은 학습 데이터\n",
    "data_yes = np.load('dataset/not_applied_normalization/train/seq_yes.npy')\n",
    "data_no = np.load('dataset/not_applied_normalization/train/seq_no.npy')\n",
    "data_like = np.load('dataset/not_applied_normalization/train/seq_like.npy')\n",
    "data_heart = np.load('dataset/not_applied_normalization/train/seq_heart.npy')\n",
    "\n",
    "# 테스트 데이터\n",
    "test_yes = np.load('dataset/not_applied_normalization/new_test/seq_yes.npy')\n",
    "test_no = np.load('dataset/not_applied_normalization/new_test/seq_no.npy')\n",
    "test_like = np.load('dataset/not_applied_normalization/new_test/seq_like.npy')\n",
    "test_heart = np.load('dataset/not_applied_normalization/new_test/seq_heart.npy')\n",
    "\n",
    "actions = ['yes', 'no', 'like', 'heart']\n",
    "\n",
    "data = np.concatenate([data_yes ,data_no, data_like, data_heart], axis=0)\n",
    "data_test = np.concatenate([test_yes ,test_no, test_like, test_heart], axis=0)"
   ]
  },
  {
   "cell_type": "markdown",
   "metadata": {},
   "source": [
    "학습 및 정답 데이터 분리"
   ]
  },
  {
   "cell_type": "code",
   "execution_count": 4,
   "metadata": {},
   "outputs": [],
   "source": [
    "x_data = data[:, :, :-1]\n",
    "labels = data[:, 0, -1]\n",
    "\n",
    "x_data_test = data_test[:, :, :-1]\n",
    "labels_test = data_test[:, 0, -1]"
   ]
  },
  {
   "cell_type": "markdown",
   "metadata": {},
   "source": [
    "분류 문제 풀이를 위한 원핫 인코딩"
   ]
  },
  {
   "cell_type": "code",
   "execution_count": 5,
   "metadata": {},
   "outputs": [],
   "source": [
    "from tensorflow.keras.utils import to_categorical\n",
    "\n",
    "y_data = to_categorical(labels, num_classes=len(actions))\n",
    "y_data_test = to_categorical(labels_test, num_classes=len(actions))"
   ]
  },
  {
   "cell_type": "markdown",
   "metadata": {},
   "source": [
    "train dataset, validation dataset, test dataset 구축"
   ]
  },
  {
   "cell_type": "code",
   "execution_count": 6,
   "metadata": {},
   "outputs": [
    {
     "name": "stdout",
     "output_type": "stream",
     "text": [
      "(3276, 10, 114) (3276, 4)\n",
      "(364, 10, 114) (364, 4)\n",
      "(3933, 10, 114) (3933, 4)\n"
     ]
    }
   ],
   "source": [
    "from sklearn.model_selection import train_test_split\n",
    "\n",
    "x_data = x_data.astype(np.float32)\n",
    "y_data = y_data.astype(np.float32)\n",
    "\n",
    "x_data_test = x_data_test.astype(np.float32)\n",
    "y_data_test = y_data_test.astype(np.float32)\n",
    "\n",
    "x_train, x_val, y_train, y_val = train_test_split(x_data, y_data, test_size=0.1, random_state=42)\n",
    "\n",
    "print(x_train.shape, y_train.shape)\n",
    "print(x_val.shape, y_val.shape)\n",
    "print(x_data_test.shape, y_data_test.shape)"
   ]
  },
  {
   "cell_type": "markdown",
   "metadata": {},
   "source": [
    "Custom F1score 함수 선언"
   ]
  },
  {
   "cell_type": "code",
   "execution_count": 7,
   "metadata": {
    "id": "-3GotKcppSMX"
   },
   "outputs": [],
   "source": [
    "def metric_F1score(y_true,y_pred): \n",
    "    TP=tf.reduce_sum(y_true*tf.round(y_pred))\n",
    "    TN=tf.reduce_sum((1-y_true)*(1-tf.round(y_pred)))\n",
    "    FP=tf.reduce_sum((1-y_true)*tf.round(y_pred))\n",
    "    FN=tf.reduce_sum(y_true*(1-tf.round(y_pred)))\n",
    "    precision=TP/(TP+FP)\n",
    "    recall=TP/(TP+FN)\n",
    "    F1score=2*precision*recall/(precision+recall)\n",
    "    return F1score"
   ]
  },
  {
   "cell_type": "markdown",
   "metadata": {
    "id": "pM3_ekVq2kCC"
   },
   "source": [
    "####  Modeling\n",
    "- 지난 1편에서 최종 모델로 선정한 모델 사용"
   ]
  },
  {
   "cell_type": "code",
   "execution_count": 8,
   "metadata": {
    "id": "BXDy5Yce2kCE",
    "outputId": "9651f411-da51-40c5-db68-8f01904152d9",
    "scrolled": false
   },
   "outputs": [],
   "source": [
    "#기본 모델 + ㅣ2 규제 + dropout 30% + early stopping\n",
    "from tensorflow.keras.models import Sequential\n",
    "from tensorflow.keras.layers import LSTM, Dense, Dropout\n",
    "import tensorflow.keras as keras\n",
    "\n",
    "model = Sequential([\n",
    "    LSTM(64, activation='relu', input_shape=x_train.shape[1:3], kernel_regularizer=keras.regularizers.l2(0.01)),\n",
    "    Dropout(0.3),\n",
    "    Dense(32, activation='relu',kernel_regularizer=keras.regularizers.l2(0.01)),\n",
    "    Dropout(0.3),\n",
    "    Dense(len(actions), activation='softmax', kernel_regularizer=keras.regularizers.l2(0.01))\n",
    "])\n",
    "\n",
    "model.compile(optimizer='adam', loss='categorical_crossentropy', metrics=['acc', metric_F1score])"
   ]
  },
  {
   "cell_type": "markdown",
   "metadata": {
    "id": "FfZl6Yri2kCF"
   },
   "source": [
    "#### Training\n",
    "- 지난 1편에서의 학습 기법 적용"
   ]
  },
  {
   "cell_type": "code",
   "execution_count": 9,
   "metadata": {
    "id": "oU2EUK-62kCF",
    "outputId": "0ff6b74b-5831-4736-efea-d54844a4a5f7",
    "scrolled": true
   },
   "outputs": [
    {
     "name": "stdout",
     "output_type": "stream",
     "text": [
      "Epoch 1/50\n",
      "103/103 [==============================] - 4s 22ms/step - loss: 40.5181 - acc: 0.3478 - metric_F1score: 0.3476 - val_loss: 2.6260 - val_acc: 0.8352 - val_metric_F1score: 0.8438\n",
      "\n",
      "Epoch 00001: val_acc improved from -inf to 0.83516, saving model to models\\not_applied_normalization_classifier.h5\n",
      "Epoch 2/50\n",
      "103/103 [==============================] - 1s 8ms/step - loss: 4.8987 - acc: 0.6728 - metric_F1score: 0.6724 - val_loss: 2.0194 - val_acc: 0.9066 - val_metric_F1score: 0.9112\n",
      "\n",
      "Epoch 00002: val_acc improved from 0.83516 to 0.90659, saving model to models\\not_applied_normalization_classifier.h5\n",
      "Epoch 3/50\n",
      "103/103 [==============================] - 1s 9ms/step - loss: 2.7818 - acc: 0.7788 - metric_F1score: 0.7789 - val_loss: 1.7227 - val_acc: 0.9341 - val_metric_F1score: 0.9361\n",
      "\n",
      "Epoch 00003: val_acc improved from 0.90659 to 0.93407, saving model to models\\not_applied_normalization_classifier.h5\n",
      "Epoch 4/50\n",
      "103/103 [==============================] - 1s 8ms/step - loss: 2.2871 - acc: 0.8068 - metric_F1score: 0.8141 - val_loss: 1.6407 - val_acc: 0.9396 - val_metric_F1score: 0.9426\n",
      "\n",
      "Epoch 00004: val_acc improved from 0.93407 to 0.93956, saving model to models\\not_applied_normalization_classifier.h5\n",
      "Epoch 5/50\n",
      "103/103 [==============================] - 1s 8ms/step - loss: 1.9720 - acc: 0.8405 - metric_F1score: 0.8463 - val_loss: 1.3952 - val_acc: 0.9835 - val_metric_F1score: 0.9844\n",
      "\n",
      "Epoch 00005: val_acc improved from 0.93956 to 0.98352, saving model to models\\not_applied_normalization_classifier.h5\n",
      "Epoch 6/50\n",
      "103/103 [==============================] - 1s 7ms/step - loss: 1.7720 - acc: 0.9048 - metric_F1score: 0.9058 - val_loss: 1.3030 - val_acc: 0.9863 - val_metric_F1score: 0.9870\n",
      "\n",
      "Epoch 00006: val_acc improved from 0.98352 to 0.98626, saving model to models\\not_applied_normalization_classifier.h5\n",
      "Epoch 7/50\n",
      "103/103 [==============================] - 1s 9ms/step - loss: 1.6593 - acc: 0.9119 - metric_F1score: 0.9133 - val_loss: 1.2173 - val_acc: 0.9973 - val_metric_F1score: 0.9961\n",
      "\n",
      "Epoch 00007: val_acc improved from 0.98626 to 0.99725, saving model to models\\not_applied_normalization_classifier.h5\n",
      "Epoch 8/50\n",
      "103/103 [==============================] - 1s 8ms/step - loss: 1.4398 - acc: 0.9303 - metric_F1score: 0.9321 - val_loss: 1.1506 - val_acc: 0.9973 - val_metric_F1score: 0.9974\n",
      "\n",
      "Epoch 00008: val_acc did not improve from 0.99725\n",
      "Epoch 9/50\n",
      "103/103 [==============================] - 1s 8ms/step - loss: 1.3348 - acc: 0.9436 - metric_F1score: 0.9451 - val_loss: 1.0988 - val_acc: 1.0000 - val_metric_F1score: 1.0000\n",
      "\n",
      "Epoch 00009: val_acc improved from 0.99725 to 1.00000, saving model to models\\not_applied_normalization_classifier.h5\n",
      "Epoch 10/50\n",
      "103/103 [==============================] - 1s 9ms/step - loss: 1.2411 - acc: 0.9566 - metric_F1score: 0.9569 - val_loss: 1.0543 - val_acc: 1.0000 - val_metric_F1score: 0.9987\n",
      "\n",
      "Epoch 00010: val_acc did not improve from 1.00000\n",
      "Epoch 11/50\n",
      "103/103 [==============================] - 1s 7ms/step - loss: 1.1939 - acc: 0.9626 - metric_F1score: 0.9622 - val_loss: 1.0102 - val_acc: 1.0000 - val_metric_F1score: 1.0000\n",
      "\n",
      "Epoch 00011: val_acc did not improve from 1.00000\n",
      "Epoch 12/50\n",
      "103/103 [==============================] - 1s 7ms/step - loss: 1.1074 - acc: 0.9742 - metric_F1score: 0.9736 - val_loss: 0.9991 - val_acc: 0.9835 - val_metric_F1score: 0.9844\n",
      "\n",
      "Epoch 00012: val_acc did not improve from 1.00000\n",
      "Epoch 13/50\n",
      "103/103 [==============================] - 1s 7ms/step - loss: 1.0661 - acc: 0.9680 - metric_F1score: 0.9690 - val_loss: 0.9341 - val_acc: 1.0000 - val_metric_F1score: 1.0000\n",
      "\n",
      "Epoch 00013: val_acc did not improve from 1.00000\n",
      "Epoch 14/50\n",
      "103/103 [==============================] - 1s 8ms/step - loss: 1.0111 - acc: 0.9730 - metric_F1score: 0.9739 - val_loss: 0.8945 - val_acc: 1.0000 - val_metric_F1score: 1.0000\n",
      "\n",
      "Epoch 00014: val_acc did not improve from 1.00000\n",
      "Epoch 15/50\n",
      "103/103 [==============================] - 1s 7ms/step - loss: 0.9625 - acc: 0.9802 - metric_F1score: 0.9795 - val_loss: 0.8759 - val_acc: 0.9973 - val_metric_F1score: 0.9974\n",
      "\n",
      "Epoch 00015: val_acc did not improve from 1.00000\n",
      "Epoch 16/50\n",
      "103/103 [==============================] - 1s 8ms/step - loss: 0.9255 - acc: 0.9813 - metric_F1score: 0.9820 - val_loss: 0.8342 - val_acc: 1.0000 - val_metric_F1score: 1.0000\n",
      "\n",
      "Epoch 00016: val_acc did not improve from 1.00000\n",
      "Epoch 17/50\n",
      "103/103 [==============================] - 1s 8ms/step - loss: 0.9079 - acc: 0.9794 - metric_F1score: 0.9798 - val_loss: 0.8062 - val_acc: 1.0000 - val_metric_F1score: 1.0000\n",
      "\n",
      "Epoch 00017: val_acc did not improve from 1.00000\n",
      "Epoch 18/50\n",
      "103/103 [==============================] - 1s 7ms/step - loss: 0.8901 - acc: 0.9779 - metric_F1score: 0.9782 - val_loss: 0.7843 - val_acc: 0.9973 - val_metric_F1score: 0.9974\n",
      "\n",
      "Epoch 00018: val_acc did not improve from 1.00000\n",
      "Epoch 19/50\n",
      "103/103 [==============================] - 1s 7ms/step - loss: 0.8263 - acc: 0.9874 - metric_F1score: 0.9867 - val_loss: 0.7531 - val_acc: 1.0000 - val_metric_F1score: 1.0000\n",
      "\n",
      "Epoch 00019: val_acc did not improve from 1.00000\n",
      "Epoch 20/50\n",
      "103/103 [==============================] - 1s 9ms/step - loss: 0.8886 - acc: 0.9782 - metric_F1score: 0.9789 - val_loss: 0.9381 - val_acc: 0.9643 - val_metric_F1score: 0.9646\n",
      "\n",
      "Epoch 00020: val_acc did not improve from 1.00000\n",
      "Epoch 21/50\n",
      "103/103 [==============================] - 1s 7ms/step - loss: 1.0517 - acc: 0.9282 - metric_F1score: 0.9334 - val_loss: 0.7196 - val_acc: 0.9973 - val_metric_F1score: 0.9974\n",
      "\n",
      "Epoch 00021: val_acc did not improve from 1.00000\n"
     ]
    }
   ],
   "source": [
    "from tensorflow.keras.callbacks import ModelCheckpoint, ReduceLROnPlateau, EarlyStopping\n",
    "\n",
    "early_stopping = EarlyStopping(monitor = 'val_metric_F1score', min_delta = 0, patience = 20, mode = 'auto')\n",
    "\n",
    "\n",
    "history = model.fit(\n",
    "    x_train,\n",
    "    y_train,\n",
    "    validation_data=(x_val, y_val),\n",
    "    epochs=50,\n",
    "    callbacks=[\n",
    "        ModelCheckpoint('models/not_applied_normalization_classifier.h5', monitor='val_acc', verbose=1, save_best_only=True, mode='auto'),\n",
    "        ReduceLROnPlateau(monitor='val_metric_F1score', factor=0.5, patience=50, verbose=1, mode='auto'),\n",
    "        early_stopping\n",
    "    \n",
    "    ]\n",
    ")"
   ]
  },
  {
   "cell_type": "code",
   "execution_count": 10,
   "metadata": {
    "id": "ryE9NZb02kCJ",
    "outputId": "9d2b1407-5964-426f-c98f-2dca01c9ccd8"
   },
   "outputs": [
    {
     "data": {
      "image/png": "[encoded data removed]",
      "text/plain": [
       "<Figure size 1152x720 with 2 Axes>"
      ]
     },
     "metadata": {
      "needs_background": "light"
     },
     "output_type": "display_data"
    }
   ],
   "source": [
    "import matplotlib.pyplot as plt\n",
    "\n",
    "fig, loss_ax = plt.subplots(figsize=(16, 10))\n",
    "acc_ax = loss_ax.twinx()\n",
    "\n",
    "loss_ax.set_xlabel('epoch')\n",
    "loss_ax.set_ylabel('loss')\n",
    "\n",
    "acc_ax.plot(history.history['metric_F1score'], 'b', label='train f1')\n",
    "acc_ax.plot(history.history['val_metric_F1score'], 'g', label='val f1')\n",
    "acc_ax.set_ylabel('f1-score')\n",
    "acc_ax.legend(loc='upper left')\n",
    "\n",
    "plt.show()"
   ]
  },
  {
   "cell_type": "markdown",
   "metadata": {
    "id": "6KI1GHvY2kCJ"
   },
   "source": [
    "validation dataset에 대한 confusion maxtrix를 활용한 성능 분석"
   ]
  },
  {
   "cell_type": "code",
   "execution_count": 11,
   "metadata": {},
   "outputs": [
    {
     "data": {
      "text/plain": [
       "array([[[277,   0],\n",
       "        [  0,  87]],\n",
       "\n",
       "       [[288,   0],\n",
       "        [  0,  76]],\n",
       "\n",
       "       [[262,   0],\n",
       "        [  0, 102]],\n",
       "\n",
       "       [[265,   0],\n",
       "        [  0,  99]]], dtype=int64)"
      ]
     },
     "execution_count": 11,
     "metadata": {},
     "output_type": "execute_result"
    }
   ],
   "source": [
    "from sklearn.metrics import multilabel_confusion_matrix\n",
    "from tensorflow.keras.models import load_model\n",
    "\n",
    "model = load_model('models/not_applied_normalization_classifier.h5', custom_objects = {'metric_F1score':metric_F1score})\n",
    "\n",
    "y_pred = model.predict(x_val)\n",
    "multilabel_confusion_matrix(np.argmax(y_val, axis=1), np.argmax(y_pred, axis=1))"
   ]
  },
  {
   "cell_type": "markdown",
   "metadata": {},
   "source": [
    "validation dataset에 대한 f1-score 계산"
   ]
  },
  {
   "cell_type": "code",
   "execution_count": 12,
   "metadata": {},
   "outputs": [
    {
     "name": "stdout",
     "output_type": "stream",
     "text": [
      "              precision    recall  f1-score   support\n",
      "\n",
      "           0       1.00      1.00      1.00        87\n",
      "           1       1.00      1.00      1.00        76\n",
      "           2       1.00      1.00      1.00       102\n",
      "           3       1.00      1.00      1.00        99\n",
      "\n",
      "    accuracy                           1.00       364\n",
      "   macro avg       1.00      1.00      1.00       364\n",
      "weighted avg       1.00      1.00      1.00       364\n",
      "\n"
     ]
    }
   ],
   "source": [
    "from sklearn.metrics import classification_report\n",
    "print(classification_report(np.argmax(y_val, axis=1), np.argmax(y_pred, axis=1)))"
   ]
  },
  {
   "cell_type": "markdown",
   "metadata": {},
   "source": [
    "#### test data"
   ]
  },
  {
   "cell_type": "code",
   "execution_count": 13,
   "metadata": {
    "scrolled": true
   },
   "outputs": [],
   "source": [
    "pred = model.predict(x_data_test)"
   ]
  },
  {
   "cell_type": "code",
   "execution_count": 14,
   "metadata": {
    "scrolled": true
   },
   "outputs": [
    {
     "data": {
      "text/plain": [
       "array([[[2904,    8],\n",
       "        [  35,  986]],\n",
       "\n",
       "       [[3205,   35],\n",
       "        [   3,  690]],\n",
       "\n",
       "       [[2821,   19],\n",
       "        [  63, 1030]],\n",
       "\n",
       "       [[2747,   60],\n",
       "        [  21, 1105]]], dtype=int64)"
      ]
     },
     "execution_count": 14,
     "metadata": {},
     "output_type": "execute_result"
    }
   ],
   "source": [
    "from sklearn.metrics import multilabel_confusion_matrix\n",
    "\n",
    "multilabel_confusion_matrix(np.argmax(y_data_test, axis=1), np.argmax(pred, axis=1))"
   ]
  },
  {
   "cell_type": "code",
   "execution_count": 15,
   "metadata": {},
   "outputs": [
    {
     "name": "stdout",
     "output_type": "stream",
     "text": [
      "              precision    recall  f1-score   support\n",
      "\n",
      "           0       0.99      0.97      0.98      1021\n",
      "           1       0.95      1.00      0.97       693\n",
      "           2       0.98      0.94      0.96      1093\n",
      "           3       0.95      0.98      0.96      1126\n",
      "\n",
      "    accuracy                           0.97      3933\n",
      "   macro avg       0.97      0.97      0.97      3933\n",
      "weighted avg       0.97      0.97      0.97      3933\n",
      "\n"
     ]
    }
   ],
   "source": [
    "print(classification_report(np.argmax(y_data_test, axis=1), np.argmax(pred, axis=1)))"
   ]
  },
  {
   "cell_type": "markdown",
   "metadata": {},
   "source": [
    "과적합 방지를 위해 L2 규제 + dropout 30% + early stopping 만을 사용한 결과 이를 예측한 f1-score는 0.97 ~ 1 정도가 나온것을 확인할 수 있습니다. 하지만 정규화를 적용하지 않더라도 위치가 달라지는 테스트 데이터에 대해 모델이 민감하게 반응하지 않아 모델의 자체 성능이 높게 나타난다는 점을 알 수 있습니다."
   ]
  },
  {
   "cell_type": "markdown",
   "metadata": {},
   "source": [
    "### 1.2 벡터 정규화\n",
    "\n",
    "- 벡터 정규화란 한 벡터를 벡터의 길이로 나누어서 그 벡터의 길이를 1로 만드는 것을 말합니다.\n",
    "- 이렇게 길이가 1이 된 벡터를 단위 벡터라고 부르고, 이러한 정규화 방식은 주로 키보드로 조작하는 게임에 자주 사용됩니다.\n",
    "- (1,0) 벡터와 (0,1) 벡터가 합쳐졌을 때 (1,1) 벡터의 길이가 $\\sqrt{2}$로 1보다 더 크기 때문에 이를 정규화를 통해 이 길이를 1로 맞춰주어야 하기 때문입니다.\n",
    "- 속력과 방향을 정의되는 벡터에서 순수하게 방향만을 남겨서 사용하고자 할 때 위와 같은 벡터 정규화 개념을 사용합니다.\n",
    "\n",
    "- 벡터 정규화를 하는 방법은 각 성분 v = (x, y)에 벡터의 길이를 나누는 것입니다.\n",
    "- 예를 들어 벡터 v의 각 성분 x,y 가 1,2,3 이라면 ||v|| = $\\sqrt{1^2+2^2+3^2} = \\sqrt{14}$가 되고 이 벡터의 길이로 각 성분을 나누면 $(\\frac{1}{\\sqrt{14}}, \\frac{2}{\\sqrt{14}}, \\frac{3}{\\sqrt{14}})$이 됩니다."
   ]
  },
  {
   "cell_type": "markdown",
   "metadata": {},
   "source": [
    "벡터 정규화 데이터 전처리 코드"
   ]
  },
  {
   "cell_type": "code",
   "execution_count": 14,
   "metadata": {},
   "outputs": [],
   "source": [
    "# vector normalization\n",
    "def Vector_Normalization(joint):\n",
    "    # Compute angles between joints\n",
    "    v1 = joint[[0,1,2,3,0,5,6,7,0,9,10,11,0,13,14,15,0,17,18,19] + [i+21 for i in [0,1,2,3,0,5,6,7,0,9,10,11,0,13,14,15,0,17,18,19]], :2] # Parent joint\n",
    "    v2 = joint[[1,2,3,4,5,6,7,8,9,10,11,12,13,14,15,16,17,18,19,20] + [i+21 for i in [1,2,3,4,5,6,7,8,9,10,11,12,13,14,15,16,17,18,19,20]], :2] # Child joint\n",
    "    v = v2 - v1 \n",
    "    # Normalize v\n",
    "    v = v / np.linalg.norm(v, axis=1)[:, np.newaxis]\n",
    "\n",
    "    # Get angle using arcos of dot product\n",
    "    angle = np.arccos(np.einsum('nt,nt->n',\n",
    "        v[[0,1,2,4,5,6,8,9,10,12,13,14,16,17,18] + [i+20 for i in [0,1,2,4,5,6,8,9,10,12,13,14,16,17,18]] ,:], \n",
    "        v[[1,2,3,5,6,7,9,10,11,13,14,15,17,18,19] + [i+20 for i in [1,2,3,5,6,7,9,10,11,13,14,15,17,18,19]],:])) \n",
    "\n",
    "    angle = np.degrees(angle) # Convert radian to degree\n",
    "\n",
    "    angle_label = np.array([angle], dtype=np.float32)\n",
    "\n",
    "    return v, angle_label"
   ]
  },
  {
   "cell_type": "markdown",
   "metadata": {},
   "source": [
    "---"
   ]
  },
  {
   "cell_type": "code",
   "execution_count": 16,
   "metadata": {},
   "outputs": [],
   "source": [
    "data_yes = np.load('dataset/vector_normalization/train/seq_yes.npy')\n",
    "data_no = np.load('dataset/vector_normalization/train/seq_no.npy')\n",
    "data_like = np.load('dataset/vector_normalization/train/seq_like.npy')\n",
    "data_heart = np.load('dataset/vector_normalization/train/seq_heart.npy')\n",
    "\n",
    "test_yes = np.load('dataset/vector_normalization/new_test/seq_yes.npy')\n",
    "test_no = np.load('dataset/vector_normalization/new_test/seq_no.npy')\n",
    "test_like = np.load('dataset/vector_normalization/new_test/seq_like.npy')\n",
    "test_heart = np.load('dataset/vector_normalization/new_test/seq_heart.npy')\n",
    "\n",
    "actions = ['yes', 'no', 'like', 'heart']\n",
    "\n",
    "data = np.concatenate([data_yes ,data_no, data_like, data_heart], axis=0)\n",
    "data_test = np.concatenate([test_yes ,test_no, test_like, test_heart], axis=0)"
   ]
  },
  {
   "cell_type": "markdown",
   "metadata": {
    "id": "BX0KTjeL2kBt"
   },
   "source": [
    "#### 데이터 x, y 나누기"
   ]
  },
  {
   "cell_type": "code",
   "execution_count": 17,
   "metadata": {
    "id": "w0ls_ie02kBw",
    "outputId": "34adde1d-5a76-4f6a-b47d-33c09a36edbe"
   },
   "outputs": [],
   "source": [
    "x_data = data[:, :, :-1]\n",
    "labels = data[:, 0, -1]\n",
    "\n",
    "x_data_test = data_test[:, :, :-1]\n",
    "labels_test = data_test[:, 0, -1]"
   ]
  },
  {
   "cell_type": "code",
   "execution_count": 18,
   "metadata": {
    "id": "AvyeJuOZ2kBy",
    "outputId": "fb265eed-f81f-4735-95f8-3e341ce0ea83"
   },
   "outputs": [],
   "source": [
    "from tensorflow.keras.utils import to_categorical\n",
    "\n",
    "y_data = to_categorical(labels, num_classes=len(actions))\n",
    "y_data_test = to_categorical(labels_test, num_classes=len(actions))"
   ]
  },
  {
   "cell_type": "markdown",
   "metadata": {
    "id": "E51SRxK_2kB7"
   },
   "source": [
    "#### X,y train_test_split"
   ]
  },
  {
   "cell_type": "code",
   "execution_count": 19,
   "metadata": {
    "id": "piB6zMd82kCA",
    "outputId": "7055903d-b0e0-42c2-a491-d7c8faf525f0",
    "scrolled": true
   },
   "outputs": [],
   "source": [
    "from sklearn.model_selection import train_test_split\n",
    "np.random.seed(42)\n",
    "\n",
    "x_data = x_data.astype(np.float32)\n",
    "y_data = y_data.astype(np.float32)\n",
    "\n",
    "x_data_test = x_data_test.astype(np.float32)\n",
    "y_data_test = y_data_test.astype(np.float32)\n",
    "\n",
    "x_train, x_val, y_train, y_val = train_test_split(x_data, y_data, test_size=0.1, random_state=42)"
   ]
  },
  {
   "cell_type": "markdown",
   "metadata": {
    "id": "pM3_ekVq2kCC"
   },
   "source": [
    "####  Modeling"
   ]
  },
  {
   "cell_type": "code",
   "execution_count": 20,
   "metadata": {
    "id": "BXDy5Yce2kCE",
    "outputId": "9651f411-da51-40c5-db68-8f01904152d9",
    "scrolled": false
   },
   "outputs": [],
   "source": [
    "#기본 모델 + ㅣ2 규제 + dropout 30% + early stopping\n",
    "from tensorflow.keras.models import Sequential\n",
    "from tensorflow.keras.layers import LSTM, Dense, Dropout\n",
    "import tensorflow.keras as keras\n",
    "\n",
    "model2 = Sequential([\n",
    "    LSTM(64, activation='relu', input_shape=x_train.shape[1:3], kernel_regularizer=keras.regularizers.l2(0.01)),\n",
    "    Dropout(0.3),\n",
    "    Dense(32, activation='relu',kernel_regularizer=keras.regularizers.l2(0.01)),\n",
    "    Dropout(0.3),\n",
    "    Dense(len(actions), activation='softmax', kernel_regularizer=keras.regularizers.l2(0.01))\n",
    "])\n",
    "\n",
    "model2.compile(optimizer='adam', loss='categorical_crossentropy', metrics=['acc', metric_F1score])"
   ]
  },
  {
   "cell_type": "markdown",
   "metadata": {
    "id": "FfZl6Yri2kCF"
   },
   "source": [
    "#### Training"
   ]
  },
  {
   "cell_type": "code",
   "execution_count": 21,
   "metadata": {
    "id": "oU2EUK-62kCF",
    "outputId": "0ff6b74b-5831-4736-efea-d54844a4a5f7",
    "scrolled": true
   },
   "outputs": [
    {
     "name": "stdout",
     "output_type": "stream",
     "text": [
      "Epoch 1/50\n",
      "103/103 [==============================] - 3s 12ms/step - loss: 17.3250 - acc: 0.4184 - metric_F1score: 0.3703 - val_loss: 2.3508 - val_acc: 0.8709 - val_metric_F1score: 0.7406\n",
      "\n",
      "Epoch 00001: val_acc improved from -inf to 0.87088, saving model to models\\vector_normalization_classifier.h5\n",
      "Epoch 2/50\n",
      "103/103 [==============================] - 1s 9ms/step - loss: 3.3253 - acc: 0.7143 - metric_F1score: 0.5904 - val_loss: 1.7433 - val_acc: 0.9148 - val_metric_F1score: 0.7735\n",
      "\n",
      "Epoch 00002: val_acc improved from 0.87088 to 0.91484, saving model to models\\vector_normalization_classifier.h5\n",
      "Epoch 3/50\n",
      "103/103 [==============================] - 1s 8ms/step - loss: 2.2489 - acc: 0.8015 - metric_F1score: 0.6737 - val_loss: 1.3837 - val_acc: 0.9643 - val_metric_F1score: 0.9002\n",
      "\n",
      "Epoch 00003: val_acc improved from 0.91484 to 0.96429, saving model to models\\vector_normalization_classifier.h5\n",
      "Epoch 4/50\n",
      "103/103 [==============================] - 1s 9ms/step - loss: 1.7672 - acc: 0.8865 - metric_F1score: 0.8371 - val_loss: 1.1608 - val_acc: 0.9780 - val_metric_F1score: 0.9738\n",
      "\n",
      "Epoch 00004: val_acc improved from 0.96429 to 0.97802, saving model to models\\vector_normalization_classifier.h5\n",
      "Epoch 5/50\n",
      "103/103 [==============================] - 1s 8ms/step - loss: 1.4237 - acc: 0.9064 - metric_F1score: 0.8827 - val_loss: 1.0753 - val_acc: 0.9808 - val_metric_F1score: 0.9767\n",
      "\n",
      "Epoch 00005: val_acc improved from 0.97802 to 0.98077, saving model to models\\vector_normalization_classifier.h5\n",
      "Epoch 6/50\n",
      "103/103 [==============================] - 1s 8ms/step - loss: 1.2462 - acc: 0.9297 - metric_F1score: 0.9180 - val_loss: 0.9501 - val_acc: 0.9918 - val_metric_F1score: 0.9911\n",
      "\n",
      "Epoch 00006: val_acc improved from 0.98077 to 0.99176, saving model to models\\vector_normalization_classifier.h5\n",
      "Epoch 7/50\n",
      "103/103 [==============================] - 1s 7ms/step - loss: 1.1035 - acc: 0.9575 - metric_F1score: 0.9512 - val_loss: 0.8884 - val_acc: 0.9945 - val_metric_F1score: 0.9912\n",
      "\n",
      "Epoch 00007: val_acc improved from 0.99176 to 0.99451, saving model to models\\vector_normalization_classifier.h5\n",
      "Epoch 8/50\n",
      "103/103 [==============================] - 1s 7ms/step - loss: 0.9996 - acc: 0.9560 - metric_F1score: 0.9555 - val_loss: 0.8202 - val_acc: 0.9973 - val_metric_F1score: 0.9974\n",
      "\n",
      "Epoch 00008: val_acc improved from 0.99451 to 0.99725, saving model to models\\vector_normalization_classifier.h5\n",
      "Epoch 9/50\n",
      "103/103 [==============================] - 1s 8ms/step - loss: 0.9058 - acc: 0.9760 - metric_F1score: 0.9724 - val_loss: 0.7941 - val_acc: 0.9863 - val_metric_F1score: 0.9870\n",
      "\n",
      "Epoch 00009: val_acc did not improve from 0.99725\n",
      "Epoch 10/50\n",
      "103/103 [==============================] - 1s 8ms/step - loss: 0.9953 - acc: 0.9445 - metric_F1score: 0.9443 - val_loss: 0.7294 - val_acc: 0.9945 - val_metric_F1score: 0.9961\n",
      "\n",
      "Epoch 00010: val_acc did not improve from 0.99725\n",
      "Epoch 11/50\n",
      "103/103 [==============================] - 1s 8ms/step - loss: 0.8032 - acc: 0.9786 - metric_F1score: 0.9761 - val_loss: 0.6840 - val_acc: 0.9973 - val_metric_F1score: 0.9974\n",
      "\n",
      "Epoch 00011: val_acc did not improve from 0.99725\n",
      "Epoch 12/50\n",
      "103/103 [==============================] - 1s 7ms/step - loss: 0.7653 - acc: 0.9767 - metric_F1score: 0.9784 - val_loss: 0.6502 - val_acc: 0.9973 - val_metric_F1score: 0.9974\n",
      "\n",
      "Epoch 00012: val_acc did not improve from 0.99725\n",
      "Epoch 13/50\n",
      "103/103 [==============================] - 1s 8ms/step - loss: 0.7174 - acc: 0.9857 - metric_F1score: 0.9857 - val_loss: 0.6132 - val_acc: 0.9973 - val_metric_F1score: 0.9974\n",
      "\n",
      "Epoch 00013: val_acc did not improve from 0.99725\n",
      "Epoch 14/50\n",
      "103/103 [==============================] - 1s 8ms/step - loss: 0.6459 - acc: 0.9952 - metric_F1score: 0.9953 - val_loss: 0.5979 - val_acc: 0.9973 - val_metric_F1score: 0.9974\n",
      "\n",
      "Epoch 00014: val_acc did not improve from 0.99725\n",
      "Epoch 15/50\n",
      "103/103 [==============================] - 1s 7ms/step - loss: 0.6371 - acc: 0.9915 - metric_F1score: 0.9914 - val_loss: 0.5691 - val_acc: 0.9973 - val_metric_F1score: 0.9974\n",
      "\n",
      "Epoch 00015: val_acc did not improve from 0.99725\n",
      "Epoch 16/50\n",
      "103/103 [==============================] - 1s 7ms/step - loss: 0.5964 - acc: 0.9905 - metric_F1score: 0.9894 - val_loss: 0.5372 - val_acc: 0.9973 - val_metric_F1score: 0.9974\n",
      "\n",
      "Epoch 00016: val_acc did not improve from 0.99725\n",
      "Epoch 17/50\n",
      "103/103 [==============================] - 1s 9ms/step - loss: 0.5931 - acc: 0.9919 - metric_F1score: 0.9915 - val_loss: 0.5186 - val_acc: 0.9973 - val_metric_F1score: 0.9974\n",
      "\n",
      "Epoch 00017: val_acc did not improve from 0.99725\n",
      "Epoch 18/50\n",
      "103/103 [==============================] - 1s 8ms/step - loss: 0.5540 - acc: 0.9885 - metric_F1score: 0.9892 - val_loss: 0.4976 - val_acc: 0.9973 - val_metric_F1score: 0.9974\n",
      "\n",
      "Epoch 00018: val_acc did not improve from 0.99725\n",
      "Epoch 19/50\n",
      "103/103 [==============================] - 1s 8ms/step - loss: 0.5040 - acc: 0.9953 - metric_F1score: 0.9954 - val_loss: 0.4751 - val_acc: 0.9973 - val_metric_F1score: 0.9974\n",
      "\n",
      "Epoch 00019: val_acc did not improve from 0.99725\n",
      "Epoch 20/50\n",
      "103/103 [==============================] - 1s 7ms/step - loss: 0.4816 - acc: 0.9970 - metric_F1score: 0.9971 - val_loss: 0.4569 - val_acc: 0.9973 - val_metric_F1score: 0.9974\n",
      "\n",
      "Epoch 00020: val_acc did not improve from 0.99725\n",
      "Epoch 21/50\n",
      "103/103 [==============================] - 1s 8ms/step - loss: 0.5356 - acc: 0.9925 - metric_F1score: 0.9920 - val_loss: 0.4468 - val_acc: 1.0000 - val_metric_F1score: 1.0000\n",
      "\n",
      "Epoch 00021: val_acc improved from 0.99725 to 1.00000, saving model to models\\vector_normalization_classifier.h5\n"
     ]
    }
   ],
   "source": [
    "early_stopping = EarlyStopping(monitor = 'val_metric_F1score', min_delta = 0, patience = 20, mode = 'auto')\n",
    "\n",
    "\n",
    "history2 = model2.fit(\n",
    "    x_train,\n",
    "    y_train,\n",
    "    validation_data=(x_val, y_val),\n",
    "    epochs=50,\n",
    "    callbacks=[\n",
    "        ModelCheckpoint('models/vector_normalization_classifier.h5', monitor='val_acc', verbose=1, save_best_only=True, mode='auto'),\n",
    "        ReduceLROnPlateau(monitor='val_metric_F1score', factor=0.5, patience=50, verbose=1, mode='auto'),\n",
    "        early_stopping\n",
    "    \n",
    "    ]\n",
    ")"
   ]
  },
  {
   "cell_type": "code",
   "execution_count": 22,
   "metadata": {
    "id": "ryE9NZb02kCJ",
    "outputId": "9d2b1407-5964-426f-c98f-2dca01c9ccd8"
   },
   "outputs": [
    {
     "data": {
      "image/png": "[encoded data removed]",
      "text/plain": [
       "<Figure size 1152x720 with 2 Axes>"
      ]
     },
     "metadata": {
      "needs_background": "light"
     },
     "output_type": "display_data"
    }
   ],
   "source": [
    "import matplotlib.pyplot as plt\n",
    "\n",
    "fig, loss_ax = plt.subplots(figsize=(16, 10))\n",
    "acc_ax = loss_ax.twinx()\n",
    "\n",
    "loss_ax.set_xlabel('epoch')\n",
    "loss_ax.set_ylabel('loss')\n",
    "\n",
    "acc_ax.plot(history2.history['metric_F1score'], 'b', label='train f1')\n",
    "acc_ax.plot(history2.history['val_metric_F1score'], 'g', label='val f1')\n",
    "acc_ax.set_ylabel('f1-score')\n",
    "acc_ax.legend(loc='upper left')\n",
    "\n",
    "plt.show()"
   ]
  },
  {
   "cell_type": "code",
   "execution_count": 23,
   "metadata": {},
   "outputs": [],
   "source": [
    "from sklearn.metrics import multilabel_confusion_matrix\n",
    "from tensorflow.keras.models import load_model\n",
    "\n",
    "model2 = load_model('models/vector_normalization_classifier.h5', custom_objects = {'metric_F1score':metric_F1score})"
   ]
  },
  {
   "cell_type": "code",
   "execution_count": 24,
   "metadata": {
    "id": "6SnjKeNw2kCL",
    "outputId": "f63b7009-913c-406c-e523-08c88c231f58"
   },
   "outputs": [
    {
     "data": {
      "text/plain": [
       "array([[[277,   0],\n",
       "        [  0,  87]],\n",
       "\n",
       "       [[288,   0],\n",
       "        [  0,  76]],\n",
       "\n",
       "       [[262,   0],\n",
       "        [  0, 102]],\n",
       "\n",
       "       [[265,   0],\n",
       "        [  0,  99]]], dtype=int64)"
      ]
     },
     "execution_count": 24,
     "metadata": {},
     "output_type": "execute_result"
    }
   ],
   "source": [
    "from sklearn.metrics import multilabel_confusion_matrix\n",
    "from tensorflow.keras.models import load_model\n",
    "\n",
    "y_pred2 = model2.predict(x_val)\n",
    "multilabel_confusion_matrix(np.argmax(y_val, axis=1), np.argmax(y_pred2, axis=1))"
   ]
  },
  {
   "cell_type": "code",
   "execution_count": 25,
   "metadata": {},
   "outputs": [
    {
     "name": "stdout",
     "output_type": "stream",
     "text": [
      "              precision    recall  f1-score   support\n",
      "\n",
      "           0       1.00      1.00      1.00        87\n",
      "           1       1.00      1.00      1.00        76\n",
      "           2       1.00      1.00      1.00       102\n",
      "           3       1.00      1.00      1.00        99\n",
      "\n",
      "    accuracy                           1.00       364\n",
      "   macro avg       1.00      1.00      1.00       364\n",
      "weighted avg       1.00      1.00      1.00       364\n",
      "\n"
     ]
    }
   ],
   "source": [
    "from sklearn.metrics import classification_report\n",
    "\n",
    "print(classification_report(np.argmax(y_val, axis=1), np.argmax(y_pred2, axis=1)))"
   ]
  },
  {
   "cell_type": "markdown",
   "metadata": {},
   "source": [
    "#### test data"
   ]
  },
  {
   "cell_type": "code",
   "execution_count": 26,
   "metadata": {
    "scrolled": true
   },
   "outputs": [],
   "source": [
    "pred2 = model2.predict(x_data_test)"
   ]
  },
  {
   "cell_type": "code",
   "execution_count": 27,
   "metadata": {},
   "outputs": [
    {
     "data": {
      "text/plain": [
       "array([[[2912,    0],\n",
       "        [   1, 1020]],\n",
       "\n",
       "       [[3240,    0],\n",
       "        [   0,  693]],\n",
       "\n",
       "       [[2839,    1],\n",
       "        [  35, 1058]],\n",
       "\n",
       "       [[2772,   35],\n",
       "        [   0, 1126]]], dtype=int64)"
      ]
     },
     "execution_count": 27,
     "metadata": {},
     "output_type": "execute_result"
    }
   ],
   "source": [
    "multilabel_confusion_matrix(np.argmax(y_data_test, axis=1), np.argmax(pred2, axis=1))"
   ]
  },
  {
   "cell_type": "code",
   "execution_count": 28,
   "metadata": {},
   "outputs": [
    {
     "name": "stdout",
     "output_type": "stream",
     "text": [
      "              precision    recall  f1-score   support\n",
      "\n",
      "           0       1.00      1.00      1.00      1021\n",
      "           1       1.00      1.00      1.00       693\n",
      "           2       1.00      0.97      0.98      1093\n",
      "           3       0.97      1.00      0.98      1126\n",
      "\n",
      "    accuracy                           0.99      3933\n",
      "   macro avg       0.99      0.99      0.99      3933\n",
      "weighted avg       0.99      0.99      0.99      3933\n",
      "\n"
     ]
    }
   ],
   "source": [
    "print(classification_report(np.argmax(y_data_test, axis=1), np.argmax(pred2, axis=1)))"
   ]
  },
  {
   "cell_type": "markdown",
   "metadata": {},
   "source": [
    "벡터 정규화를 사용하니 f1-score가 0.98 ~ 0.99로 편차가 조금 더 줄어든 모습입니다. "
   ]
  },
  {
   "cell_type": "markdown",
   "metadata": {},
   "source": [
    "### 1.3 위치 정규화 \n",
    "\n",
    "- 위치 정규화란 화면 전체를 기준으로 표현된 좌표를 손 좌표 기준으로 변경하는 것을 말합니다.\n",
    "- 이렇게 화면 어떤 곳에 손이 위치하여도 정규화된 데이터를 얻을 수 있습니다.\n",
    "- 손목 좌표인 0번 좌표를 기준으로 좌표값의 차이를 리스트에 저장합니다.\n",
    "- 좌표값의 차이를 min-max scale을 적용하여 -1 ~ 1사이 값으로 정규화합니다.\n",
    "- 데이터에 음수가 나오는 이유는 좌표값의 차이에 따라 음수가 발생하며 방향 정보를 표현하게 됩니다.\n",
    "\n",
    "\n",
    "위치 정규화 데이터 전처리 코드"
   ]
  },
  {
   "cell_type": "code",
   "execution_count": 28,
   "metadata": {},
   "outputs": [],
   "source": [
    "# coordinate normalization(min-max scale)\n",
    "def Coordinate_Normalization(joint):\n",
    "    x_coordinates = []\n",
    "    y_coordinates = []\n",
    "    for i in range(21):\n",
    "        x_coordinates.append(joint[i][0] - joint[0][0])\n",
    "        y_coordinates.append(joint[i][1] - joint[0][1])\n",
    "    for i in range(21):\n",
    "        x_coordinates.append(joint[i+21][0] - joint[21][0])\n",
    "        y_coordinates.append(joint[i+21][1] - joint[21][1])\n",
    "\n",
    "    x_left_hand = x_coordinates[:21]\n",
    "    x_right_hand = x_coordinates[21:]\n",
    "    y_left_hand = y_coordinates[:21]\n",
    "    y_right_hand = y_coordinates[21:]\n",
    "\n",
    "    if max(x_left_hand) == min(x_left_hand):\n",
    "        x_left_hand_scale = x_left_hand\n",
    "    else:\n",
    "        x_left_hand_scale = x_left_hand/(max(x_left_hand)-min(x_left_hand))\n",
    "    \n",
    "    if max(x_right_hand) == min(x_right_hand):\n",
    "        x_right_hand_scale = x_right_hand\n",
    "    else:\n",
    "        x_right_hand_scale = x_right_hand/(max(x_right_hand)-min(x_right_hand))\n",
    "    \n",
    "    if max(y_left_hand) == min(y_left_hand):\n",
    "        y_left_hand_scale = y_left_hand\n",
    "    else:\n",
    "        y_left_hand_scale = y_left_hand/(max(y_left_hand)-min(y_left_hand))\n",
    "    \n",
    "    if max(y_right_hand) == min(y_right_hand):\n",
    "        y_right_hand_scale = y_right_hand\n",
    "    else:\n",
    "        y_right_hand_scale = y_right_hand/(max(y_right_hand)-min(y_right_hand))\n",
    "            \n",
    "    full_scale = np.concatenate([x_left_hand_scale.flatten(),\n",
    "                                    x_right_hand_scale.flatten(),\n",
    "                                    y_left_hand_scale.flatten(),\n",
    "                                    y_right_hand_scale.flatten()])\n",
    "    return full_scale"
   ]
  },
  {
   "cell_type": "code",
   "execution_count": 30,
   "metadata": {},
   "outputs": [],
   "source": [
    "data_yes = np.load('dataset/cooridinate_normalization/train/seq_yes.npy')\n",
    "data_no = np.load('dataset/cooridinate_normalization/train/seq_no.npy')\n",
    "data_like = np.load('dataset/cooridinate_normalization/train/seq_like.npy')\n",
    "data_heart = np.load('dataset/cooridinate_normalization/train/seq_heart.npy')\n",
    "\n",
    "test_yes = np.load('dataset/cooridinate_normalization/new_test/seq_yes.npy')\n",
    "test_no = np.load('dataset/cooridinate_normalization/new_test/seq_no.npy')\n",
    "test_like = np.load('dataset/cooridinate_normalization/new_test/seq_like.npy')\n",
    "test_heart = np.load('dataset/cooridinate_normalization/new_test/seq_heart.npy')\n",
    "\n",
    "actions = ['yes', 'no', 'like', 'heart']\n",
    "\n",
    "data = np.concatenate([data_yes ,data_no, data_like, data_heart], axis=0)\n",
    "data_test = np.concatenate([test_yes ,test_no, test_like, test_heart], axis=0)"
   ]
  },
  {
   "cell_type": "markdown",
   "metadata": {
    "id": "BX0KTjeL2kBt"
   },
   "source": [
    "#### 데이터 x, y 나누기"
   ]
  },
  {
   "cell_type": "code",
   "execution_count": 32,
   "metadata": {
    "id": "w0ls_ie02kBw",
    "outputId": "34adde1d-5a76-4f6a-b47d-33c09a36edbe"
   },
   "outputs": [],
   "source": [
    "x_data = data[:, :, :-1]\n",
    "labels = data[:, 0, -1]\n",
    "\n",
    "x_data_test = data_test[:, :, :-1]\n",
    "labels_test = data_test[:, 0, -1]"
   ]
  },
  {
   "cell_type": "code",
   "execution_count": 33,
   "metadata": {
    "id": "AvyeJuOZ2kBy",
    "outputId": "fb265eed-f81f-4735-95f8-3e341ce0ea83"
   },
   "outputs": [],
   "source": [
    "from tensorflow.keras.utils import to_categorical\n",
    "\n",
    "y_data = to_categorical(labels, num_classes=len(actions))\n",
    "y_data_te = to_categorical(labels_test, num_classes=len(actions))"
   ]
  },
  {
   "cell_type": "markdown",
   "metadata": {
    "id": "E51SRxK_2kB7"
   },
   "source": [
    "#### X,y train_test_split"
   ]
  },
  {
   "cell_type": "code",
   "execution_count": 34,
   "metadata": {
    "id": "piB6zMd82kCA",
    "outputId": "7055903d-b0e0-42c2-a491-d7c8faf525f0",
    "scrolled": true
   },
   "outputs": [],
   "source": [
    "from sklearn.model_selection import train_test_split\n",
    "np.random.seed(42)\n",
    "\n",
    "x_data = x_data.astype(np.float32)\n",
    "y_data = y_data.astype(np.float32)\n",
    "\n",
    "x_data_test = x_data_test.astype(np.float32)\n",
    "y_data_test = y_data_test.astype(np.float32)\n",
    "\n",
    "x_train, x_val, y_train, y_val = train_test_split(x_data, y_data, test_size=0.1, random_state=42)"
   ]
  },
  {
   "cell_type": "markdown",
   "metadata": {
    "id": "pM3_ekVq2kCC"
   },
   "source": [
    "####  Modeling"
   ]
  },
  {
   "cell_type": "code",
   "execution_count": 36,
   "metadata": {
    "id": "BXDy5Yce2kCE",
    "outputId": "9651f411-da51-40c5-db68-8f01904152d9",
    "scrolled": false
   },
   "outputs": [],
   "source": [
    "#기본 모델 + ㅣ2 규제 + dropout 30% + early stopping\n",
    "from tensorflow.keras.models import Sequential\n",
    "from tensorflow.keras.layers import LSTM, Dense, Dropout\n",
    "import tensorflow.keras as keras\n",
    "\n",
    "model3 = Sequential([\n",
    "    LSTM(64, activation='relu', input_shape=x_train.shape[1:3], kernel_regularizer=keras.regularizers.l2(0.01)),\n",
    "    Dropout(0.3),\n",
    "    Dense(32, activation='relu',kernel_regularizer=keras.regularizers.l2(0.01)),\n",
    "    Dropout(0.3),\n",
    "    Dense(len(actions), activation='softmax', kernel_regularizer=keras.regularizers.l2(0.01))\n",
    "])\n",
    "\n",
    "model3.compile(optimizer='adam', loss='categorical_crossentropy', metrics=['acc', metric_F1score])"
   ]
  },
  {
   "cell_type": "markdown",
   "metadata": {
    "id": "FfZl6Yri2kCF"
   },
   "source": [
    "#### Training"
   ]
  },
  {
   "cell_type": "code",
   "execution_count": 37,
   "metadata": {
    "id": "oU2EUK-62kCF",
    "outputId": "0ff6b74b-5831-4736-efea-d54844a4a5f7",
    "scrolled": true
   },
   "outputs": [
    {
     "name": "stdout",
     "output_type": "stream",
     "text": [
      "Epoch 1/50\n",
      "103/103 [==============================] - 3s 12ms/step - loss: 47.2489 - acc: 0.3649 - metric_F1score: 0.3636 - val_loss: 1.9386 - val_acc: 0.9231 - val_metric_F1score: 0.9269\n",
      "\n",
      "Epoch 00001: val_acc improved from -inf to 0.92308, saving model to models\\cooridinate_normalization_classifier.h5\n",
      "Epoch 2/50\n",
      "103/103 [==============================] - 1s 8ms/step - loss: 4.3795 - acc: 0.7307 - metric_F1score: 0.7309 - val_loss: 1.5707 - val_acc: 0.9423 - val_metric_F1score: 0.9426\n",
      "\n",
      "Epoch 00002: val_acc improved from 0.92308 to 0.94231, saving model to models\\cooridinate_normalization_classifier.h5\n",
      "Epoch 3/50\n",
      "103/103 [==============================] - 1s 9ms/step - loss: 2.9554 - acc: 0.8142 - metric_F1score: 0.8128 - val_loss: 1.2148 - val_acc: 0.9808 - val_metric_F1score: 0.9818\n",
      "\n",
      "Epoch 00003: val_acc improved from 0.94231 to 0.98077, saving model to models\\cooridinate_normalization_classifier.h5\n",
      "Epoch 4/50\n",
      "103/103 [==============================] - 1s 7ms/step - loss: 1.8038 - acc: 0.8920 - metric_F1score: 0.8920 - val_loss: 1.1038 - val_acc: 0.9863 - val_metric_F1score: 0.9870\n",
      "\n",
      "Epoch 00004: val_acc improved from 0.98077 to 0.98626, saving model to models\\cooridinate_normalization_classifier.h5\n",
      "Epoch 5/50\n",
      "103/103 [==============================] - 1s 7ms/step - loss: 1.4835 - acc: 0.9223 - metric_F1score: 0.9233 - val_loss: 1.0068 - val_acc: 0.9945 - val_metric_F1score: 0.9961\n",
      "\n",
      "Epoch 00005: val_acc improved from 0.98626 to 0.99451, saving model to models\\cooridinate_normalization_classifier.h5\n",
      "Epoch 6/50\n",
      "103/103 [==============================] - 1s 7ms/step - loss: 1.1935 - acc: 0.9478 - metric_F1score: 0.9470 - val_loss: 0.9667 - val_acc: 0.9863 - val_metric_F1score: 0.9870\n",
      "\n",
      "Epoch 00006: val_acc did not improve from 0.99451\n",
      "Epoch 7/50\n",
      "103/103 [==============================] - 1s 8ms/step - loss: 2.0623 - acc: 0.8674 - metric_F1score: 0.8663 - val_loss: 0.8979 - val_acc: 0.9918 - val_metric_F1score: 0.9921\n",
      "\n",
      "Epoch 00007: val_acc did not improve from 0.99451\n",
      "Epoch 8/50\n",
      "103/103 [==============================] - 1s 8ms/step - loss: 1.1903 - acc: 0.9127 - metric_F1score: 0.9158 - val_loss: 0.8454 - val_acc: 0.9973 - val_metric_F1score: 0.9974\n",
      "\n",
      "Epoch 00008: val_acc improved from 0.99451 to 0.99725, saving model to models\\cooridinate_normalization_classifier.h5\n",
      "Epoch 9/50\n",
      "103/103 [==============================] - 1s 8ms/step - loss: 1.1051 - acc: 0.9411 - metric_F1score: 0.9424 - val_loss: 0.8051 - val_acc: 0.9973 - val_metric_F1score: 0.9974\n",
      "\n",
      "Epoch 00009: val_acc did not improve from 0.99725\n",
      "Epoch 10/50\n",
      "103/103 [==============================] - 1s 8ms/step - loss: 0.9334 - acc: 0.9635 - metric_F1score: 0.9643 - val_loss: 0.7713 - val_acc: 0.9973 - val_metric_F1score: 0.9974\n",
      "\n",
      "Epoch 00010: val_acc did not improve from 0.99725\n",
      "Epoch 11/50\n",
      "103/103 [==============================] - 1s 8ms/step - loss: 0.8974 - acc: 0.9709 - metric_F1score: 0.9711 - val_loss: 0.7560 - val_acc: 0.9918 - val_metric_F1score: 0.9922\n",
      "\n",
      "Epoch 00011: val_acc did not improve from 0.99725\n",
      "Epoch 12/50\n",
      "103/103 [==============================] - 1s 7ms/step - loss: 0.8235 - acc: 0.9756 - metric_F1score: 0.9770 - val_loss: 0.7087 - val_acc: 0.9973 - val_metric_F1score: 0.9974\n",
      "\n",
      "Epoch 00012: val_acc did not improve from 0.99725\n",
      "Epoch 13/50\n",
      "103/103 [==============================] - 1s 8ms/step - loss: 0.7991 - acc: 0.9768 - metric_F1score: 0.9768 - val_loss: 0.6797 - val_acc: 0.9973 - val_metric_F1score: 0.9974\n",
      "\n",
      "Epoch 00013: val_acc did not improve from 0.99725\n",
      "Epoch 14/50\n",
      "103/103 [==============================] - 1s 8ms/step - loss: 0.7571 - acc: 0.9760 - metric_F1score: 0.9762 - val_loss: 0.6578 - val_acc: 0.9973 - val_metric_F1score: 0.9974\n",
      "\n",
      "Epoch 00014: val_acc did not improve from 0.99725\n",
      "Epoch 15/50\n",
      "103/103 [==============================] - 1s 7ms/step - loss: 0.7202 - acc: 0.9766 - metric_F1score: 0.9763 - val_loss: 0.6327 - val_acc: 0.9973 - val_metric_F1score: 0.9974\n",
      "\n",
      "Epoch 00015: val_acc did not improve from 0.99725\n",
      "Epoch 16/50\n",
      "103/103 [==============================] - 1s 7ms/step - loss: 0.6822 - acc: 0.9828 - metric_F1score: 0.9828 - val_loss: 0.6053 - val_acc: 1.0000 - val_metric_F1score: 1.0000\n",
      "\n",
      "Epoch 00016: val_acc improved from 0.99725 to 1.00000, saving model to models\\cooridinate_normalization_classifier.h5\n",
      "Epoch 17/50\n",
      "103/103 [==============================] - 1s 8ms/step - loss: 0.6628 - acc: 0.9821 - metric_F1score: 0.9827 - val_loss: 0.5837 - val_acc: 1.0000 - val_metric_F1score: 1.0000\n",
      "\n",
      "Epoch 00017: val_acc did not improve from 1.00000\n",
      "Epoch 18/50\n",
      "103/103 [==============================] - 1s 10ms/step - loss: 0.6189 - acc: 0.9878 - metric_F1score: 0.9894 - val_loss: 0.5631 - val_acc: 1.0000 - val_metric_F1score: 1.0000\n",
      "\n",
      "Epoch 00018: val_acc did not improve from 1.00000\n",
      "Epoch 19/50\n",
      "103/103 [==============================] - 1s 10ms/step - loss: 0.5846 - acc: 0.9923 - metric_F1score: 0.9923 - val_loss: 0.5466 - val_acc: 1.0000 - val_metric_F1score: 1.0000\n",
      "\n",
      "Epoch 00019: val_acc did not improve from 1.00000\n",
      "Epoch 20/50\n",
      "103/103 [==============================] - 1s 9ms/step - loss: 0.7281 - acc: 0.9748 - metric_F1score: 0.9749 - val_loss: 0.5500 - val_acc: 0.9973 - val_metric_F1score: 0.9974\n",
      "\n",
      "Epoch 00020: val_acc did not improve from 1.00000\n",
      "Epoch 21/50\n",
      "103/103 [==============================] - 1s 9ms/step - loss: 0.5959 - acc: 0.9805 - metric_F1score: 0.9802 - val_loss: 0.5247 - val_acc: 0.9973 - val_metric_F1score: 0.9974\n",
      "\n",
      "Epoch 00021: val_acc did not improve from 1.00000\n"
     ]
    }
   ],
   "source": [
    "early_stopping = EarlyStopping(monitor = 'val_metric_F1score', min_delta = 0, patience = 20, mode = 'auto')\n",
    "\n",
    "\n",
    "history3 = model3.fit(\n",
    "    x_train,\n",
    "    y_train,\n",
    "    validation_data=(x_val, y_val),\n",
    "    epochs=50,\n",
    "    callbacks=[\n",
    "        ModelCheckpoint('models/cooridinate_normalization_classifier.h5', monitor='val_acc', verbose=1, save_best_only=True, mode='auto'),\n",
    "        ReduceLROnPlateau(monitor='val_metric_F1score', factor=0.5, patience=50, verbose=1, mode='auto'),\n",
    "        early_stopping\n",
    "    \n",
    "    ]\n",
    ")"
   ]
  },
  {
   "cell_type": "code",
   "execution_count": 38,
   "metadata": {
    "id": "ryE9NZb02kCJ",
    "outputId": "9d2b1407-5964-426f-c98f-2dca01c9ccd8"
   },
   "outputs": [
    {
     "data": {
      "image/png": "[encoded data removed]",
      "text/plain": [
       "<Figure size 1152x720 with 2 Axes>"
      ]
     },
     "metadata": {
      "needs_background": "light"
     },
     "output_type": "display_data"
    }
   ],
   "source": [
    "import matplotlib.pyplot as plt\n",
    "\n",
    "fig, loss_ax = plt.subplots(figsize=(16, 10))\n",
    "acc_ax = loss_ax.twinx()\n",
    "\n",
    "loss_ax.set_xlabel('epoch')\n",
    "loss_ax.set_ylabel('loss')\n",
    "\n",
    "acc_ax.plot(history3.history['metric_F1score'], 'b', label='train f1')\n",
    "acc_ax.plot(history3.history['val_metric_F1score'], 'g', label='val f1')\n",
    "acc_ax.set_ylabel('f1-score')\n",
    "acc_ax.legend(loc='upper left')\n",
    "\n",
    "plt.show()"
   ]
  },
  {
   "cell_type": "code",
   "execution_count": 39,
   "metadata": {},
   "outputs": [],
   "source": [
    "from sklearn.metrics import multilabel_confusion_matrix\n",
    "from tensorflow.keras.models import load_model\n",
    "\n",
    "model3 = load_model('models/cooridinate_normalization_classifier.h5', custom_objects = {'metric_F1score':metric_F1score})"
   ]
  },
  {
   "cell_type": "code",
   "execution_count": 40,
   "metadata": {
    "id": "6SnjKeNw2kCL",
    "outputId": "f63b7009-913c-406c-e523-08c88c231f58"
   },
   "outputs": [
    {
     "data": {
      "text/plain": [
       "array([[[277,   0],\n",
       "        [  0,  87]],\n",
       "\n",
       "       [[288,   0],\n",
       "        [  0,  76]],\n",
       "\n",
       "       [[262,   0],\n",
       "        [  0, 102]],\n",
       "\n",
       "       [[265,   0],\n",
       "        [  0,  99]]], dtype=int64)"
      ]
     },
     "execution_count": 40,
     "metadata": {},
     "output_type": "execute_result"
    }
   ],
   "source": [
    "from sklearn.metrics import multilabel_confusion_matrix\n",
    "from tensorflow.keras.models import load_model\n",
    "\n",
    "y_pred3 = model3.predict(x_val)\n",
    "multilabel_confusion_matrix(np.argmax(y_val, axis=1), np.argmax(y_pred3, axis=1))"
   ]
  },
  {
   "cell_type": "code",
   "execution_count": 41,
   "metadata": {},
   "outputs": [
    {
     "name": "stdout",
     "output_type": "stream",
     "text": [
      "              precision    recall  f1-score   support\n",
      "\n",
      "           0       1.00      1.00      1.00        87\n",
      "           1       1.00      1.00      1.00        76\n",
      "           2       1.00      1.00      1.00       102\n",
      "           3       1.00      1.00      1.00        99\n",
      "\n",
      "    accuracy                           1.00       364\n",
      "   macro avg       1.00      1.00      1.00       364\n",
      "weighted avg       1.00      1.00      1.00       364\n",
      "\n"
     ]
    }
   ],
   "source": [
    "from sklearn.metrics import classification_report\n",
    "\n",
    "print(classification_report(np.argmax(y_val, axis=1), np.argmax(y_pred3, axis=1)))"
   ]
  },
  {
   "cell_type": "markdown",
   "metadata": {},
   "source": [
    "#### test data"
   ]
  },
  {
   "cell_type": "code",
   "execution_count": 42,
   "metadata": {
    "scrolled": true
   },
   "outputs": [],
   "source": [
    "pred3 = model.predict(x_data_test)"
   ]
  },
  {
   "cell_type": "code",
   "execution_count": 43,
   "metadata": {},
   "outputs": [
    {
     "data": {
      "text/plain": [
       "array([[[2862,   50],\n",
       "        [   2, 1019]],\n",
       "\n",
       "       [[3240,    0],\n",
       "        [  85,  608]],\n",
       "\n",
       "       [[2791,   49],\n",
       "        [  59, 1034]],\n",
       "\n",
       "       [[2736,   71],\n",
       "        [  24, 1102]]], dtype=int64)"
      ]
     },
     "execution_count": 43,
     "metadata": {},
     "output_type": "execute_result"
    }
   ],
   "source": [
    "multilabel_confusion_matrix(np.argmax(y_data_te, axis=1), np.argmax(pred3, axis=1))"
   ]
  },
  {
   "cell_type": "code",
   "execution_count": 44,
   "metadata": {},
   "outputs": [
    {
     "name": "stdout",
     "output_type": "stream",
     "text": [
      "              precision    recall  f1-score   support\n",
      "\n",
      "           0       0.95      1.00      0.98      1021\n",
      "           1       1.00      0.88      0.93       693\n",
      "           2       0.95      0.95      0.95      1093\n",
      "           3       0.94      0.98      0.96      1126\n",
      "\n",
      "    accuracy                           0.96      3933\n",
      "   macro avg       0.96      0.95      0.95      3933\n",
      "weighted avg       0.96      0.96      0.96      3933\n",
      "\n"
     ]
    }
   ],
   "source": [
    "print(classification_report(np.argmax(y_data_te, axis=1), np.argmax(pred3, axis=1)))"
   ]
  },
  {
   "cell_type": "markdown",
   "metadata": {},
   "source": [
    "위치 정규화는 오히려 성능이 저하되는 것을 확인할 수 있었습니다."
   ]
  },
  {
   "cell_type": "markdown",
   "metadata": {},
   "source": [
    "### 2. 결론"
   ]
  },
  {
   "cell_type": "markdown",
   "metadata": {},
   "source": [
    "![image](https://user-images.githubusercontent.com/82289435/169701385-e2a0407c-bcee-48d2-9714-086045860054.png)"
   ]
  },
  {
   "cell_type": "markdown",
   "metadata": {},
   "source": [
    "- 위 사진은 test 데이터셋인데 사진을 보시다싶이 손의 위치가 화면에 외곽에 있어도 다음과 같이 동작을 잘 인식하는 것을 확인할 수 있습니다.\n",
    "- 최종적으로 **벡터 정규화**를 활용하여 정규화를 하기로 결정하였습니다. 벡터 정규화로 데이터를 전처리하여 손이 외곽으로 치우친 테스트 데이터 셋에도 좋은 성능을 내는 모델을 제작할 수 있습니다.\n",
    "- 데이터에 따라서 벡터 정규화가 더 좋을수도 있고 위치 정규화가 더 좋을 수도 있으니, 여러분만의 커스텀 데이터를 제작하여 한 번 실습해보시길 바랍니다. :)\n",
    "- 실습 코드 : https://github.com/updaun/HandGestureRecognition\n"
   ]
  },
  {
   "cell_type": "markdown",
   "metadata": {},
   "source": [
    "### [마무리]\n",
    "- 5월 31일 오후 2시에 OpenCV 나머지 후속편들을 들고 오겠습니다~\n",
    "- **5월 31일 오후 2시에 만나요 🔥✨**\n",
    "\n",
    "# 감사합니다 :)"
   ]
  }
 ],
 "metadata": {
  "colab": {
   "collapsed_sections": [
    "NovsrRN12kCW",
    "nsZLMbtO2kCY"
   ],
   "name": "train_multi_hand_gesture3.ipynb",
   "provenance": []
  },
  "interpreter": {
   "hash": "eb8d34d53d16442ab45ee5ae0fcb3a4f0af0f2ef684aa754f8ae5e8bd03f8c50"
  },
  "kernelspec": {
   "display_name": "Python 3",
   "language": "python",
   "name": "python3"
  },
  "language_info": {
   "codemirror_mode": {
    "name": "ipython",
    "version": 3
   },
   "file_extension": ".py",
   "mimetype": "text/x-python",
   "name": "python",
   "nbconvert_exporter": "python",
   "pygments_lexer": "ipython3",
   "version": "3.8.5"
  }
 },
 "nbformat": 4,
 "nbformat_minor": 1
}
